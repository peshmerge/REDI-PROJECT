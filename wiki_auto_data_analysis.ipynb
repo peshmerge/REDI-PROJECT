{
 "cells": [
  {
   "cell_type": "markdown",
   "source": [
    "# Dataset data analysis"
   ],
   "metadata": {
    "collapsed": false,
    "pycharm": {
     "name": "#%% md\n"
    }
   }
  },
  {
   "cell_type": "code",
   "execution_count": 2,
   "metadata": {
    "collapsed": true,
    "pycharm": {
     "name": "#%%\n"
    }
   },
   "outputs": [
    {
     "name": "stderr",
     "output_type": "stream",
     "text": [
      "[nltk_data] Downloading package stopwords to\n",
      "[nltk_data]     /home/peshmerge/nltk_data...\n",
      "[nltk_data]   Package stopwords is already up-to-date!\n"
     ]
    }
   ],
   "source": [
    "import re\n",
    "import numpy as np\n",
    "from clyent import color\n",
    "from numpy import mean\n",
    "from numpy import std\n",
    "import pandas as pandas\n",
    "import matplotlib.pyplot as plt\n",
    "import seaborn as seaborn\n",
    "\n",
    "from sklearn.svm import LinearSVC\n",
    "from sklearn.naive_bayes import BernoulliNB\n",
    "from sklearn.linear_model import LogisticRegression\n",
    "from sklearn.model_selection import train_test_split\n",
    "from sklearn.feature_extraction.text import TfidfVectorizer\n",
    "from sklearn.model_selection import cross_val_score\n",
    "from sklearn.model_selection import KFold, StratifiedKFold\n",
    "from sklearn.metrics import confusion_matrix, classification_report,roc_auc_score,auc,roc_curve\n",
    "from sklearn.svm import SVC\n",
    "\n",
    "import nltk\n",
    "from nltk.corpus import stopwords\n",
    "from nltk.tokenize import word_tokenize\n",
    "from nltk.stem import WordNetLemmatizer\n",
    "nltk.download('stopwords')\n",
    "from nltk.corpus import stopwords\n",
    "\n",
    "from numba import jit\n",
    "import json\n",
    "import string\n",
    "punctuations_list = string.punctuation\n"
   ]
  },
  {
   "cell_type": "markdown",
   "source": [
    "### Data loading"
   ],
   "metadata": {
    "collapsed": false,
    "pycharm": {
     "name": "#%% md\n"
    }
   }
  },
  {
   "cell_type": "markdown",
   "source": [
    "#### Read both data files.\n",
    "Note: The file wiki-auto-part-2-data.json has no sentence_alignments, while the wiki-auto-part-1-data.json has sentence_alignment and paragraph_alignment"
   ],
   "metadata": {
    "collapsed": false,
    "pycharm": {
     "name": "#%% md\n"
    }
   }
  },
  {
   "cell_type": "code",
   "execution_count": 68,
   "outputs": [
    {
     "data": {
      "text/plain": "                                              simple  \\\n0  {'id': 702227, 'title': 'Lata Mondal', 'url': ...   \n1  {'id': 697879, 'title': 'Tuulikki Ukkola', 'ur...   \n2  {'id': 120452, 'title': 'Kot Sarang', 'url': '...   \n3  {'id': 276895, 'title': 'Elisabeth Charlotte o...   \n4  {'id': 697649, 'title': 'Rory Stewart', 'url':...   \n5  {'id': 413275, 'title': 'Not Without My Daught...   \n6  {'id': 256064, 'title': 'NBC Symphony Orchestr...   \n7  {'id': 516259, 'title': 'Priyanka Chopra', 'ur...   \n8  {'id': 103132, 'title': 'Michigan Internationa...   \n9  {'id': 425394, 'title': 'Loneliness', 'url': '...   \n\n                                              normal  \\\n0  {'id': 41918715, 'title': 'Lata Mondal', 'url'...   \n1  {'id': 60918445, 'title': 'Tuulikki Ukkola', '...   \n2  {'id': 14570332, 'title': 'Kot Sarang', 'url':...   \n3  {'id': 946890, 'title': 'Elizabeth Charlotte, ...   \n4  {'id': 2656347, 'title': 'Rory Stewart', 'url'...   \n5  {'id': 1808380, 'title': 'Not Without My Daugh...   \n6  {'id': 150698, 'title': 'NBC Symphony Orchestr...   \n7  {'id': 838950, 'title': 'Priyanka Chopra', 'ur...   \n8  {'id': 966394, 'title': 'Michigan Internationa...   \n9  {'id': 1570429, 'title': 'Loneliness', 'url': ...   \n\n                                  sentence_alignment  \\\n0  [[simple-702227-0-0, normal-41918715-0-0], [si...   \n1  [[simple-697879-0-0, normal-60918445-0-0], [si...   \n2         [[simple-120452-0-0, normal-14570332-0-0]]   \n3  [[simple-276895-0-0, normal-946890-0-0], [simp...   \n4  [[simple-697649-0-0, normal-2656347-0-0], [sim...   \n5  [[simple-413275-0-0, normal-1808380-0-0], [sim...   \n6  [[simple-256064-0-0, normal-150698-0-0], [simp...   \n7  [[simple-516259-0-0, normal-838950-0-0], [simp...   \n8  [[simple-103132-0-0, normal-966394-0-0], [simp...   \n9  [[simple-425394-0-0, normal-1570429-0-0], [sim...   \n\n                                 paragraph_alignment  \n0             [[simple-702227-0, normal-41918715-0]]  \n1  [[simple-697879-0, normal-60918445-0], [simple...  \n2             [[simple-120452-0, normal-14570332-0]]  \n3  [[simple-276895-0, normal-946890-0], [simple-2...  \n4  [[simple-697649-0, normal-2656347-0], [simple-...  \n5              [[simple-413275-0, normal-1808380-0]]  \n6               [[simple-256064-0, normal-150698-0]]  \n7  [[simple-516259-0, normal-838950-0], [simple-5...  \n8  [[simple-103132-0, normal-966394-0], [simple-1...  \n9  [[simple-425394-0, normal-1570429-0], [simple-...  ",
      "text/html": "<div>\n<style scoped>\n    .dataframe tbody tr th:only-of-type {\n        vertical-align: middle;\n    }\n\n    .dataframe tbody tr th {\n        vertical-align: top;\n    }\n\n    .dataframe thead th {\n        text-align: right;\n    }\n</style>\n<table border=\"1\" class=\"dataframe\">\n  <thead>\n    <tr style=\"text-align: right;\">\n      <th></th>\n      <th>simple</th>\n      <th>normal</th>\n      <th>sentence_alignment</th>\n      <th>paragraph_alignment</th>\n    </tr>\n  </thead>\n  <tbody>\n    <tr>\n      <th>0</th>\n      <td>{'id': 702227, 'title': 'Lata Mondal', 'url': ...</td>\n      <td>{'id': 41918715, 'title': 'Lata Mondal', 'url'...</td>\n      <td>[[simple-702227-0-0, normal-41918715-0-0], [si...</td>\n      <td>[[simple-702227-0, normal-41918715-0]]</td>\n    </tr>\n    <tr>\n      <th>1</th>\n      <td>{'id': 697879, 'title': 'Tuulikki Ukkola', 'ur...</td>\n      <td>{'id': 60918445, 'title': 'Tuulikki Ukkola', '...</td>\n      <td>[[simple-697879-0-0, normal-60918445-0-0], [si...</td>\n      <td>[[simple-697879-0, normal-60918445-0], [simple...</td>\n    </tr>\n    <tr>\n      <th>2</th>\n      <td>{'id': 120452, 'title': 'Kot Sarang', 'url': '...</td>\n      <td>{'id': 14570332, 'title': 'Kot Sarang', 'url':...</td>\n      <td>[[simple-120452-0-0, normal-14570332-0-0]]</td>\n      <td>[[simple-120452-0, normal-14570332-0]]</td>\n    </tr>\n    <tr>\n      <th>3</th>\n      <td>{'id': 276895, 'title': 'Elisabeth Charlotte o...</td>\n      <td>{'id': 946890, 'title': 'Elizabeth Charlotte, ...</td>\n      <td>[[simple-276895-0-0, normal-946890-0-0], [simp...</td>\n      <td>[[simple-276895-0, normal-946890-0], [simple-2...</td>\n    </tr>\n    <tr>\n      <th>4</th>\n      <td>{'id': 697649, 'title': 'Rory Stewart', 'url':...</td>\n      <td>{'id': 2656347, 'title': 'Rory Stewart', 'url'...</td>\n      <td>[[simple-697649-0-0, normal-2656347-0-0], [sim...</td>\n      <td>[[simple-697649-0, normal-2656347-0], [simple-...</td>\n    </tr>\n    <tr>\n      <th>5</th>\n      <td>{'id': 413275, 'title': 'Not Without My Daught...</td>\n      <td>{'id': 1808380, 'title': 'Not Without My Daugh...</td>\n      <td>[[simple-413275-0-0, normal-1808380-0-0], [sim...</td>\n      <td>[[simple-413275-0, normal-1808380-0]]</td>\n    </tr>\n    <tr>\n      <th>6</th>\n      <td>{'id': 256064, 'title': 'NBC Symphony Orchestr...</td>\n      <td>{'id': 150698, 'title': 'NBC Symphony Orchestr...</td>\n      <td>[[simple-256064-0-0, normal-150698-0-0], [simp...</td>\n      <td>[[simple-256064-0, normal-150698-0]]</td>\n    </tr>\n    <tr>\n      <th>7</th>\n      <td>{'id': 516259, 'title': 'Priyanka Chopra', 'ur...</td>\n      <td>{'id': 838950, 'title': 'Priyanka Chopra', 'ur...</td>\n      <td>[[simple-516259-0-0, normal-838950-0-0], [simp...</td>\n      <td>[[simple-516259-0, normal-838950-0], [simple-5...</td>\n    </tr>\n    <tr>\n      <th>8</th>\n      <td>{'id': 103132, 'title': 'Michigan Internationa...</td>\n      <td>{'id': 966394, 'title': 'Michigan Internationa...</td>\n      <td>[[simple-103132-0-0, normal-966394-0-0], [simp...</td>\n      <td>[[simple-103132-0, normal-966394-0], [simple-1...</td>\n    </tr>\n    <tr>\n      <th>9</th>\n      <td>{'id': 425394, 'title': 'Loneliness', 'url': '...</td>\n      <td>{'id': 1570429, 'title': 'Loneliness', 'url': ...</td>\n      <td>[[simple-425394-0-0, normal-1570429-0-0], [sim...</td>\n      <td>[[simple-425394-0, normal-1570429-0], [simple-...</td>\n    </tr>\n  </tbody>\n</table>\n</div>"
     },
     "execution_count": 68,
     "metadata": {},
     "output_type": "execute_result"
    }
   ],
   "source": [
    "dataset_cols = ['simple', 'normal', 'sentence_alignment','paragraph_alignment']\n",
    "df_wiki_part_1 = pandas.read_json(\n",
    "    'wiki-auto-part-1-data.json',\n",
    "    encoding='utf8',\n",
    "    orient='index'\n",
    ")\n",
    "df_wiki_part_1.head(10)"
   ],
   "metadata": {
    "collapsed": false,
    "pycharm": {
     "name": "#%%\n"
    }
   }
  },
  {
   "cell_type": "code",
   "execution_count": 69,
   "outputs": [
    {
     "data": {
      "text/plain": "                                              simple  \\\n0  {'id': 78856, 'title': 'Vex, Switzerland', 'ur...   \n1  {'id': 193292, 'title': 'South Portland, Maine...   \n2  {'id': 195874, 'title': 'Kosuke Suda', 'url': ...   \n3  {'id': 608316, 'title': 'Cheng Lim LRT Station...   \n4  {'id': 684573, 'title': 'Swifton, Arkansas', '...   \n5  {'id': 152877, 'title': 'Burley, Idaho', 'url'...   \n6  {'id': 200958, 'title': 'S.S.D. Licata 1931', ...   \n7  {'id': 519888, 'title': 'Vivian, Louisiana', '...   \n8  {'id': 342309, 'title': '201 BC', 'url': 'http...   \n9  {'id': 164901, 'title': 'Saint-Lys', 'url': 'h...   \n\n                                              normal sentence_alignment  \n0  {'id': 7023314, 'title': 'Vex, Switzerland', '...                 []  \n1  {'id': 115950, 'title': 'South Portland, Maine...                 []  \n2  {'id': 18746548, 'title': 'Kosuke Suda', 'url'...                 []  \n3  {'id': 3490013, 'title': 'Cheng Lim LRT statio...                 []  \n4  {'id': 107051, 'title': 'Swifton, Arkansas', '...                 []  \n5  {'id': 110663, 'title': 'Burley, Idaho', 'url'...                 []  \n6  {'id': 6968112, 'title': 'A.S.D. Licata 1931',...                 []  \n7  {'id': 115518, 'title': 'Vivian, Louisiana', '...                 []  \n8  {'id': 60498, 'title': '201 BC', 'url': 'https...                 []  \n9  {'id': 8104124, 'title': 'Saint-Lys', 'url': '...                 []  ",
      "text/html": "<div>\n<style scoped>\n    .dataframe tbody tr th:only-of-type {\n        vertical-align: middle;\n    }\n\n    .dataframe tbody tr th {\n        vertical-align: top;\n    }\n\n    .dataframe thead th {\n        text-align: right;\n    }\n</style>\n<table border=\"1\" class=\"dataframe\">\n  <thead>\n    <tr style=\"text-align: right;\">\n      <th></th>\n      <th>simple</th>\n      <th>normal</th>\n      <th>sentence_alignment</th>\n    </tr>\n  </thead>\n  <tbody>\n    <tr>\n      <th>0</th>\n      <td>{'id': 78856, 'title': 'Vex, Switzerland', 'ur...</td>\n      <td>{'id': 7023314, 'title': 'Vex, Switzerland', '...</td>\n      <td>[]</td>\n    </tr>\n    <tr>\n      <th>1</th>\n      <td>{'id': 193292, 'title': 'South Portland, Maine...</td>\n      <td>{'id': 115950, 'title': 'South Portland, Maine...</td>\n      <td>[]</td>\n    </tr>\n    <tr>\n      <th>2</th>\n      <td>{'id': 195874, 'title': 'Kosuke Suda', 'url': ...</td>\n      <td>{'id': 18746548, 'title': 'Kosuke Suda', 'url'...</td>\n      <td>[]</td>\n    </tr>\n    <tr>\n      <th>3</th>\n      <td>{'id': 608316, 'title': 'Cheng Lim LRT Station...</td>\n      <td>{'id': 3490013, 'title': 'Cheng Lim LRT statio...</td>\n      <td>[]</td>\n    </tr>\n    <tr>\n      <th>4</th>\n      <td>{'id': 684573, 'title': 'Swifton, Arkansas', '...</td>\n      <td>{'id': 107051, 'title': 'Swifton, Arkansas', '...</td>\n      <td>[]</td>\n    </tr>\n    <tr>\n      <th>5</th>\n      <td>{'id': 152877, 'title': 'Burley, Idaho', 'url'...</td>\n      <td>{'id': 110663, 'title': 'Burley, Idaho', 'url'...</td>\n      <td>[]</td>\n    </tr>\n    <tr>\n      <th>6</th>\n      <td>{'id': 200958, 'title': 'S.S.D. Licata 1931', ...</td>\n      <td>{'id': 6968112, 'title': 'A.S.D. Licata 1931',...</td>\n      <td>[]</td>\n    </tr>\n    <tr>\n      <th>7</th>\n      <td>{'id': 519888, 'title': 'Vivian, Louisiana', '...</td>\n      <td>{'id': 115518, 'title': 'Vivian, Louisiana', '...</td>\n      <td>[]</td>\n    </tr>\n    <tr>\n      <th>8</th>\n      <td>{'id': 342309, 'title': '201 BC', 'url': 'http...</td>\n      <td>{'id': 60498, 'title': '201 BC', 'url': 'https...</td>\n      <td>[]</td>\n    </tr>\n    <tr>\n      <th>9</th>\n      <td>{'id': 164901, 'title': 'Saint-Lys', 'url': 'h...</td>\n      <td>{'id': 8104124, 'title': 'Saint-Lys', 'url': '...</td>\n      <td>[]</td>\n    </tr>\n  </tbody>\n</table>\n</div>"
     },
     "execution_count": 69,
     "metadata": {},
     "output_type": "execute_result"
    }
   ],
   "source": [
    "dataset_cols = ['simple', 'normal', 'sentence_alignment']\n",
    "df_wiki_part_2 = pandas.read_json(\n",
    "    'wiki-auto-part-2-data.json',\n",
    "    encoding='utf8',\n",
    "    orient='index'\n",
    ")\n",
    "df_wiki_part_2.head(10)"
   ],
   "metadata": {
    "collapsed": false,
    "pycharm": {
     "name": "#%%\n"
    }
   }
  },
  {
   "cell_type": "code",
   "execution_count": null,
   "outputs": [],
   "source": [
    "\n",
    "'''\n",
    "leave it here for now!\n",
    "This function is used to convert the structure of the json files to group the data by [simple, normal, sentence_alignment]\n",
    "'''\n",
    "def reformat_json_file(input_file, outpu_file):\n",
    "    input_json_file = open(input_file,'r')\n",
    "    input_data = json.load(input_json_file)\n",
    "    input_json_file.close()\n",
    "    data_list = []\n",
    "    for key,value in input_data.items():\n",
    "        data_list.append(value)\n",
    "\n",
    "    output_json_file = open(outpu_file,\"w\")\n",
    "    output_data = json.dumps(data_list)\n",
    "    output_json_file.write(output_data)\n",
    "    output_json_file.close()\n",
    "    print(\"finished\")"
   ],
   "metadata": {
    "collapsed": false,
    "pycharm": {
     "name": "#%%\n"
    }
   }
  }
 ],
 "metadata": {
  "kernelspec": {
   "display_name": "Python 3",
   "language": "python",
   "name": "python3"
  },
  "language_info": {
   "codemirror_mode": {
    "name": "ipython",
    "version": 2
   },
   "file_extension": ".py",
   "mimetype": "text/x-python",
   "name": "python",
   "nbconvert_exporter": "python",
   "pygments_lexer": "ipython2",
   "version": "2.7.6"
  }
 },
 "nbformat": 4,
 "nbformat_minor": 0
}