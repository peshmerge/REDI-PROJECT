{
 "cells": [
  {
   "cell_type": "markdown",
   "source": [
    "# Dataset data analysis"
   ],
   "metadata": {
    "collapsed": false,
    "pycharm": {
     "name": "#%% md\n"
    }
   }
  },
  {
   "cell_type": "code",
   "execution_count": 3,
   "metadata": {
    "collapsed": true,
    "pycharm": {
     "name": "#%%\n"
    }
   },
   "outputs": [],
   "source": [
    "import math\n",
    "import re\n",
    "import numpy as np\n",
    "from clyent import color\n",
    "from numpy import mean\n",
    "from numpy import std\n",
    "import pandas as pandas\n",
    "import matplotlib.pyplot as plt\n",
    "import seaborn as seaborn\n",
    "\n",
    "\n",
    "import nltk\n",
    "\n",
    "from numba import jit\n",
    "import json\n",
    "import string\n",
    "punctuations_list = string.punctuation\n"
   ]
  },
  {
   "cell_type": "markdown",
   "source": [
    "### Data loading"
   ],
   "metadata": {
    "collapsed": false,
    "pycharm": {
     "name": "#%% md\n"
    }
   }
  },
  {
   "cell_type": "markdown",
   "source": [
    "#### Read both data files.\n",
    "Note: The file wiki-auto-part-2-data.json has no sentence_alignments, while the wiki-auto-part-1-data.json has sentence_alignment and paragraph_alignment"
   ],
   "metadata": {
    "collapsed": false,
    "pycharm": {
     "name": "#%% md\n"
    }
   }
  },
  {
   "cell_type": "code",
   "execution_count": 4,
   "outputs": [
    {
     "name": "stdout",
     "output_type": "stream",
     "text": [
      "CPU times: user 9.33 s, sys: 2.76 s, total: 12.1 s\n",
      "Wall time: 13.4 s\n"
     ]
    },
    {
     "data": {
      "text/plain": "                                              simple  \\\n0  {'id': 702227, 'title': 'Lata Mondal', 'url': ...   \n1  {'id': 697879, 'title': 'Tuulikki Ukkola', 'ur...   \n2  {'id': 120452, 'title': 'Kot Sarang', 'url': '...   \n3  {'id': 276895, 'title': 'Elisabeth Charlotte o...   \n4  {'id': 697649, 'title': 'Rory Stewart', 'url':...   \n5  {'id': 413275, 'title': 'Not Without My Daught...   \n6  {'id': 256064, 'title': 'NBC Symphony Orchestr...   \n7  {'id': 516259, 'title': 'Priyanka Chopra', 'ur...   \n8  {'id': 103132, 'title': 'Michigan Internationa...   \n9  {'id': 425394, 'title': 'Loneliness', 'url': '...   \n\n                                              normal  \\\n0  {'id': 41918715, 'title': 'Lata Mondal', 'url'...   \n1  {'id': 60918445, 'title': 'Tuulikki Ukkola', '...   \n2  {'id': 14570332, 'title': 'Kot Sarang', 'url':...   \n3  {'id': 946890, 'title': 'Elizabeth Charlotte, ...   \n4  {'id': 2656347, 'title': 'Rory Stewart', 'url'...   \n5  {'id': 1808380, 'title': 'Not Without My Daugh...   \n6  {'id': 150698, 'title': 'NBC Symphony Orchestr...   \n7  {'id': 838950, 'title': 'Priyanka Chopra', 'ur...   \n8  {'id': 966394, 'title': 'Michigan Internationa...   \n9  {'id': 1570429, 'title': 'Loneliness', 'url': ...   \n\n                                  sentence_alignment  \\\n0  [(simple-702227-0-0, normal-41918715-0-0), (si...   \n1  [(simple-697879-0-0, normal-60918445-0-0), (si...   \n2         [(simple-120452-0-0, normal-14570332-0-0)]   \n3  [(simple-276895-0-0, normal-946890-0-0), (simp...   \n4  [(simple-697649-0-0, normal-2656347-0-0), (sim...   \n5  [(simple-413275-0-0, normal-1808380-0-0), (sim...   \n6  [(simple-256064-0-0, normal-150698-0-0), (simp...   \n7  [(simple-516259-0-0, normal-838950-0-0), (simp...   \n8  [(simple-103132-0-0, normal-966394-0-0), (simp...   \n9  [(simple-425394-0-0, normal-1570429-0-0), (sim...   \n\n                                 paragraph_alignment  \n0             [(simple-702227-0, normal-41918715-0)]  \n1  [(simple-697879-0, normal-60918445-0), (simple...  \n2             [(simple-120452-0, normal-14570332-0)]  \n3  [(simple-276895-0, normal-946890-0), (simple-2...  \n4  [(simple-697649-0, normal-2656347-0), (simple-...  \n5              [(simple-413275-0, normal-1808380-0)]  \n6               [(simple-256064-0, normal-150698-0)]  \n7  [(simple-516259-0, normal-838950-0), (simple-5...  \n8  [(simple-103132-0, normal-966394-0), (simple-1...  \n9  [(simple-425394-0, normal-1570429-0), (simple-...  ",
      "text/html": "<div>\n<style scoped>\n    .dataframe tbody tr th:only-of-type {\n        vertical-align: middle;\n    }\n\n    .dataframe tbody tr th {\n        vertical-align: top;\n    }\n\n    .dataframe thead th {\n        text-align: right;\n    }\n</style>\n<table border=\"1\" class=\"dataframe\">\n  <thead>\n    <tr style=\"text-align: right;\">\n      <th></th>\n      <th>simple</th>\n      <th>normal</th>\n      <th>sentence_alignment</th>\n      <th>paragraph_alignment</th>\n    </tr>\n  </thead>\n  <tbody>\n    <tr>\n      <th>0</th>\n      <td>{'id': 702227, 'title': 'Lata Mondal', 'url': ...</td>\n      <td>{'id': 41918715, 'title': 'Lata Mondal', 'url'...</td>\n      <td>[(simple-702227-0-0, normal-41918715-0-0), (si...</td>\n      <td>[(simple-702227-0, normal-41918715-0)]</td>\n    </tr>\n    <tr>\n      <th>1</th>\n      <td>{'id': 697879, 'title': 'Tuulikki Ukkola', 'ur...</td>\n      <td>{'id': 60918445, 'title': 'Tuulikki Ukkola', '...</td>\n      <td>[(simple-697879-0-0, normal-60918445-0-0), (si...</td>\n      <td>[(simple-697879-0, normal-60918445-0), (simple...</td>\n    </tr>\n    <tr>\n      <th>2</th>\n      <td>{'id': 120452, 'title': 'Kot Sarang', 'url': '...</td>\n      <td>{'id': 14570332, 'title': 'Kot Sarang', 'url':...</td>\n      <td>[(simple-120452-0-0, normal-14570332-0-0)]</td>\n      <td>[(simple-120452-0, normal-14570332-0)]</td>\n    </tr>\n    <tr>\n      <th>3</th>\n      <td>{'id': 276895, 'title': 'Elisabeth Charlotte o...</td>\n      <td>{'id': 946890, 'title': 'Elizabeth Charlotte, ...</td>\n      <td>[(simple-276895-0-0, normal-946890-0-0), (simp...</td>\n      <td>[(simple-276895-0, normal-946890-0), (simple-2...</td>\n    </tr>\n    <tr>\n      <th>4</th>\n      <td>{'id': 697649, 'title': 'Rory Stewart', 'url':...</td>\n      <td>{'id': 2656347, 'title': 'Rory Stewart', 'url'...</td>\n      <td>[(simple-697649-0-0, normal-2656347-0-0), (sim...</td>\n      <td>[(simple-697649-0, normal-2656347-0), (simple-...</td>\n    </tr>\n    <tr>\n      <th>5</th>\n      <td>{'id': 413275, 'title': 'Not Without My Daught...</td>\n      <td>{'id': 1808380, 'title': 'Not Without My Daugh...</td>\n      <td>[(simple-413275-0-0, normal-1808380-0-0), (sim...</td>\n      <td>[(simple-413275-0, normal-1808380-0)]</td>\n    </tr>\n    <tr>\n      <th>6</th>\n      <td>{'id': 256064, 'title': 'NBC Symphony Orchestr...</td>\n      <td>{'id': 150698, 'title': 'NBC Symphony Orchestr...</td>\n      <td>[(simple-256064-0-0, normal-150698-0-0), (simp...</td>\n      <td>[(simple-256064-0, normal-150698-0)]</td>\n    </tr>\n    <tr>\n      <th>7</th>\n      <td>{'id': 516259, 'title': 'Priyanka Chopra', 'ur...</td>\n      <td>{'id': 838950, 'title': 'Priyanka Chopra', 'ur...</td>\n      <td>[(simple-516259-0-0, normal-838950-0-0), (simp...</td>\n      <td>[(simple-516259-0, normal-838950-0), (simple-5...</td>\n    </tr>\n    <tr>\n      <th>8</th>\n      <td>{'id': 103132, 'title': 'Michigan Internationa...</td>\n      <td>{'id': 966394, 'title': 'Michigan Internationa...</td>\n      <td>[(simple-103132-0-0, normal-966394-0-0), (simp...</td>\n      <td>[(simple-103132-0, normal-966394-0), (simple-1...</td>\n    </tr>\n    <tr>\n      <th>9</th>\n      <td>{'id': 425394, 'title': 'Loneliness', 'url': '...</td>\n      <td>{'id': 1570429, 'title': 'Loneliness', 'url': ...</td>\n      <td>[(simple-425394-0-0, normal-1570429-0-0), (sim...</td>\n      <td>[(simple-425394-0, normal-1570429-0), (simple-...</td>\n    </tr>\n  </tbody>\n</table>\n</div>"
     },
     "execution_count": 4,
     "metadata": {},
     "output_type": "execute_result"
    }
   ],
   "source": [
    "%%time\n",
    "dataset_cols_df_wiki_part_1 = ['simple', 'normal', 'sentence_alignment','paragraph_alignment']\n",
    "df_wiki_part_1 = pandas.read_json(\n",
    "    'wiki-auto-part-1-data.json',\n",
    "    encoding='utf8',\n",
    "    orient='index'\n",
    ")\n",
    "# Convert the list of lists sentence_alignment and paragraph_alignment into a list of tuples\n",
    "df_wiki_part_1.sentence_alignment = df_wiki_part_1.sentence_alignment.apply(lambda alignment_list: [tuple(alignment) for alignment in alignment_list])\n",
    "df_wiki_part_1.paragraph_alignment = df_wiki_part_1.paragraph_alignment.apply(lambda alignment_list: [tuple(alignment) for alignment in alignment_list])\n",
    "df_wiki_part_1.head(10)"
   ],
   "metadata": {
    "collapsed": false,
    "pycharm": {
     "name": "#%%\n"
    }
   }
  },
  {
   "cell_type": "code",
   "execution_count": 5,
   "outputs": [
    {
     "name": "stdout",
     "output_type": "stream",
     "text": [
      "CPU times: user 464 ms, sys: 323 ms, total: 787 ms\n",
      "Wall time: 1.05 s\n"
     ]
    },
    {
     "data": {
      "text/plain": "                                              simple  \\\n0  {'id': 78856, 'title': 'Vex, Switzerland', 'ur...   \n1  {'id': 193292, 'title': 'South Portland, Maine...   \n2  {'id': 195874, 'title': 'Kosuke Suda', 'url': ...   \n3  {'id': 608316, 'title': 'Cheng Lim LRT Station...   \n4  {'id': 684573, 'title': 'Swifton, Arkansas', '...   \n5  {'id': 152877, 'title': 'Burley, Idaho', 'url'...   \n6  {'id': 200958, 'title': 'S.S.D. Licata 1931', ...   \n7  {'id': 519888, 'title': 'Vivian, Louisiana', '...   \n8  {'id': 342309, 'title': '201 BC', 'url': 'http...   \n9  {'id': 164901, 'title': 'Saint-Lys', 'url': 'h...   \n\n                                              normal sentence_alignment  \\\n0  {'id': 7023314, 'title': 'Vex, Switzerland', '...                 []   \n1  {'id': 115950, 'title': 'South Portland, Maine...                 []   \n2  {'id': 18746548, 'title': 'Kosuke Suda', 'url'...                 []   \n3  {'id': 3490013, 'title': 'Cheng Lim LRT statio...                 []   \n4  {'id': 107051, 'title': 'Swifton, Arkansas', '...                 []   \n5  {'id': 110663, 'title': 'Burley, Idaho', 'url'...                 []   \n6  {'id': 6968112, 'title': 'A.S.D. Licata 1931',...                 []   \n7  {'id': 115518, 'title': 'Vivian, Louisiana', '...                 []   \n8  {'id': 60498, 'title': '201 BC', 'url': 'https...                 []   \n9  {'id': 8104124, 'title': 'Saint-Lys', 'url': '...                 []   \n\n  paragraph_alignment  \n0                  []  \n1                  []  \n2                  []  \n3                  []  \n4                  []  \n5                  []  \n6                  []  \n7                  []  \n8                  []  \n9                  []  ",
      "text/html": "<div>\n<style scoped>\n    .dataframe tbody tr th:only-of-type {\n        vertical-align: middle;\n    }\n\n    .dataframe tbody tr th {\n        vertical-align: top;\n    }\n\n    .dataframe thead th {\n        text-align: right;\n    }\n</style>\n<table border=\"1\" class=\"dataframe\">\n  <thead>\n    <tr style=\"text-align: right;\">\n      <th></th>\n      <th>simple</th>\n      <th>normal</th>\n      <th>sentence_alignment</th>\n      <th>paragraph_alignment</th>\n    </tr>\n  </thead>\n  <tbody>\n    <tr>\n      <th>0</th>\n      <td>{'id': 78856, 'title': 'Vex, Switzerland', 'ur...</td>\n      <td>{'id': 7023314, 'title': 'Vex, Switzerland', '...</td>\n      <td>[]</td>\n      <td>[]</td>\n    </tr>\n    <tr>\n      <th>1</th>\n      <td>{'id': 193292, 'title': 'South Portland, Maine...</td>\n      <td>{'id': 115950, 'title': 'South Portland, Maine...</td>\n      <td>[]</td>\n      <td>[]</td>\n    </tr>\n    <tr>\n      <th>2</th>\n      <td>{'id': 195874, 'title': 'Kosuke Suda', 'url': ...</td>\n      <td>{'id': 18746548, 'title': 'Kosuke Suda', 'url'...</td>\n      <td>[]</td>\n      <td>[]</td>\n    </tr>\n    <tr>\n      <th>3</th>\n      <td>{'id': 608316, 'title': 'Cheng Lim LRT Station...</td>\n      <td>{'id': 3490013, 'title': 'Cheng Lim LRT statio...</td>\n      <td>[]</td>\n      <td>[]</td>\n    </tr>\n    <tr>\n      <th>4</th>\n      <td>{'id': 684573, 'title': 'Swifton, Arkansas', '...</td>\n      <td>{'id': 107051, 'title': 'Swifton, Arkansas', '...</td>\n      <td>[]</td>\n      <td>[]</td>\n    </tr>\n    <tr>\n      <th>5</th>\n      <td>{'id': 152877, 'title': 'Burley, Idaho', 'url'...</td>\n      <td>{'id': 110663, 'title': 'Burley, Idaho', 'url'...</td>\n      <td>[]</td>\n      <td>[]</td>\n    </tr>\n    <tr>\n      <th>6</th>\n      <td>{'id': 200958, 'title': 'S.S.D. Licata 1931', ...</td>\n      <td>{'id': 6968112, 'title': 'A.S.D. Licata 1931',...</td>\n      <td>[]</td>\n      <td>[]</td>\n    </tr>\n    <tr>\n      <th>7</th>\n      <td>{'id': 519888, 'title': 'Vivian, Louisiana', '...</td>\n      <td>{'id': 115518, 'title': 'Vivian, Louisiana', '...</td>\n      <td>[]</td>\n      <td>[]</td>\n    </tr>\n    <tr>\n      <th>8</th>\n      <td>{'id': 342309, 'title': '201 BC', 'url': 'http...</td>\n      <td>{'id': 60498, 'title': '201 BC', 'url': 'https...</td>\n      <td>[]</td>\n      <td>[]</td>\n    </tr>\n    <tr>\n      <th>9</th>\n      <td>{'id': 164901, 'title': 'Saint-Lys', 'url': 'h...</td>\n      <td>{'id': 8104124, 'title': 'Saint-Lys', 'url': '...</td>\n      <td>[]</td>\n      <td>[]</td>\n    </tr>\n  </tbody>\n</table>\n</div>"
     },
     "execution_count": 5,
     "metadata": {},
     "output_type": "execute_result"
    }
   ],
   "source": [
    "%%time\n",
    "dataset_cols_df_wiki_part_2 = ['simple', 'normal', 'sentence_alignment']\n",
    "df_wiki_part_2 = pandas.read_json(\n",
    "    'wiki-auto-part-2-data.json',\n",
    "    encoding='utf8',\n",
    "    orient='index'\n",
    ")\n",
    "# add new column to the dataset to make similar to the first dataset\n",
    "df_wiki_part_2['paragraph_alignment'] = [[] for _ in range(df_wiki_part_2.shape[0])]\n",
    "# Convert the list of lists sentence_alignment and paragraph_alignment into a list of tuples\n",
    "df_wiki_part_2.sentence_alignment = df_wiki_part_2.sentence_alignment.apply(lambda alignment_list: [tuple(alignment) for alignment in alignment_list])\n",
    "df_wiki_part_2.paragraph_alignment = df_wiki_part_2.paragraph_alignment.apply(lambda alignment_list: [tuple(alignment) for alignment in alignment_list])\n",
    "df_wiki_part_2.head(10)"
   ],
   "metadata": {
    "collapsed": false,
    "pycharm": {
     "name": "#%%\n"
    }
   }
  },
  {
   "cell_type": "code",
   "execution_count": 6,
   "outputs": [
    {
     "name": "stdout",
     "output_type": "stream",
     "text": [
      "# of paired articles for wiki part-2 13036\n",
      "# of paired articles with alignments for wiki part-2 970\n",
      "# of paired articles for wiki part-1  125059\n",
      "# of paired articles with alignments for wiki part-1  121840\n"
     ]
    }
   ],
   "source": [
    "print(\"# of paired articles for wiki part-2\", len(df_wiki_part_2))\n",
    "print(\"# of paired articles with alignments for wiki part-2\", sum(map(lambda sentence_alignment: len(sentence_alignment)> 0, df_wiki_part_2.sentence_alignment)))\n",
    "print(\"# of paired articles for wiki part-1 \", len(df_wiki_part_1))\n",
    "print(\"# of paired articles with alignments for wiki part-1 \", sum(map(lambda sentence_alignment: len(sentence_alignment)> 0, df_wiki_part_1.sentence_alignment)))"
   ],
   "metadata": {
    "collapsed": false,
    "pycharm": {
     "name": "#%%\n"
    }
   }
  },
  {
   "cell_type": "markdown",
   "source": [
    "# Concatenate both dataframes"
   ],
   "metadata": {
    "collapsed": false,
    "pycharm": {
     "name": "#%% md\n"
    }
   }
  },
  {
   "cell_type": "code",
   "execution_count": 36,
   "outputs": [
    {
     "data": {
      "text/plain": "                                                   simple  \\\n0       {'id': 702227, 'title': 'Lata Mondal', 'url': ...   \n1       {'id': 697879, 'title': 'Tuulikki Ukkola', 'ur...   \n2       {'id': 120452, 'title': 'Kot Sarang', 'url': '...   \n3       {'id': 276895, 'title': 'Elisabeth Charlotte o...   \n4       {'id': 697649, 'title': 'Rory Stewart', 'url':...   \n...                                                   ...   \n138090  {'id': 158778, 'title': 'Marcilly-le-Hayer', '...   \n138091  {'id': 83891, 'title': 'Geltwil', 'url': 'http...   \n138092  {'id': 248454, 'title': 'Koichi Hashimoto', 'u...   \n138093  {'id': 156264, 'title': 'Calmar, Iowa', 'url':...   \n138094  {'id': 152116, 'title': 'Mendionde', 'url': 'h...   \n\n                                                   normal  \\\n0       {'id': 41918715, 'title': 'Lata Mondal', 'url'...   \n1       {'id': 60918445, 'title': 'Tuulikki Ukkola', '...   \n2       {'id': 14570332, 'title': 'Kot Sarang', 'url':...   \n3       {'id': 946890, 'title': 'Elizabeth Charlotte, ...   \n4       {'id': 2656347, 'title': 'Rory Stewart', 'url'...   \n...                                                   ...   \n138090  {'id': 15432782, 'title': 'Marcilly-le-Hayer',...   \n138091  {'id': 6035836, 'title': 'Geltwil', 'url': 'ht...   \n138092  {'id': 36078529, 'title': 'Koichi Hashimoto (f...   \n138093  {'id': 114348, 'title': 'Calmar, Iowa', 'url':...   \n138094  {'id': 2933606, 'title': 'Mendionde', 'url': '...   \n\n                                       sentence_alignment  \\\n0       [(simple-702227-0-0, normal-41918715-0-0), (si...   \n1       [(simple-697879-0-0, normal-60918445-0-0), (si...   \n2              [(simple-120452-0-0, normal-14570332-0-0)]   \n3       [(simple-276895-0-0, normal-946890-0-0), (simp...   \n4       [(simple-697649-0-0, normal-2656347-0-0), (sim...   \n...                                                   ...   \n138090                                                 []   \n138091                                                 []   \n138092                                                 []   \n138093                                                 []   \n138094                                                 []   \n\n                                      paragraph_alignment  \n0                  [(simple-702227-0, normal-41918715-0)]  \n1       [(simple-697879-0, normal-60918445-0), (simple...  \n2                  [(simple-120452-0, normal-14570332-0)]  \n3       [(simple-276895-0, normal-946890-0), (simple-2...  \n4       [(simple-697649-0, normal-2656347-0), (simple-...  \n...                                                   ...  \n138090                                                 []  \n138091                                                 []  \n138092                                                 []  \n138093                                                 []  \n138094                                                 []  \n\n[138095 rows x 4 columns]",
      "text/html": "<div>\n<style scoped>\n    .dataframe tbody tr th:only-of-type {\n        vertical-align: middle;\n    }\n\n    .dataframe tbody tr th {\n        vertical-align: top;\n    }\n\n    .dataframe thead th {\n        text-align: right;\n    }\n</style>\n<table border=\"1\" class=\"dataframe\">\n  <thead>\n    <tr style=\"text-align: right;\">\n      <th></th>\n      <th>simple</th>\n      <th>normal</th>\n      <th>sentence_alignment</th>\n      <th>paragraph_alignment</th>\n    </tr>\n  </thead>\n  <tbody>\n    <tr>\n      <th>0</th>\n      <td>{'id': 702227, 'title': 'Lata Mondal', 'url': ...</td>\n      <td>{'id': 41918715, 'title': 'Lata Mondal', 'url'...</td>\n      <td>[(simple-702227-0-0, normal-41918715-0-0), (si...</td>\n      <td>[(simple-702227-0, normal-41918715-0)]</td>\n    </tr>\n    <tr>\n      <th>1</th>\n      <td>{'id': 697879, 'title': 'Tuulikki Ukkola', 'ur...</td>\n      <td>{'id': 60918445, 'title': 'Tuulikki Ukkola', '...</td>\n      <td>[(simple-697879-0-0, normal-60918445-0-0), (si...</td>\n      <td>[(simple-697879-0, normal-60918445-0), (simple...</td>\n    </tr>\n    <tr>\n      <th>2</th>\n      <td>{'id': 120452, 'title': 'Kot Sarang', 'url': '...</td>\n      <td>{'id': 14570332, 'title': 'Kot Sarang', 'url':...</td>\n      <td>[(simple-120452-0-0, normal-14570332-0-0)]</td>\n      <td>[(simple-120452-0, normal-14570332-0)]</td>\n    </tr>\n    <tr>\n      <th>3</th>\n      <td>{'id': 276895, 'title': 'Elisabeth Charlotte o...</td>\n      <td>{'id': 946890, 'title': 'Elizabeth Charlotte, ...</td>\n      <td>[(simple-276895-0-0, normal-946890-0-0), (simp...</td>\n      <td>[(simple-276895-0, normal-946890-0), (simple-2...</td>\n    </tr>\n    <tr>\n      <th>4</th>\n      <td>{'id': 697649, 'title': 'Rory Stewart', 'url':...</td>\n      <td>{'id': 2656347, 'title': 'Rory Stewart', 'url'...</td>\n      <td>[(simple-697649-0-0, normal-2656347-0-0), (sim...</td>\n      <td>[(simple-697649-0, normal-2656347-0), (simple-...</td>\n    </tr>\n    <tr>\n      <th>...</th>\n      <td>...</td>\n      <td>...</td>\n      <td>...</td>\n      <td>...</td>\n    </tr>\n    <tr>\n      <th>138090</th>\n      <td>{'id': 158778, 'title': 'Marcilly-le-Hayer', '...</td>\n      <td>{'id': 15432782, 'title': 'Marcilly-le-Hayer',...</td>\n      <td>[]</td>\n      <td>[]</td>\n    </tr>\n    <tr>\n      <th>138091</th>\n      <td>{'id': 83891, 'title': 'Geltwil', 'url': 'http...</td>\n      <td>{'id': 6035836, 'title': 'Geltwil', 'url': 'ht...</td>\n      <td>[]</td>\n      <td>[]</td>\n    </tr>\n    <tr>\n      <th>138092</th>\n      <td>{'id': 248454, 'title': 'Koichi Hashimoto', 'u...</td>\n      <td>{'id': 36078529, 'title': 'Koichi Hashimoto (f...</td>\n      <td>[]</td>\n      <td>[]</td>\n    </tr>\n    <tr>\n      <th>138093</th>\n      <td>{'id': 156264, 'title': 'Calmar, Iowa', 'url':...</td>\n      <td>{'id': 114348, 'title': 'Calmar, Iowa', 'url':...</td>\n      <td>[]</td>\n      <td>[]</td>\n    </tr>\n    <tr>\n      <th>138094</th>\n      <td>{'id': 152116, 'title': 'Mendionde', 'url': 'h...</td>\n      <td>{'id': 2933606, 'title': 'Mendionde', 'url': '...</td>\n      <td>[]</td>\n      <td>[]</td>\n    </tr>\n  </tbody>\n</table>\n<p>138095 rows × 4 columns</p>\n</div>"
     },
     "metadata": {},
     "output_type": "display_data"
    },
    {
     "name": "stdout",
     "output_type": "stream",
     "text": [
      "138095\n",
      "138095\n"
     ]
    }
   ],
   "source": [
    "df_dataset = pandas.concat([df_wiki_part_1,df_wiki_part_2])\n",
    "df_dataset.reset_index(drop=True,inplace=True)\n",
    "display(df_dataset)\n",
    "# verify the length of the newly created dataframe to be len(df_wiki_part_2)+len(df_wiki_part_1)\n",
    "print(len(df_wiki_part_2)+len(df_wiki_part_1))\n",
    "print(len(df_dataset))\n"
   ],
   "metadata": {
    "collapsed": false,
    "pycharm": {
     "name": "#%%\n"
    }
   }
  },
  {
   "cell_type": "markdown",
   "source": [
    "### Piechart to show the percentage"
   ],
   "metadata": {
    "collapsed": false,
    "pycharm": {
     "name": "#%% md\n"
    }
   }
  },
  {
   "cell_type": "code",
   "execution_count": 43,
   "outputs": [],
   "source": [
    "'''\n",
    "The alignments between the simplified and the normal (original) sentences are saved in the sentence_alignment field/column in the dataset. If the normal sentence is found in the sentence_alignment column, it\n",
    "means that the sentence is simplified hence not deleted in the simplified text. If we don't find the normal sentence back in the sentence_alignment list, it means the sentence was not simplified, hence deleted.\n",
    "'''\n",
    "def calculate_percentage_deleted_sentences(dataframe):\n",
    "    # The number of normal sentences in the dataframe\n",
    "    number_of_normal_sentences = sum([len(normal_sentences['content']) for normal_sentences in dataframe['normal']])\n",
    "    # The number of simplified sentences in the dataframe\n",
    "    number_of_simplified_sentences = sum([len(normal_sentences['content']) for normal_sentences in dataframe['simple']])\n",
    "\n",
    "    # Counter. We assume that all normal sentences are deleted.\n",
    "    deleted_sentences_count = number_of_normal_sentences\n",
    "    # Loop through all elements in the dataframe\n",
    "    for i in range(len(dataframe)):\n",
    "        # Take the list of normal sentences from the current item in the dataframe\n",
    "        normal_sentences = list(dataframe.iloc[i].normal['content'].keys())\n",
    "        '''\n",
    "        If the field sentence_alignment (list of tuples (simplified sentence, normal sentence)) contains an element from the normal_sentences, this means that the normal sentence\n",
    "        is aligned to a simplified sentence, thus we decrease the counter by the amount of found matches (because a normal sentence could be aligned to more than 1 simple sentence\n",
    "        '''\n",
    "        deleted_sentences_count = deleted_sentences_count - len ([(simple,normal) for simple, normal in dataframe.iloc[i].sentence_alignment if normal in normal_sentences])\n",
    "    print(\"# of normal sentences in the dataframe \" , number_of_normal_sentences)\n",
    "    print(\"# of simplfied sentences in the dataframe \" , number_of_simplified_sentences)\n",
    "\n",
    "    print(\"# of deleted sentences in the dataframe \", deleted_sentences_count)\n",
    "    print(\"Percentage of deleted sentences {:.2f}\".format((deleted_sentences_count/ number_of_normal_sentences) * 100))\n",
    "    fig = plt.figure(figsize =(10, 7))\n",
    "    plt.pie([(number_of_normal_sentences-deleted_sentences_count),deleted_sentences_count], labels = ['Not deleted sentences','deleted sentences'], autopct='%1.1f%%')"
   ],
   "metadata": {
    "collapsed": false,
    "pycharm": {
     "name": "#%%\n"
    }
   }
  },
  {
   "cell_type": "code",
   "execution_count": 44,
   "outputs": [
    {
     "name": "stdout",
     "output_type": "stream",
     "text": [
      "# of normal sentences in the dataframe  10144476\n",
      "# of simplfied sentences in the dataframe  1241671\n",
      "# of deleted sentences in the dataframe  9458707\n",
      "Percentage of deleted sentences 93.24\n",
      "CPU times: user 15.2 s, sys: 0 ns, total: 15.2 s\n",
      "Wall time: 15.2 s\n"
     ]
    },
    {
     "data": {
      "text/plain": "<Figure size 720x504 with 1 Axes>",
      "image/png": "[encoded data removed]"
     },
     "metadata": {},
     "output_type": "display_data"
    }
   ],
   "source": [
    "%%time\n",
    "#For the concatentaed dataframe\n",
    "calculate_percentage_deleted_sentences(df_dataset)"
   ],
   "metadata": {
    "collapsed": false,
    "pycharm": {
     "name": "#%%\n"
    }
   }
  },
  {
   "cell_type": "code",
   "execution_count": 45,
   "outputs": [
    {
     "name": "stdout",
     "output_type": "stream",
     "text": [
      "# of normal sentences in the dataframe  9618942\n",
      "# of simplfied sentences in the dataframe  1228635\n",
      "# of deleted sentences in the dataframe  8934143\n",
      "Percentage of deleted sentences 92.88\n",
      "CPU times: user 13.6 s, sys: 1.57 ms, total: 13.6 s\n",
      "Wall time: 13.6 s\n"
     ]
    },
    {
     "data": {
      "text/plain": "<Figure size 720x504 with 1 Axes>",
      "image/png": "[encoded data removed]"
     },
     "metadata": {},
     "output_type": "display_data"
    }
   ],
   "source": [
    "%%time\n",
    "#For the first wiki_1 part\n",
    "calculate_percentage_deleted_sentences(df_wiki_part_1)"
   ],
   "metadata": {
    "collapsed": false,
    "pycharm": {
     "name": "#%%\n"
    }
   }
  },
  {
   "cell_type": "code",
   "execution_count": 46,
   "outputs": [
    {
     "name": "stdout",
     "output_type": "stream",
     "text": [
      "# of normal sentences in the dataframe  525534\n",
      "# of simplfied sentences in the dataframe  13036\n",
      "# of deleted sentences in the dataframe  524564\n",
      "Percentage of deleted sentences 99.82\n",
      "CPU times: user 1.61 s, sys: 3.83 ms, total: 1.61 s\n",
      "Wall time: 1.61 s\n"
     ]
    },
    {
     "data": {
      "text/plain": "<Figure size 720x504 with 1 Axes>",
      "image/png": "[encoded data removed]"
     },
     "metadata": {},
     "output_type": "display_data"
    }
   ],
   "source": [
    "%%time\n",
    "#For the first wiki_2 part\n",
    "calculate_percentage_deleted_sentences(df_wiki_part_2)"
   ],
   "metadata": {
    "collapsed": false,
    "pycharm": {
     "name": "#%%\n"
    }
   }
  },
  {
   "cell_type": "code",
   "execution_count": null,
   "outputs": [],
   "source": [
    "'''\n",
    "leave it here for now!\n",
    "This function is used to convert the structure of the json files to group the data by [simple, normal, sentence_alignment]\n",
    "'''\n",
    "def reformat_json_file(input_file, outpu_file):\n",
    "    input_json_file = open(input_file,'r')\n",
    "    input_data = json.load(input_json_file)\n",
    "    input_json_file.close()\n",
    "    data_list = []\n",
    "    for key,value in input_data.items():\n",
    "        data_list.append(value)\n",
    "\n",
    "    output_json_file = open(outpu_file,\"w\")\n",
    "    output_data = json.dumps(data_list)\n",
    "    output_json_file.write(output_data)\n",
    "    output_json_file.close()\n",
    "    print(\"finished\")"
   ],
   "metadata": {
    "collapsed": false,
    "pycharm": {
     "name": "#%%\n"
    }
   }
  }
 ],
 "metadata": {
  "kernelspec": {
   "display_name": "Python 3",
   "language": "python",
   "name": "python3"
  },
  "language_info": {
   "codemirror_mode": {
    "name": "ipython",
    "version": 2
   },
   "file_extension": ".py",
   "mimetype": "text/x-python",
   "name": "python",
   "nbconvert_exporter": "python",
   "pygments_lexer": "ipython2",
   "version": "2.7.6"
  }
 },
 "nbformat": 4,
 "nbformat_minor": 0
}