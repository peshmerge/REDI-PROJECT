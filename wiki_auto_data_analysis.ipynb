{
 "cells": [
  {
   "cell_type": "markdown",
   "metadata": {
    "collapsed": false,
    "pycharm": {
     "name": "#%% md\n"
    }
   },
   "source": [
    "# Dataset data analysis"
   ]
  },
  {
   "cell_type": "code",
   "execution_count": 1,
   "metadata": {
    "collapsed": true,
    "pycharm": {
     "name": "#%%\n"
    }
   },
   "outputs": [],
   "source": [
    "import pandas as pandas\n",
    "import matplotlib.pyplot as plt\n",
    "import string\n",
    "import os\n",
    "punctuations_list = string.punctuation"
   ]
  },
  {
   "cell_type": "markdown",
   "metadata": {
    "collapsed": false,
    "pycharm": {
     "name": "#%% md\n"
    }
   },
   "source": [
    "### Data loading"
   ]
  },
  {
   "cell_type": "markdown",
   "metadata": {
    "collapsed": false,
    "pycharm": {
     "name": "#%% md\n"
    }
   },
   "source": [
    "#### Read both data files.\n",
    "Note: The file wiki-auto-part-2-data.json has no sentence_alignments, while the wiki-auto-part-1-data.json has sentence_alignment and paragraph_alignment"
   ]
  },
  {
   "cell_type": "code",
   "execution_count": 2,
   "metadata": {
    "collapsed": false,
    "pycharm": {
     "name": "#%%\n"
    }
   },
   "outputs": [
    {
     "name": "stdout",
     "output_type": "stream",
     "text": [
      "CPU times: user 11.2 s, sys: 5.56 s, total: 16.8 s\n",
      "Wall time: 19.5 s\n"
     ]
    },
    {
     "data": {
      "text/html": [
       "<div>\n",
       "<style scoped>\n",
       "    .dataframe tbody tr th:only-of-type {\n",
       "        vertical-align: middle;\n",
       "    }\n",
       "\n",
       "    .dataframe tbody tr th {\n",
       "        vertical-align: top;\n",
       "    }\n",
       "\n",
       "    .dataframe thead th {\n",
       "        text-align: right;\n",
       "    }\n",
       "</style>\n",
       "<table border=\"1\" class=\"dataframe\">\n",
       "  <thead>\n",
       "    <tr style=\"text-align: right;\">\n",
       "      <th></th>\n",
       "      <th>simple</th>\n",
       "      <th>normal</th>\n",
       "      <th>sentence_alignment</th>\n",
       "      <th>paragraph_alignment</th>\n",
       "    </tr>\n",
       "  </thead>\n",
       "  <tbody>\n",
       "    <tr>\n",
       "      <th>0</th>\n",
       "      <td>{'id': 702227, 'title': 'Lata Mondal', 'url': ...</td>\n",
       "      <td>{'id': 41918715, 'title': 'Lata Mondal', 'url'...</td>\n",
       "      <td>[(simple-702227-0-0, normal-41918715-0-0), (si...</td>\n",
       "      <td>[(simple-702227-0, normal-41918715-0)]</td>\n",
       "    </tr>\n",
       "    <tr>\n",
       "      <th>1</th>\n",
       "      <td>{'id': 697879, 'title': 'Tuulikki Ukkola', 'ur...</td>\n",
       "      <td>{'id': 60918445, 'title': 'Tuulikki Ukkola', '...</td>\n",
       "      <td>[(simple-697879-0-0, normal-60918445-0-0), (si...</td>\n",
       "      <td>[(simple-697879-0, normal-60918445-0), (simple...</td>\n",
       "    </tr>\n",
       "    <tr>\n",
       "      <th>2</th>\n",
       "      <td>{'id': 120452, 'title': 'Kot Sarang', 'url': '...</td>\n",
       "      <td>{'id': 14570332, 'title': 'Kot Sarang', 'url':...</td>\n",
       "      <td>[(simple-120452-0-0, normal-14570332-0-0)]</td>\n",
       "      <td>[(simple-120452-0, normal-14570332-0)]</td>\n",
       "    </tr>\n",
       "    <tr>\n",
       "      <th>3</th>\n",
       "      <td>{'id': 276895, 'title': 'Elisabeth Charlotte o...</td>\n",
       "      <td>{'id': 946890, 'title': 'Elizabeth Charlotte, ...</td>\n",
       "      <td>[(simple-276895-0-0, normal-946890-0-0), (simp...</td>\n",
       "      <td>[(simple-276895-0, normal-946890-0), (simple-2...</td>\n",
       "    </tr>\n",
       "    <tr>\n",
       "      <th>4</th>\n",
       "      <td>{'id': 697649, 'title': 'Rory Stewart', 'url':...</td>\n",
       "      <td>{'id': 2656347, 'title': 'Rory Stewart', 'url'...</td>\n",
       "      <td>[(simple-697649-0-0, normal-2656347-0-0), (sim...</td>\n",
       "      <td>[(simple-697649-0, normal-2656347-0), (simple-...</td>\n",
       "    </tr>\n",
       "    <tr>\n",
       "      <th>5</th>\n",
       "      <td>{'id': 413275, 'title': 'Not Without My Daught...</td>\n",
       "      <td>{'id': 1808380, 'title': 'Not Without My Daugh...</td>\n",
       "      <td>[(simple-413275-0-0, normal-1808380-0-0), (sim...</td>\n",
       "      <td>[(simple-413275-0, normal-1808380-0)]</td>\n",
       "    </tr>\n",
       "    <tr>\n",
       "      <th>6</th>\n",
       "      <td>{'id': 256064, 'title': 'NBC Symphony Orchestr...</td>\n",
       "      <td>{'id': 150698, 'title': 'NBC Symphony Orchestr...</td>\n",
       "      <td>[(simple-256064-0-0, normal-150698-0-0), (simp...</td>\n",
       "      <td>[(simple-256064-0, normal-150698-0)]</td>\n",
       "    </tr>\n",
       "    <tr>\n",
       "      <th>7</th>\n",
       "      <td>{'id': 516259, 'title': 'Priyanka Chopra', 'ur...</td>\n",
       "      <td>{'id': 838950, 'title': 'Priyanka Chopra', 'ur...</td>\n",
       "      <td>[(simple-516259-0-0, normal-838950-0-0), (simp...</td>\n",
       "      <td>[(simple-516259-0, normal-838950-0), (simple-5...</td>\n",
       "    </tr>\n",
       "    <tr>\n",
       "      <th>8</th>\n",
       "      <td>{'id': 103132, 'title': 'Michigan Internationa...</td>\n",
       "      <td>{'id': 966394, 'title': 'Michigan Internationa...</td>\n",
       "      <td>[(simple-103132-0-0, normal-966394-0-0), (simp...</td>\n",
       "      <td>[(simple-103132-0, normal-966394-0), (simple-1...</td>\n",
       "    </tr>\n",
       "    <tr>\n",
       "      <th>9</th>\n",
       "      <td>{'id': 425394, 'title': 'Loneliness', 'url': '...</td>\n",
       "      <td>{'id': 1570429, 'title': 'Loneliness', 'url': ...</td>\n",
       "      <td>[(simple-425394-0-0, normal-1570429-0-0), (sim...</td>\n",
       "      <td>[(simple-425394-0, normal-1570429-0), (simple-...</td>\n",
       "    </tr>\n",
       "  </tbody>\n",
       "</table>\n",
       "</div>"
      ],
      "text/plain": [
       "                                              simple  \\\n",
       "0  {'id': 702227, 'title': 'Lata Mondal', 'url': ...   \n",
       "1  {'id': 697879, 'title': 'Tuulikki Ukkola', 'ur...   \n",
       "2  {'id': 120452, 'title': 'Kot Sarang', 'url': '...   \n",
       "3  {'id': 276895, 'title': 'Elisabeth Charlotte o...   \n",
       "4  {'id': 697649, 'title': 'Rory Stewart', 'url':...   \n",
       "5  {'id': 413275, 'title': 'Not Without My Daught...   \n",
       "6  {'id': 256064, 'title': 'NBC Symphony Orchestr...   \n",
       "7  {'id': 516259, 'title': 'Priyanka Chopra', 'ur...   \n",
       "8  {'id': 103132, 'title': 'Michigan Internationa...   \n",
       "9  {'id': 425394, 'title': 'Loneliness', 'url': '...   \n",
       "\n",
       "                                              normal  \\\n",
       "0  {'id': 41918715, 'title': 'Lata Mondal', 'url'...   \n",
       "1  {'id': 60918445, 'title': 'Tuulikki Ukkola', '...   \n",
       "2  {'id': 14570332, 'title': 'Kot Sarang', 'url':...   \n",
       "3  {'id': 946890, 'title': 'Elizabeth Charlotte, ...   \n",
       "4  {'id': 2656347, 'title': 'Rory Stewart', 'url'...   \n",
       "5  {'id': 1808380, 'title': 'Not Without My Daugh...   \n",
       "6  {'id': 150698, 'title': 'NBC Symphony Orchestr...   \n",
       "7  {'id': 838950, 'title': 'Priyanka Chopra', 'ur...   \n",
       "8  {'id': 966394, 'title': 'Michigan Internationa...   \n",
       "9  {'id': 1570429, 'title': 'Loneliness', 'url': ...   \n",
       "\n",
       "                                  sentence_alignment  \\\n",
       "0  [(simple-702227-0-0, normal-41918715-0-0), (si...   \n",
       "1  [(simple-697879-0-0, normal-60918445-0-0), (si...   \n",
       "2         [(simple-120452-0-0, normal-14570332-0-0)]   \n",
       "3  [(simple-276895-0-0, normal-946890-0-0), (simp...   \n",
       "4  [(simple-697649-0-0, normal-2656347-0-0), (sim...   \n",
       "5  [(simple-413275-0-0, normal-1808380-0-0), (sim...   \n",
       "6  [(simple-256064-0-0, normal-150698-0-0), (simp...   \n",
       "7  [(simple-516259-0-0, normal-838950-0-0), (simp...   \n",
       "8  [(simple-103132-0-0, normal-966394-0-0), (simp...   \n",
       "9  [(simple-425394-0-0, normal-1570429-0-0), (sim...   \n",
       "\n",
       "                                 paragraph_alignment  \n",
       "0             [(simple-702227-0, normal-41918715-0)]  \n",
       "1  [(simple-697879-0, normal-60918445-0), (simple...  \n",
       "2             [(simple-120452-0, normal-14570332-0)]  \n",
       "3  [(simple-276895-0, normal-946890-0), (simple-2...  \n",
       "4  [(simple-697649-0, normal-2656347-0), (simple-...  \n",
       "5              [(simple-413275-0, normal-1808380-0)]  \n",
       "6               [(simple-256064-0, normal-150698-0)]  \n",
       "7  [(simple-516259-0, normal-838950-0), (simple-5...  \n",
       "8  [(simple-103132-0, normal-966394-0), (simple-1...  \n",
       "9  [(simple-425394-0, normal-1570429-0), (simple-...  "
      ]
     },
     "execution_count": 2,
     "metadata": {},
     "output_type": "execute_result"
    }
   ],
   "source": [
    "%%time\n",
    "dataset_cols_df_wiki_part_1 = ['simple', 'normal', 'sentence_alignment','paragraph_alignment']\n",
    "df_wiki_part_1 = pandas.read_json(\n",
    "    'data/wiki-auto-part-1-data.json',\n",
    "    encoding='utf8',\n",
    "    orient='index'\n",
    ")\n",
    "# Convert the list of lists sentence_alignment and paragraph_alignment into a list of tuples\n",
    "df_wiki_part_1.sentence_alignment = df_wiki_part_1.sentence_alignment.apply(lambda alignment_list: [tuple(alignment) for alignment in alignment_list])\n",
    "df_wiki_part_1.paragraph_alignment = df_wiki_part_1.paragraph_alignment.apply(lambda alignment_list: [tuple(alignment) for alignment in alignment_list])\n",
    "df_wiki_part_1.head(10)"
   ]
  },
  {
   "cell_type": "code",
   "execution_count": 3,
   "metadata": {
    "collapsed": false,
    "pycharm": {
     "name": "#%%\n"
    }
   },
   "outputs": [
    {
     "name": "stdout",
     "output_type": "stream",
     "text": [
      "CPU times: user 512 ms, sys: 266 ms, total: 778 ms\n",
      "Wall time: 882 ms\n"
     ]
    },
    {
     "data": {
      "text/html": [
       "<div>\n",
       "<style scoped>\n",
       "    .dataframe tbody tr th:only-of-type {\n",
       "        vertical-align: middle;\n",
       "    }\n",
       "\n",
       "    .dataframe tbody tr th {\n",
       "        vertical-align: top;\n",
       "    }\n",
       "\n",
       "    .dataframe thead th {\n",
       "        text-align: right;\n",
       "    }\n",
       "</style>\n",
       "<table border=\"1\" class=\"dataframe\">\n",
       "  <thead>\n",
       "    <tr style=\"text-align: right;\">\n",
       "      <th></th>\n",
       "      <th>simple</th>\n",
       "      <th>normal</th>\n",
       "      <th>sentence_alignment</th>\n",
       "      <th>paragraph_alignment</th>\n",
       "    </tr>\n",
       "  </thead>\n",
       "  <tbody>\n",
       "    <tr>\n",
       "      <th>0</th>\n",
       "      <td>{'id': 78856, 'title': 'Vex, Switzerland', 'ur...</td>\n",
       "      <td>{'id': 7023314, 'title': 'Vex, Switzerland', '...</td>\n",
       "      <td>[]</td>\n",
       "      <td>[]</td>\n",
       "    </tr>\n",
       "    <tr>\n",
       "      <th>1</th>\n",
       "      <td>{'id': 193292, 'title': 'South Portland, Maine...</td>\n",
       "      <td>{'id': 115950, 'title': 'South Portland, Maine...</td>\n",
       "      <td>[]</td>\n",
       "      <td>[]</td>\n",
       "    </tr>\n",
       "    <tr>\n",
       "      <th>2</th>\n",
       "      <td>{'id': 195874, 'title': 'Kosuke Suda', 'url': ...</td>\n",
       "      <td>{'id': 18746548, 'title': 'Kosuke Suda', 'url'...</td>\n",
       "      <td>[]</td>\n",
       "      <td>[]</td>\n",
       "    </tr>\n",
       "    <tr>\n",
       "      <th>3</th>\n",
       "      <td>{'id': 608316, 'title': 'Cheng Lim LRT Station...</td>\n",
       "      <td>{'id': 3490013, 'title': 'Cheng Lim LRT statio...</td>\n",
       "      <td>[]</td>\n",
       "      <td>[]</td>\n",
       "    </tr>\n",
       "    <tr>\n",
       "      <th>4</th>\n",
       "      <td>{'id': 684573, 'title': 'Swifton, Arkansas', '...</td>\n",
       "      <td>{'id': 107051, 'title': 'Swifton, Arkansas', '...</td>\n",
       "      <td>[]</td>\n",
       "      <td>[]</td>\n",
       "    </tr>\n",
       "    <tr>\n",
       "      <th>5</th>\n",
       "      <td>{'id': 152877, 'title': 'Burley, Idaho', 'url'...</td>\n",
       "      <td>{'id': 110663, 'title': 'Burley, Idaho', 'url'...</td>\n",
       "      <td>[]</td>\n",
       "      <td>[]</td>\n",
       "    </tr>\n",
       "    <tr>\n",
       "      <th>6</th>\n",
       "      <td>{'id': 200958, 'title': 'S.S.D. Licata 1931', ...</td>\n",
       "      <td>{'id': 6968112, 'title': 'A.S.D. Licata 1931',...</td>\n",
       "      <td>[]</td>\n",
       "      <td>[]</td>\n",
       "    </tr>\n",
       "    <tr>\n",
       "      <th>7</th>\n",
       "      <td>{'id': 519888, 'title': 'Vivian, Louisiana', '...</td>\n",
       "      <td>{'id': 115518, 'title': 'Vivian, Louisiana', '...</td>\n",
       "      <td>[]</td>\n",
       "      <td>[]</td>\n",
       "    </tr>\n",
       "    <tr>\n",
       "      <th>8</th>\n",
       "      <td>{'id': 342309, 'title': '201 BC', 'url': 'http...</td>\n",
       "      <td>{'id': 60498, 'title': '201 BC', 'url': 'https...</td>\n",
       "      <td>[]</td>\n",
       "      <td>[]</td>\n",
       "    </tr>\n",
       "    <tr>\n",
       "      <th>9</th>\n",
       "      <td>{'id': 164901, 'title': 'Saint-Lys', 'url': 'h...</td>\n",
       "      <td>{'id': 8104124, 'title': 'Saint-Lys', 'url': '...</td>\n",
       "      <td>[]</td>\n",
       "      <td>[]</td>\n",
       "    </tr>\n",
       "  </tbody>\n",
       "</table>\n",
       "</div>"
      ],
      "text/plain": [
       "                                              simple  \\\n",
       "0  {'id': 78856, 'title': 'Vex, Switzerland', 'ur...   \n",
       "1  {'id': 193292, 'title': 'South Portland, Maine...   \n",
       "2  {'id': 195874, 'title': 'Kosuke Suda', 'url': ...   \n",
       "3  {'id': 608316, 'title': 'Cheng Lim LRT Station...   \n",
       "4  {'id': 684573, 'title': 'Swifton, Arkansas', '...   \n",
       "5  {'id': 152877, 'title': 'Burley, Idaho', 'url'...   \n",
       "6  {'id': 200958, 'title': 'S.S.D. Licata 1931', ...   \n",
       "7  {'id': 519888, 'title': 'Vivian, Louisiana', '...   \n",
       "8  {'id': 342309, 'title': '201 BC', 'url': 'http...   \n",
       "9  {'id': 164901, 'title': 'Saint-Lys', 'url': 'h...   \n",
       "\n",
       "                                              normal sentence_alignment  \\\n",
       "0  {'id': 7023314, 'title': 'Vex, Switzerland', '...                 []   \n",
       "1  {'id': 115950, 'title': 'South Portland, Maine...                 []   \n",
       "2  {'id': 18746548, 'title': 'Kosuke Suda', 'url'...                 []   \n",
       "3  {'id': 3490013, 'title': 'Cheng Lim LRT statio...                 []   \n",
       "4  {'id': 107051, 'title': 'Swifton, Arkansas', '...                 []   \n",
       "5  {'id': 110663, 'title': 'Burley, Idaho', 'url'...                 []   \n",
       "6  {'id': 6968112, 'title': 'A.S.D. Licata 1931',...                 []   \n",
       "7  {'id': 115518, 'title': 'Vivian, Louisiana', '...                 []   \n",
       "8  {'id': 60498, 'title': '201 BC', 'url': 'https...                 []   \n",
       "9  {'id': 8104124, 'title': 'Saint-Lys', 'url': '...                 []   \n",
       "\n",
       "  paragraph_alignment  \n",
       "0                  []  \n",
       "1                  []  \n",
       "2                  []  \n",
       "3                  []  \n",
       "4                  []  \n",
       "5                  []  \n",
       "6                  []  \n",
       "7                  []  \n",
       "8                  []  \n",
       "9                  []  "
      ]
     },
     "execution_count": 3,
     "metadata": {},
     "output_type": "execute_result"
    }
   ],
   "source": [
    "%%time\n",
    "dataset_cols_df_wiki_part_2 = ['simple', 'normal', 'sentence_alignment']\n",
    "df_wiki_part_2 = pandas.read_json(\n",
    "    'data/wiki-auto-part-2-data.json',\n",
    "    encoding='utf8',\n",
    "    orient='index'\n",
    ")\n",
    "# add new column to the dataset to make similar to the first dataset\n",
    "df_wiki_part_2['paragraph_alignment'] = [[] for _ in range(df_wiki_part_2.shape[0])]\n",
    "# Convert the list of lists sentence_alignment and paragraph_alignment into a list of tuples\n",
    "df_wiki_part_2.sentence_alignment = df_wiki_part_2.sentence_alignment.apply(lambda alignment_list: [tuple(alignment) for alignment in alignment_list if len(alignment_list)> 0])\n",
    "df_wiki_part_2.paragraph_alignment = df_wiki_part_2.paragraph_alignment.apply(lambda alignment_list: [tuple(alignment) for alignment in alignment_list if len(alignment_list)> 0])\n",
    "df_wiki_part_2.head(10)"
   ]
  },
  {
   "cell_type": "code",
   "execution_count": 4,
   "metadata": {
    "collapsed": false,
    "pycharm": {
     "name": "#%%\n"
    }
   },
   "outputs": [
    {
     "name": "stdout",
     "output_type": "stream",
     "text": [
      "# of paired articles for wiki part-2 13036\n",
      "# of paired articles with alignments for wiki part-2 970\n",
      "# of paired articles for wiki part-1  125059\n",
      "# of paired articles with alignments for wiki part-1  121840\n"
     ]
    }
   ],
   "source": [
    "print(\"# of paired articles for wiki part-2\", len(df_wiki_part_2))\n",
    "print(\"# of paired articles with alignments for wiki part-2\", sum(map(lambda sentence_alignment: len(sentence_alignment)> 0, df_wiki_part_2.sentence_alignment)))\n",
    "print(\"# of paired articles for wiki part-1 \", len(df_wiki_part_1))\n",
    "print(\"# of paired articles with alignments for wiki part-1 \", sum(map(lambda sentence_alignment: len(sentence_alignment)> 0, df_wiki_part_1.sentence_alignment)))"
   ]
  },
  {
   "cell_type": "markdown",
   "metadata": {
    "collapsed": false,
    "pycharm": {
     "name": "#%% md\n"
    }
   },
   "source": [
    "# Concatenate both dataframes"
   ]
  },
  {
   "cell_type": "code",
   "execution_count": 4,
   "metadata": {
    "collapsed": false,
    "pycharm": {
     "name": "#%%\n"
    }
   },
   "outputs": [
    {
     "data": {
      "text/html": [
       "<div>\n",
       "<style scoped>\n",
       "    .dataframe tbody tr th:only-of-type {\n",
       "        vertical-align: middle;\n",
       "    }\n",
       "\n",
       "    .dataframe tbody tr th {\n",
       "        vertical-align: top;\n",
       "    }\n",
       "\n",
       "    .dataframe thead th {\n",
       "        text-align: right;\n",
       "    }\n",
       "</style>\n",
       "<table border=\"1\" class=\"dataframe\">\n",
       "  <thead>\n",
       "    <tr style=\"text-align: right;\">\n",
       "      <th></th>\n",
       "      <th>simple</th>\n",
       "      <th>normal</th>\n",
       "      <th>sentence_alignment</th>\n",
       "      <th>paragraph_alignment</th>\n",
       "    </tr>\n",
       "  </thead>\n",
       "  <tbody>\n",
       "    <tr>\n",
       "      <th>0</th>\n",
       "      <td>{'id': 702227, 'title': 'Lata Mondal', 'url': ...</td>\n",
       "      <td>{'id': 41918715, 'title': 'Lata Mondal', 'url'...</td>\n",
       "      <td>[(simple-702227-0-0, normal-41918715-0-0), (si...</td>\n",
       "      <td>[(simple-702227-0, normal-41918715-0)]</td>\n",
       "    </tr>\n",
       "    <tr>\n",
       "      <th>1</th>\n",
       "      <td>{'id': 697879, 'title': 'Tuulikki Ukkola', 'ur...</td>\n",
       "      <td>{'id': 60918445, 'title': 'Tuulikki Ukkola', '...</td>\n",
       "      <td>[(simple-697879-0-0, normal-60918445-0-0), (si...</td>\n",
       "      <td>[(simple-697879-0, normal-60918445-0), (simple...</td>\n",
       "    </tr>\n",
       "    <tr>\n",
       "      <th>2</th>\n",
       "      <td>{'id': 120452, 'title': 'Kot Sarang', 'url': '...</td>\n",
       "      <td>{'id': 14570332, 'title': 'Kot Sarang', 'url':...</td>\n",
       "      <td>[(simple-120452-0-0, normal-14570332-0-0)]</td>\n",
       "      <td>[(simple-120452-0, normal-14570332-0)]</td>\n",
       "    </tr>\n",
       "    <tr>\n",
       "      <th>3</th>\n",
       "      <td>{'id': 276895, 'title': 'Elisabeth Charlotte o...</td>\n",
       "      <td>{'id': 946890, 'title': 'Elizabeth Charlotte, ...</td>\n",
       "      <td>[(simple-276895-0-0, normal-946890-0-0), (simp...</td>\n",
       "      <td>[(simple-276895-0, normal-946890-0), (simple-2...</td>\n",
       "    </tr>\n",
       "    <tr>\n",
       "      <th>4</th>\n",
       "      <td>{'id': 697649, 'title': 'Rory Stewart', 'url':...</td>\n",
       "      <td>{'id': 2656347, 'title': 'Rory Stewart', 'url'...</td>\n",
       "      <td>[(simple-697649-0-0, normal-2656347-0-0), (sim...</td>\n",
       "      <td>[(simple-697649-0, normal-2656347-0), (simple-...</td>\n",
       "    </tr>\n",
       "    <tr>\n",
       "      <th>...</th>\n",
       "      <td>...</td>\n",
       "      <td>...</td>\n",
       "      <td>...</td>\n",
       "      <td>...</td>\n",
       "    </tr>\n",
       "    <tr>\n",
       "      <th>138090</th>\n",
       "      <td>{'id': 158778, 'title': 'Marcilly-le-Hayer', '...</td>\n",
       "      <td>{'id': 15432782, 'title': 'Marcilly-le-Hayer',...</td>\n",
       "      <td>[]</td>\n",
       "      <td>[]</td>\n",
       "    </tr>\n",
       "    <tr>\n",
       "      <th>138091</th>\n",
       "      <td>{'id': 83891, 'title': 'Geltwil', 'url': 'http...</td>\n",
       "      <td>{'id': 6035836, 'title': 'Geltwil', 'url': 'ht...</td>\n",
       "      <td>[]</td>\n",
       "      <td>[]</td>\n",
       "    </tr>\n",
       "    <tr>\n",
       "      <th>138092</th>\n",
       "      <td>{'id': 248454, 'title': 'Koichi Hashimoto', 'u...</td>\n",
       "      <td>{'id': 36078529, 'title': 'Koichi Hashimoto (f...</td>\n",
       "      <td>[]</td>\n",
       "      <td>[]</td>\n",
       "    </tr>\n",
       "    <tr>\n",
       "      <th>138093</th>\n",
       "      <td>{'id': 156264, 'title': 'Calmar, Iowa', 'url':...</td>\n",
       "      <td>{'id': 114348, 'title': 'Calmar, Iowa', 'url':...</td>\n",
       "      <td>[]</td>\n",
       "      <td>[]</td>\n",
       "    </tr>\n",
       "    <tr>\n",
       "      <th>138094</th>\n",
       "      <td>{'id': 152116, 'title': 'Mendionde', 'url': 'h...</td>\n",
       "      <td>{'id': 2933606, 'title': 'Mendionde', 'url': '...</td>\n",
       "      <td>[]</td>\n",
       "      <td>[]</td>\n",
       "    </tr>\n",
       "  </tbody>\n",
       "</table>\n",
       "<p>138095 rows × 4 columns</p>\n",
       "</div>"
      ],
      "text/plain": [
       "                                                   simple  \\\n",
       "0       {'id': 702227, 'title': 'Lata Mondal', 'url': ...   \n",
       "1       {'id': 697879, 'title': 'Tuulikki Ukkola', 'ur...   \n",
       "2       {'id': 120452, 'title': 'Kot Sarang', 'url': '...   \n",
       "3       {'id': 276895, 'title': 'Elisabeth Charlotte o...   \n",
       "4       {'id': 697649, 'title': 'Rory Stewart', 'url':...   \n",
       "...                                                   ...   \n",
       "138090  {'id': 158778, 'title': 'Marcilly-le-Hayer', '...   \n",
       "138091  {'id': 83891, 'title': 'Geltwil', 'url': 'http...   \n",
       "138092  {'id': 248454, 'title': 'Koichi Hashimoto', 'u...   \n",
       "138093  {'id': 156264, 'title': 'Calmar, Iowa', 'url':...   \n",
       "138094  {'id': 152116, 'title': 'Mendionde', 'url': 'h...   \n",
       "\n",
       "                                                   normal  \\\n",
       "0       {'id': 41918715, 'title': 'Lata Mondal', 'url'...   \n",
       "1       {'id': 60918445, 'title': 'Tuulikki Ukkola', '...   \n",
       "2       {'id': 14570332, 'title': 'Kot Sarang', 'url':...   \n",
       "3       {'id': 946890, 'title': 'Elizabeth Charlotte, ...   \n",
       "4       {'id': 2656347, 'title': 'Rory Stewart', 'url'...   \n",
       "...                                                   ...   \n",
       "138090  {'id': 15432782, 'title': 'Marcilly-le-Hayer',...   \n",
       "138091  {'id': 6035836, 'title': 'Geltwil', 'url': 'ht...   \n",
       "138092  {'id': 36078529, 'title': 'Koichi Hashimoto (f...   \n",
       "138093  {'id': 114348, 'title': 'Calmar, Iowa', 'url':...   \n",
       "138094  {'id': 2933606, 'title': 'Mendionde', 'url': '...   \n",
       "\n",
       "                                       sentence_alignment  \\\n",
       "0       [(simple-702227-0-0, normal-41918715-0-0), (si...   \n",
       "1       [(simple-697879-0-0, normal-60918445-0-0), (si...   \n",
       "2              [(simple-120452-0-0, normal-14570332-0-0)]   \n",
       "3       [(simple-276895-0-0, normal-946890-0-0), (simp...   \n",
       "4       [(simple-697649-0-0, normal-2656347-0-0), (sim...   \n",
       "...                                                   ...   \n",
       "138090                                                 []   \n",
       "138091                                                 []   \n",
       "138092                                                 []   \n",
       "138093                                                 []   \n",
       "138094                                                 []   \n",
       "\n",
       "                                      paragraph_alignment  \n",
       "0                  [(simple-702227-0, normal-41918715-0)]  \n",
       "1       [(simple-697879-0, normal-60918445-0), (simple...  \n",
       "2                  [(simple-120452-0, normal-14570332-0)]  \n",
       "3       [(simple-276895-0, normal-946890-0), (simple-2...  \n",
       "4       [(simple-697649-0, normal-2656347-0), (simple-...  \n",
       "...                                                   ...  \n",
       "138090                                                 []  \n",
       "138091                                                 []  \n",
       "138092                                                 []  \n",
       "138093                                                 []  \n",
       "138094                                                 []  \n",
       "\n",
       "[138095 rows x 4 columns]"
      ]
     },
     "metadata": {},
     "output_type": "display_data"
    },
    {
     "name": "stdout",
     "output_type": "stream",
     "text": [
      "138095\n",
      "138095\n"
     ]
    }
   ],
   "source": [
    "df_dataset = pandas.concat([df_wiki_part_1,df_wiki_part_2])\n",
    "df_dataset.reset_index(drop=True,inplace=True)\n",
    "display(df_dataset)\n",
    "# verify the length of the newly created dataframe to be len(df_wiki_part_2)+len(df_wiki_part_1)\n",
    "print(len(df_wiki_part_2)+len(df_wiki_part_1))\n",
    "print(len(df_dataset))"
   ]
  },
  {
   "cell_type": "markdown",
   "metadata": {
    "collapsed": false,
    "pycharm": {
     "name": "#%% md\n"
    }
   },
   "source": [
    "### Piechart to show the percentage"
   ]
  },
  {
   "cell_type": "code",
   "execution_count": 30,
   "metadata": {},
   "outputs": [
    {
     "name": "stdout",
     "output_type": "stream",
     "text": [
      "# of paired articles for df_dataset  138095\n",
      "# of paired articles with alignments for wiki df_dataset 122810\n",
      "Total # of simpled sentences  1241671\n",
      "Total # of Normal sentences  10144476\n"
     ]
    }
   ],
   "source": [
    "print(\"# of paired articles for df_dataset \", len(df_dataset))\n",
    "print(\"# of paired articles with alignments for wiki df_dataset\", sum(map(lambda sentence_alignment: len(sentence_alignment)> 0, df_dataset.sentence_alignment)))\n",
    "print(\"Total # of simpled sentences \", sum(map(lambda content: len(content['content']), df_dataset.simple))) \n",
    "print(\"Total # of Normal sentences \", sum(map(lambda content: len(content['content']), df_dataset.normal)))"
   ]
  },
  {
   "cell_type": "code",
   "execution_count": 5,
   "metadata": {
    "collapsed": false,
    "pycharm": {
     "name": "#%%\n"
    }
   },
   "outputs": [],
   "source": [
    "'''\n",
    "The alignments between the simplified and the normal (original) sentences are saved in the sentence_alignment and/or in the paragraph_alignment field/column.\n",
    " (a) If the paragraph_alignment is empty ==> We search in sentence_alignment for all normal sentences. If we don't find the normal sentence back in the sentence_alignment list, it means the sentence was not simplified, hence deleted.\n",
    " (b) If the paragraph_alignment is NOT empty ==>  per normal sentence, we search for it in sentence_alignment:\n",
    "        if we find it there, then it's simplified\n",
    "        if we don't find it there, we search it in the paragraph_alignment\n",
    "'''\n",
    "def calculate_percentage_deleted_sentences(dataframe):\n",
    "    # The number of normal sentences in the dataframe\n",
    "    number_of_normal_sentences = sum([len(normal_sentences['content']) for normal_sentences in dataframe['normal']])\n",
    "    # The number of simplified sentences in the dataframe\n",
    "    number_of_simplified_sentences = sum([len(normal_sentences['content']) for normal_sentences in dataframe['simple']])\n",
    "\n",
    "    # Counter. We assume that all normal sentences are deleted.\n",
    "    aligned_sentences_count = 0\n",
    "    # Loop through all elements in the dataframe\n",
    "    for i in range(len(dataframe)):\n",
    "        # Get all normal sentences per item\n",
    "        normal_sentences = list(dataframe.iloc[i].normal['content'].keys())\n",
    "        # Get all normal sentences ids from the sentence_alignment list (only the value because it's stored like [(simplified_sentence, normal_sentence)]\n",
    "        norm_sent_align_list = [normal for simple, normal in dataframe.iloc[i].sentence_alignment]\n",
    "        # Get all normal sentences ids from paragraph_alignment\n",
    "        norm_par_align_list = [normal for simple, normal in dataframe.iloc[i].paragraph_alignment]\n",
    "\n",
    "        # If the paragraph_alignment is empty, we only look at the sentence_alignment\n",
    "        if len(dataframe.iloc[i].paragraph_alignment) == 0 :\n",
    "            '''\n",
    "              If the field sentence_alignment (list of tuples (simplified_sentence, normal_sentence)) contains an element from the normal_sentences, this means that the normal sentence is aligned to a simplified sentence, thus we increase the counter by the amount of found matches (because a normal sentence could be aligned to more than 1 simple sentence\n",
    "              '''\n",
    "            aligned_sentences_count = aligned_sentences_count + len ([normal for simple, normal in dataframe.iloc[i].sentence_alignment if normal in normal_sentences])\n",
    "        # If the paragraph_alignment is not EMPTY, we have to look into the sentence_alignment and also into paragraph_alignment\n",
    "        else:\n",
    "            # Loop through all normal sentences of current item\n",
    "            for norm_sent in normal_sentences:\n",
    "                # If the normal sentence is found in the list of sentence_alignment, then increase aligned sentences by one\n",
    "                if norm_sent in norm_sent_align_list:\n",
    "                    aligned_sentences_count = aligned_sentences_count + 1\n",
    "\n",
    "                # If it's not found in sentence_alignment, then we look into paragraph_alignment\n",
    "                else:\n",
    "                    # Loop through normal sentences in the paragraph_alignment list\n",
    "                    for item in norm_par_align_list:\n",
    "                        # If the current normal sentence we are looking for starts with the same normal sentence from the paragraph_alignment, then increase the counter of aligned sentences by one\n",
    "                        if norm_sent.startswith(item):\n",
    "                            aligned_sentences_count = aligned_sentences_count + 1\n",
    "\n",
    "    deleted_sentences = number_of_normal_sentences - aligned_sentences_count\n",
    "    print(\"# of normal sentences in the dataframe \" , number_of_normal_sentences)\n",
    "    print(\"# of simplfied sentences in the dataframe \" , number_of_simplified_sentences)\n",
    "    print(\"# of deleted sentences in the dataframe \", deleted_sentences)\n",
    "    print(\"Percentage of deleted sentences {:.2f}\".format((deleted_sentences/ number_of_normal_sentences) * 100))\n",
    "\n",
    "    fig = plt.figure(figsize =(10, 7))\n",
    "    plt.pie([(deleted_sentences),aligned_sentences_count], labels = ['Deleted sentences','Aligned sentences'], autopct='%1.1f%%',textprops={'fontsize': 15})\n",
    "# calculate_percentage_deleted_sentences(df_dataset)"
   ]
  },
  {
   "cell_type": "code",
   "execution_count": 6,
   "metadata": {
    "collapsed": false,
    "pycharm": {
     "name": "#%%\n"
    }
   },
   "outputs": [
    {
     "name": "stdout",
     "output_type": "stream",
     "text": [
      "# of normal sentences in the dataframe  10144476\n",
      "# of simplfied sentences in the dataframe  1241671\n",
      "# of deleted sentences in the dataframe  6834109\n",
      "Percentage of deleted sentences 67.37\n",
      "CPU times: user 47 s, sys: 0 ns, total: 47 s\n",
      "Wall time: 47 s\n"
     ]
    },
    {
     "data": {
      "image/png": "[encoded data removed]",
      "text/plain": [
       "<Figure size 720x504 with 1 Axes>"
      ]
     },
     "metadata": {},
     "output_type": "display_data"
    }
   ],
   "source": [
    "%%time\n",
    "#For the concatenated dataframe\n",
    "calculate_percentage_deleted_sentences(df_dataset)"
   ]
  },
  {
   "cell_type": "code",
   "execution_count": 27,
   "metadata": {
    "collapsed": false,
    "pycharm": {
     "name": "#%%\n"
    }
   },
   "outputs": [
    {
     "name": "stdout",
     "output_type": "stream",
     "text": [
      "# of normal sentences in the dataframe  9618942\n",
      "# of simplfied sentences in the dataframe  1228635\n",
      "# of deleted sentences in the dataframe  6309545\n",
      "Percentage of deleted sentences 65.59\n",
      "CPU times: user 42.8 s, sys: 0 ns, total: 42.8 s\n",
      "Wall time: 42.8 s\n"
     ]
    },
    {
     "data": {
      "image/png": "[encoded data removed]",
      "text/plain": [
       "<Figure size 720x504 with 1 Axes>"
      ]
     },
     "metadata": {},
     "output_type": "display_data"
    }
   ],
   "source": [
    "%%time\n",
    "#For the first wiki_1 part\n",
    "calculate_percentage_deleted_sentences(df_wiki_part_1)"
   ]
  },
  {
   "cell_type": "code",
   "execution_count": 28,
   "metadata": {
    "collapsed": false,
    "pycharm": {
     "name": "#%%\n"
    }
   },
   "outputs": [
    {
     "name": "stdout",
     "output_type": "stream",
     "text": [
      "# of normal sentences in the dataframe  525534\n",
      "# of simplfied sentences in the dataframe  13036\n",
      "# of deleted sentences in the dataframe  524564\n",
      "Percentage of deleted sentences 99.82\n",
      "CPU times: user 5.31 s, sys: 0 ns, total: 5.31 s\n",
      "Wall time: 5.31 s\n"
     ]
    },
    {
     "data": {
      "image/png": "[encoded data removed]",
      "text/plain": [
       "<Figure size 720x504 with 1 Axes>"
      ]
     },
     "metadata": {},
     "output_type": "display_data"
    }
   ],
   "source": [
    "%%time\n",
    "#For the first wiki_2 part\n",
    "calculate_percentage_deleted_sentences(df_wiki_part_2)"
   ]
  },
  {
   "cell_type": "markdown",
   "metadata": {},
   "source": [
    "# Process wiki-auto data to generate `.src` and `.dst` files for simplification"
   ]
  },
  {
   "cell_type": "code",
   "execution_count": 62,
   "metadata": {},
   "outputs": [],
   "source": [
    "def generate_data_req_format(df_dataset, data_folder):\n",
    "\tsize = len(df_dataset)\n",
    "\tskipped_articles = []\n",
    "\tskip_len = 0\n",
    "\tfor i in range(size):\n",
    "\t\t# get article id\n",
    "\t\tnormal_article_id = str(df_dataset['normal'][i]['id'])\n",
    "\n",
    "\t\t# get normal and simple sentences\n",
    "\t\tnormal_list = list(df_dataset['normal'][i]['content'].values())\n",
    "\t\tsimple_list = list(df_dataset['simple'][i]['content'].values())\n",
    "\t\t\n",
    "\t\t# skip article processing if below threshold of ~50%\n",
    "\t\tif len(normal_list) <= 5 or len(simple_list) < (len(normal_list) // 2) + 1:\n",
    "\t\t\tskipped_articles.append(normal_article_id)\n",
    "\t\t\tskip_len += 1\n",
    "\t\t\tcontinue\n",
    "\t\t\n",
    "\t\t# create {data_folder}/{article_id}\n",
    "\t\toutput_dir = os.path.join(data_folder, normal_article_id)\n",
    "\t\tos.makedirs(output_dir, exist_ok=True)\n",
    "\n",
    "\n",
    "\t\tnormal_content = '\\n'.join(normal_list)\n",
    "\t\tsimple_content = '\\n'.join(simple_list)\n",
    "\t\t\n",
    "\t\tnormal = os.path.join(output_dir, 'source.txt')\n",
    "\t\tsimple = os.path.join(output_dir, 'destination.txt')\n",
    "\t\t\n",
    "\t\twith open(normal, 'w', encoding=\"utf-8\") as normal_f, open(simple, 'w', encoding=\"utf-8\") as simple_f:\n",
    "\t\t\tnormal_f.write(normal_content)\n",
    "\t\t\tsimple_f.write(simple_content)\n",
    "\t\t\n",
    "\t\tprint(f'Done generating files for {i+1}/{size} articles. Skipping {skip_len} articles\\r', end='', flush=True)\n",
    "\tprint()\n",
    "\tprint(skip_len)\n",
    "\treturn skipped_articles"
   ]
  },
  {
   "cell_type": "code",
   "execution_count": 1,
   "metadata": {},
   "outputs": [
    {
     "name": "stdout",
     "output_type": "stream",
     "text": [
      "CPU times: user 48 ms, sys: 19.3 ms, total: 67.3 ms\n",
      "Wall time: 3.95 s\n"
     ]
    }
   ],
   "source": [
    "%%time\n",
    "# !rm -rf 'data/wiki-auto'\n",
    "data_folder = 'data/wiki-auto'\n",
    "skipped_articles = generate_data_req_format(df_dataset, data_folder)\n",
    "\n",
    "print(f'Done creating data in {data_folder}')\n",
    "print(f'Total amount of generated articles  {len(df_dataset) - len(skipped_articles)}')\n",
    "\n"
   ]
  },
  {
   "cell_type": "markdown",
   "metadata": {},
   "source": [
    "#### Calculate average document length in normal and simple articles "
   ]
  },
  {
   "cell_type": "code",
   "execution_count": 74,
   "metadata": {},
   "outputs": [
    {
     "name": "stdout",
     "output_type": "stream",
     "text": [
      "Normal  500\n",
      "Simple  500\n",
      "normal count 39093\n",
      "simple count 29926\n",
      "Average normal articles length (sentences)  78.186\n",
      "Average simple articles length (sentences) 59.852\n",
      "CPU times: user 155 ms, sys: 102 ms, total: 257 ms\n",
      "Wall time: 414 ms\n"
     ]
    }
   ],
   "source": [
    "%%time\n",
    "data_dir = 'data/wiki-auto'\n",
    "\n",
    "count = 2\n",
    "# base data/wiki-auto\n",
    "normal_lengths_list = []\n",
    "normal_count = 0\n",
    "\n",
    "simple_count = 0\n",
    "simple_lengths_list = []\n",
    "for folder in os.listdir(data_dir):\n",
    "    # print(folder)\n",
    "    # raw data = data/wiki-auto/{id}\n",
    "    base_data_dir = os.path.join(data_dir, folder)\n",
    "    normal_article_file_path = os.path.join(base_data_dir, 'source.txt')\n",
    "    simple_article_file_path = os.path.join(base_data_dir, 'destination.txt')\n",
    "\n",
    "    with open(normal_article_file_path, 'r') as inputfile:\n",
    "        total_lines = inputfile.readlines()\n",
    "        normal_lengths_list.append(len(total_lines))\n",
    "        normal_count += len(total_lines)\n",
    "\n",
    "    with open(simple_article_file_path, 'r') as inputfile:\n",
    "        total_lines = inputfile.readlines()\n",
    "        simple_lengths_list.append(len(total_lines))\n",
    "        simple_count += len(total_lines)\n",
    "\n",
    "    # count -= 1\n",
    "    # if count == 0:\n",
    "    #     break\n",
    "print(\"Normal \", len(normal_lengths_list))    \n",
    "print(\"Simple \", len(simple_lengths_list))\n",
    "print(\"normal count\", normal_count)\n",
    "print(\"simple count\", simple_count)\n",
    "print(\"Average normal articles length (sentences) \", sum(normal_lengths_list)/len(os.listdir(data_dir)))\n",
    "print(\"Average simple articles length (sentences)\", sum(simple_lengths_list)/len(os.listdir(data_dir)))\n"
   ]
  },
  {
   "cell_type": "code",
   "execution_count": 36,
   "metadata": {},
   "outputs": [
    {
     "name": "stdout",
     "output_type": "stream",
     "text": [
      "Destination articles with #1 sentence 765\n",
      "Source articles with #1 sentence 0\n"
     ]
    }
   ],
   "source": [
    "# Old code could be deleted at the end\n",
    "# directory = 'data/wiki-auto'\n",
    "# one_sentence_source_articles = 0\n",
    "# one_sentence_destination_articles = 0\n",
    "# for direc in os.listdir(directory):\n",
    "#     for root, dirs, files in os.walk(os.path.join(directory,direc)):\n",
    "#         with open(os.path.join(directory,direc,files[0]),'r') as destination, open(os.path.join(directory,direc,files[1]),'r') as source:\n",
    "#             dest_lines = destination.readlines()\n",
    "#             source_lines = source.readlines()\n",
    "#             if len(dest_lines) <= 3:\n",
    "#                 one_sentence_destination_articles +=1\n",
    "#             if len(source_lines) == 3:\n",
    "#                 one_sentence_source_articles +=1\n",
    "#                 # print(os.path.join(directory,direc))\n",
    "\n",
    "# print(\"Destination articles with #3 sentence\", one_sentence_destination_articles)\n",
    "# print(\"Source articles with #1 sentence\", one_sentence_source_articles)\n",
    "\n",
    "\n",
    "\n",
    "# '''\n",
    "# leave it here for now!\n",
    "# This function is used to convert the structure of the json files to group the data by [simple, normal, sentence_alignment]\n",
    "# '''\n",
    "# def reformat_json_file(input_file, outpu_file):\n",
    "#     input_json_file = open(input_file,'r')\n",
    "#     input_data = json.load(input_json_file)\n",
    "#     input_json_file.close()\n",
    "#     data_list = []\n",
    "#     for key,value in input_data.items():\n",
    "#         data_list.append(value)\n",
    "\n",
    "#     output_json_file = open(outpu_file,\"w\")\n",
    "#     output_data = json.dumps(data_list)\n",
    "#     output_json_file.write(output_data)\n",
    "#     output_json_file.close()\n",
    "#     print(\"finished\")\n",
    "\n",
    "# # This is a test TO BE USED AS TEST\n",
    "# df_dataset = pandas.read_json(\n",
    "#     'wiki_test.json',\n",
    "#     encoding='utf8',\n",
    "#     orient='index'\n",
    "# )\n",
    "\n",
    "# # Convert the list of lists sentence_alignment and paragraph_alignment into a list of tuples\n",
    "# df_dataset.sentence_alignment = df_dataset.sentence_alignment.apply(lambda alignment_list: [tuple(alignment) for alignment in alignment_list if len(alignment_list)> 0])\n",
    "# df_dataset.paragraph_alignment = df_dataset.paragraph_alignment.apply(lambda alignment_list: [tuple(alignment) for alignment in alignment_list if len(alignment_list)> 0])\n",
    "# df_dataset.head(10)    "
   ]
  }
 ],
 "metadata": {
  "kernelspec": {
   "display_name": "Python 3.6.13 ('py36')",
   "language": "python",
   "name": "python3"
  },
  "language_info": {
   "codemirror_mode": {
    "name": "ipython",
    "version": 3
   },
   "file_extension": ".py",
   "mimetype": "text/x-python",
   "name": "python",
   "nbconvert_exporter": "python",
   "pygments_lexer": "ipython3",
   "version": "3.6.13"
  },
  "vscode": {
   "interpreter": {
    "hash": "8b2dca8fe6dbe9796b1dddfba88f9aac0a93c27145276b3838cc70c9e21c0725"
   }
  }
 },
 "nbformat": 4,
 "nbformat_minor": 0
}
