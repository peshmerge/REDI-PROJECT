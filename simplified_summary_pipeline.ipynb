{
 "cells": [
  {
   "cell_type": "markdown",
   "metadata": {},
   "source": [
    "# Simplified Summary pipeline"
   ]
  },
  {
   "cell_type": "markdown",
   "metadata": {},
   "source": [
    "#### Imports"
   ]
  },
  {
   "cell_type": "code",
   "execution_count": 3,
   "metadata": {},
   "outputs": [],
   "source": [
    "%run text_summarization.ipynb"
   ]
  },
  {
   "cell_type": "code",
   "execution_count": 4,
   "metadata": {},
   "outputs": [
    {
     "name": "stdout",
     "output_type": "stream",
     "text": [
      "# original sentences 22\n",
      "# summarized sentences 12\n"
     ]
    },
    {
     "data": {
      "text/html": [
       "<strong>Full Text</strong><br><span style=\"background-color:rgba(255,215,0,0.3);\">The Galactic RainCloudS project, an initiative led by members of the Faculty of Physics, the Institute of Cosmos Sciences (ICCUB) of the University of Barcelona and the Institute for Space Studies of Catalonia (IEEC), was awarded the first position in the framework of the Cloud Funding for Research call of the European project Open Clouds For Research Environments (OCRE). </span> The project competed against 27 proposals from twelve countries in a wide range of research disciplines. This first edition of Cloud Funding For Research funds the use of commercial computational cloud resources for research. The project counts on the collaboration from the private sector, and specifically from Pervasive Technologies, which brings experience in artificial intelligence and cloud computing; Google, and the computing infrastructure from Google Cloud and Telefónica, which offers experience on cloud resource management. <span style=\"background-color:rgba(255,215,0,0.3);\">Professor Xavier Luri, director of ICCUB and principal researcher of the project, highlights that “The Galactic RainCloudS project is a pioneer one in Europe in the use of commercial cloud infrastructures for research on astronomy, and results from the will to show the benefits of cloud resource uses for the scientific community”</span> . The key of the project lies in interdisciplinarity: combining the extraordinary volumes of data from the European Space Agency Gaia Satellite with the great computational power and the flexibility of cloud infrastructures, and with the data mining techniques, it will enable the team of the University of Barcelona to study the existing links between past galaxy collisions and star formation in a holistic way, a study in which the Milky Way and satellite galaxies will be an experimental laboratory <span style=\"background-color:rgba(255,215,0,0.3);\">. “Cloud computing is like renting powerful customized computers, for a certain period of time, which will enable us to make the necessary calculations to study the interaction between galaxies”, notes Mercè Romero, researcher at ICCUB. T</span> he project also includes the development of a system to detect traces of past small galaxy collisions with the halo of our galaxy. T <span style=\"background-color:rgba(255,215,0,0.3);\">eresa Antoja, researcher at ICCUB, notes that “the existence of granularities in the galactic halos is a prediction of the current cosmological model of the formation of our Universe: the active search for substructures of this type in the Gaia data can provide vital information on the history of the Milky Way and on the nature of dark matter”. </span> The participation of the private sector in this project shows the closeness between research and companies in the use of cutting-edge technologies as well as their shared interests. <span style=\"background-color:rgba(255,215,0,0.3);\">“In Pervasive Technologies, we are glad to offer our knowledge on artificial intelligence and cloud computing to a pioneer project in the field of research. We will work to get the highest performance of the cloud infrastructures and artificial intelligence for this project”, notes Rodolfo Lomascolo, CEO of Pervasive Technologies. </span> In order to be successful, the Galactic RainCloudS project must have, among other features, big data infrastructures. “The Gaia satellite data hide the answer to many questions we want to solve, but we need the right tools to retrieve them”, notes Roger Mor, data scientist at Pervasive Technologies and ICCUB collaborator. <span style=\"background-color:rgba(255,215,0,0.3);\">He adds: “The available big data platforms in the commercial cloud and artificial intelligence services are fundamental tools to find, for instance, whether the interaction of Sagittarius with the Milky Way caused the reignition of the star formation in our galaxy between 5 and 7billion years ago, as stated in some studies”.</span> <span style=\"background-color:rgba(255,215,0,0.3);\">Enrique González Lezana, head of cloud sales specialist at Telefónica Tech, says that “Telefónica has accompanied the University of Barcelona in the definition and unfolding of the Google Cloud architecture, where the required hypercomputing solution to work on the Galactic RainCloudS project will be hosted”.</span> <span style=\"background-color:rgba(255,215,0,0.3);\">“The unfolded infrastructure —he adds— will enable the processing and analysis of big data in a flexible, scalable way, adjusted to the required needs of the researchers of the University of Barcelona.</span> <span style=\"background-color:rgba(255,215,0,0.3);\">Telefónica will work with the UB during the entire process to guarantee the successful implementation of the project with teams specialized on Google Cloud services and technologies”.</span> The project launched this May and will last a year. <span style=\"background-color:rgba(255,215,0,0.3);\">“Galactic RainCLoudS is a necessary step in the transition of the world of research toward the efficient use of cloud computing resources.</span> In this sense, we are pioneers in its use at the University of Barcelona and we hope our experience serves to encourage its use. <span style=\"background-color:rgba(255,215,0,0.3);\">The research teams’ needs are becoming more specific, and we are making an effort for this project to open the doors of commercial cloud computing in future projects for all research disciplines”, concludes Xavier Luri.</span><br><br><strong>Predicted Summary</strong><br><span style=\"background-color:rgba(255,215,0,0.3);\">The Galactic RainCloudS project, an initiative led by members of the Faculty of Physics, the Institute of Cosmos Sciences (ICCUB) of the University of Barcelona and the Institute for Space Studies of Catalonia (IEEC), was awarded the first position in the framework of the Cloud Funding for Research call of the European project Open Clouds For Research Environments (OCRE). </span> <span style=\"background-color:rgba(255,215,0,0.3);\">Professor Xavier Luri, director of ICCUB and principal researcher of the project, highlights that “The Galactic RainCloudS project is a pioneer one in Europe in the use of commercial cloud infrastructures for research on astronomy, and results from the will to show the benefits of cloud resource uses for the scientific community”</span> <span style=\"background-color:rgba(255,215,0,0.3);\">. “Cloud computing is like renting powerful customized computers, for a certain period of time, which will enable us to make the necessary calculations to study the interaction between galaxies”, notes Mercè Romero, researcher at ICCUB. T</span> <span style=\"background-color:rgba(255,215,0,0.3);\">eresa Antoja, researcher at ICCUB, notes that “the existence of granularities in the galactic halos is a prediction of the current cosmological model of the formation of our Universe: the active search for substructures of this type in the Gaia data can provide vital information on the history of the Milky Way and on the nature of dark matter”. </span> <span style=\"background-color:rgba(255,215,0,0.3);\">“In Pervasive Technologies, we are glad to offer our knowledge on artificial intelligence and cloud computing to a pioneer project in the field of research. We will work to get the highest performance of the cloud infrastructures and artificial intelligence for this project”, notes Rodolfo Lomascolo, CEO of Pervasive Technologies. </span> <span style=\"background-color:rgba(255,215,0,0.3);\">He adds: “The available big data platforms in the commercial cloud and artificial intelligence services are fundamental tools to find, for instance, whether the interaction of Sagittarius with the Milky Way caused the reignition of the star formation in our galaxy between 5 and 7billion years ago, as stated in some studies”.</span> <span style=\"background-color:rgba(255,215,0,0.3);\">Enrique González Lezana, head of cloud sales specialist at Telefónica Tech, says that “Telefónica has accompanied the University of Barcelona in the definition and unfolding of the Google Cloud architecture, where the required hypercomputing solution to work on the Galactic RainCloudS project will be hosted”.</span> <span style=\"background-color:rgba(255,215,0,0.3);\">“The unfolded infrastructure —he adds— will enable the processing and analysis of big data in a flexible, scalable way, adjusted to the required needs of the researchers of the University of Barcelona.</span> <span style=\"background-color:rgba(255,215,0,0.3);\">Telefónica will work with the UB during the entire process to guarantee the successful implementation of the project with teams specialized on Google Cloud services and technologies”.</span> <span style=\"background-color:rgba(255,215,0,0.3);\">“Galactic RainCLoudS is a necessary step in the transition of the world of research toward the efficient use of cloud computing resources.</span> <span style=\"background-color:rgba(255,215,0,0.3);\">The research teams’ needs are becoming more specific, and we are making an effort for this project to open the doors of commercial cloud computing in future projects for all research disciplines”, concludes Xavier Luri.</span>"
      ],
      "text/plain": [
       "<IPython.core.display.HTML object>"
      ]
     },
     "metadata": {},
     "output_type": "display_data"
    }
   ],
   "source": [
    "generate_summary( \"cloud_computing_eurekalert.txt\")"
   ]
  },
  {
   "cell_type": "code",
   "execution_count": null,
   "metadata": {},
   "outputs": [],
   "source": []
  }
 ],
 "metadata": {
  "kernelspec": {
   "display_name": "Python 3.6.13 ('py36')",
   "language": "python",
   "name": "python3"
  },
  "language_info": {
   "codemirror_mode": {
    "name": "ipython",
    "version": 3
   },
   "file_extension": ".py",
   "mimetype": "text/x-python",
   "name": "python",
   "nbconvert_exporter": "python",
   "pygments_lexer": "ipython3",
   "version": "3.6.13"
  },
  "orig_nbformat": 4,
  "vscode": {
   "interpreter": {
    "hash": "8b2dca8fe6dbe9796b1dddfba88f9aac0a93c27145276b3838cc70c9e21c0725"
   }
  }
 },
 "nbformat": 4,
 "nbformat_minor": 2
}
