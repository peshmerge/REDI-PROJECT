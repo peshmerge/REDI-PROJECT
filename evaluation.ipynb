{
 "cells": [
  {
   "cell_type": "markdown",
   "metadata": {},
   "source": [
    "# Evaluation notebook \n",
    "## ROUGE (ROUGE-1, ROUGE-2, ROUGE-l), SARI, BLEU"
   ]
  },
  {
   "cell_type": "markdown",
   "metadata": {},
   "source": [
    "### ROUGE (ROUGE-1, ROUGE-2, ROUGE-l)"
   ]
  },
  {
   "cell_type": "code",
   "execution_count": 5,
   "metadata": {},
   "outputs": [],
   "source": [
    "from pprint import pprint\n",
    "import os\n",
    "from rouge import Rouge\n",
    "import json\n",
    "import pandas as pandas\n",
    "from easse import sari, bleu, fkgl"
   ]
  },
  {
   "cell_type": "code",
   "execution_count": 6,
   "metadata": {},
   "outputs": [],
   "source": [
    "def read_file(file_path):\n",
    "    with open(file_path,'r') as file:\n",
    "        return file.readlines()"
   ]
  },
  {
   "cell_type": "code",
   "execution_count": 7,
   "metadata": {},
   "outputs": [],
   "source": [
    "'''\n",
    "Calculate ROUGE-1, ROUGE-2 and ROUGE-l scores for hypothesis and reference files\n",
    "'''\n",
    "def calculate_rouge_score(hyp_file_path, ref_file_path):\n",
    "    rouge = Rouge()\n",
    "    hypotheses = ''\n",
    "    references = ''\n",
    "    with open(hyp_file_path, 'r') as simplified_summary_file:\n",
    "        hypotheses = simplified_summary_file.read()\n",
    "    with open(ref_file_path, 'r') as simplified_summary_file:\n",
    "        references = simplified_summary_file.read()\n",
    "    return rouge.get_scores(hypotheses, references, avg=True)\n",
    "\n",
    "\n",
    "# calculate_rouge_score('data/wiki-auto/25/simplify_summary/simplified_summary.txt','data/wiki-auto/25/destination.txt')\n",
    "# calculate_rouge_score('data/wiki-auto/25/summary_simplify/simplified_summary.txt','data/wiki-auto/25/destination.txt')"
   ]
  },
  {
   "cell_type": "code",
   "execution_count": 73,
   "metadata": {},
   "outputs": [],
   "source": [
    "'''\n",
    "Calculate the ROUGE SCORES for the whole dataset and save the scores to a file. \n",
    "'''\n",
    "def calculate_rouge_score_for_dataset(pipeline='simplify_summary', data_dir='data/wiki-auto', location='data/'):\n",
    "    evaluation_dataset = dict()\n",
    "    # base data/wiki-auto\n",
    "    count = 2\n",
    "    for folder in os.listdir(data_dir):\n",
    "        # raw data = data/wiki-auto/{id}\n",
    "        base_data_dir = os.path.join(data_dir, folder)\n",
    "        ground_truth_file_path = os.path.join(base_data_dir, 'destination.txt')\n",
    "        pipeline_dir = os.path.join(base_data_dir, pipeline)\n",
    "        simplified_summary_file_path = os.path.join(\n",
    "            pipeline_dir, 'simplified_summary.txt')\n",
    "        evaluation_dataset[folder] = calculate_rouge_score(simplified_summary_file_path, ground_truth_file_path)\n",
    "        print(f'Done generating ROUGE scores for {folder} \\r', end='', flush=True)\n",
    "        # count -= 1 \n",
    "        # if count == 0:\n",
    "        #     break\n",
    "    with open(location+pipeline+'_rouge_scores', 'w') as outputfile:\n",
    "        json.dump(evaluation_dataset, outputfile)"
   ]
  },
  {
   "cell_type": "code",
   "execution_count": 74,
   "metadata": {},
   "outputs": [
    {
     "name": "stdout",
     "output_type": "stream",
     "text": [
      "CPU times: user 10min 5s, sys: 540 ms, total: 10min 6s\n",
      "Wall time: 10min 6s\n"
     ]
    }
   ],
   "source": [
    "%%time\n",
    "# Calculate ROUGE score for the whole dataset for the first pipeline (Simplify & Summarize)\n",
    "calculate_rouge_score_for_dataset('simplify_summary')"
   ]
  },
  {
   "cell_type": "code",
   "execution_count": 75,
   "metadata": {},
   "outputs": [
    {
     "name": "stdout",
     "output_type": "stream",
     "text": [
      "CPU times: user 9min 55s, sys: 724 ms, total: 9min 56s\n",
      "Wall time: 9min 57s\n"
     ]
    }
   ],
   "source": [
    "%%time\n",
    "# Calculate ROUGE score for the whole dataset for the second pipeline (Summarize & Simplify)\n",
    "calculate_rouge_score_for_dataset('summary_simplify')"
   ]
  },
  {
   "cell_type": "markdown",
   "metadata": {},
   "source": [
    "#### Preprocess the ROUGE scores files to calculate the average score for the whole dataset"
   ]
  },
  {
   "cell_type": "code",
   "execution_count": 8,
   "metadata": {},
   "outputs": [
    {
     "name": "stdout",
     "output_type": "stream",
     "text": [
      "CPU times: user 12.2 ms, sys: 4.08 ms, total: 16.2 ms\n",
      "Wall time: 24.3 ms\n"
     ]
    },
    {
     "data": {
      "text/html": [
       "<div>\n",
       "<style scoped>\n",
       "    .dataframe tbody tr th:only-of-type {\n",
       "        vertical-align: middle;\n",
       "    }\n",
       "\n",
       "    .dataframe tbody tr th {\n",
       "        vertical-align: top;\n",
       "    }\n",
       "\n",
       "    .dataframe thead th {\n",
       "        text-align: right;\n",
       "    }\n",
       "</style>\n",
       "<table border=\"1\" class=\"dataframe\">\n",
       "  <thead>\n",
       "    <tr style=\"text-align: right;\">\n",
       "      <th></th>\n",
       "      <th>rouge-1</th>\n",
       "      <th>rouge-2</th>\n",
       "      <th>rouge-l</th>\n",
       "    </tr>\n",
       "  </thead>\n",
       "  <tbody>\n",
       "    <tr>\n",
       "      <th>1004</th>\n",
       "      <td>{'r': 0.202247191011235, 'p': 0.19148936170212...</td>\n",
       "      <td>{'r': 0.051204819277108, 'p': 0.05151515151515...</td>\n",
       "      <td>{'r': 0.18539325842696602, 'p': 0.175531914893...</td>\n",
       "    </tr>\n",
       "    <tr>\n",
       "      <th>1005</th>\n",
       "      <td>{'r': 0.234042553191489, 'p': 0.27049180327868...</td>\n",
       "      <td>{'r': 0.081481481481481, 'p': 0.11398963730569...</td>\n",
       "      <td>{'r': 0.20567375886524802, 'p': 0.237704918032...</td>\n",
       "    </tr>\n",
       "    <tr>\n",
       "      <th>10065</th>\n",
       "      <td>{'r': 0.23333333333333303, 'p': 0.233333333333...</td>\n",
       "      <td>{'r': 0.07042253521126701, 'p': 0.070422535211...</td>\n",
       "      <td>{'r': 0.23333333333333303, 'p': 0.233333333333...</td>\n",
       "    </tr>\n",
       "    <tr>\n",
       "      <th>10224</th>\n",
       "      <td>{'r': 0.158415841584158, 'p': 0.16080402010050...</td>\n",
       "      <td>{'r': 0.032934131736526005, 'p': 0.02917771883...</td>\n",
       "      <td>{'r': 0.15346534653465302, 'p': 0.155778894472...</td>\n",
       "    </tr>\n",
       "    <tr>\n",
       "      <th>10263</th>\n",
       "      <td>{'r': 0.19626168224299, 'p': 0.375, 'f': 0.257...</td>\n",
       "      <td>{'r': 0.09202453987730001, 'p': 0.174418604651...</td>\n",
       "      <td>{'r': 0.177570093457943, 'p': 0.33928571428571...</td>\n",
       "    </tr>\n",
       "    <tr>\n",
       "      <th>10294</th>\n",
       "      <td>{'r': 0.252830188679245, 'p': 0.19881305637982...</td>\n",
       "      <td>{'r': 0.055187637969094004, 'p': 0.03703703703...</td>\n",
       "      <td>{'r': 0.23018867924528302, 'p': 0.181008902077...</td>\n",
       "    </tr>\n",
       "    <tr>\n",
       "      <th>10335</th>\n",
       "      <td>{'r': 0.340764331210191, 'p': 0.27973856209150...</td>\n",
       "      <td>{'r': 0.11384820239680402, 'p': 0.102333931777...</td>\n",
       "      <td>{'r': 0.32324840764331203, 'p': 0.265359477124...</td>\n",
       "    </tr>\n",
       "    <tr>\n",
       "      <th>10415</th>\n",
       "      <td>{'r': 0.251700680272108, 'p': 0.23717948717948...</td>\n",
       "      <td>{'r': 0.14351851851851802, 'p': 0.113138686131...</td>\n",
       "      <td>{'r': 0.23809523809523803, 'p': 0.224358974358...</td>\n",
       "    </tr>\n",
       "    <tr>\n",
       "      <th>10416</th>\n",
       "      <td>{'r': 0.37158469945355105, 'p': 0.456375838926...</td>\n",
       "      <td>{'r': 0.21951219512195103, 'p': 0.245136186770...</td>\n",
       "      <td>{'r': 0.37158469945355105, 'p': 0.456375838926...</td>\n",
       "    </tr>\n",
       "    <tr>\n",
       "      <th>10418</th>\n",
       "      <td>{'r': 0.29487179487179405, 'p': 0.326241134751...</td>\n",
       "      <td>{'r': 0.11489361702127601, 'p': 0.1125, 'f': 0...</td>\n",
       "      <td>{'r': 0.29487179487179405, 'p': 0.326241134751...</td>\n",
       "    </tr>\n",
       "  </tbody>\n",
       "</table>\n",
       "</div>"
      ],
      "text/plain": [
       "                                                 rouge-1  \\\n",
       "1004   {'r': 0.202247191011235, 'p': 0.19148936170212...   \n",
       "1005   {'r': 0.234042553191489, 'p': 0.27049180327868...   \n",
       "10065  {'r': 0.23333333333333303, 'p': 0.233333333333...   \n",
       "10224  {'r': 0.158415841584158, 'p': 0.16080402010050...   \n",
       "10263  {'r': 0.19626168224299, 'p': 0.375, 'f': 0.257...   \n",
       "10294  {'r': 0.252830188679245, 'p': 0.19881305637982...   \n",
       "10335  {'r': 0.340764331210191, 'p': 0.27973856209150...   \n",
       "10415  {'r': 0.251700680272108, 'p': 0.23717948717948...   \n",
       "10416  {'r': 0.37158469945355105, 'p': 0.456375838926...   \n",
       "10418  {'r': 0.29487179487179405, 'p': 0.326241134751...   \n",
       "\n",
       "                                                 rouge-2  \\\n",
       "1004   {'r': 0.051204819277108, 'p': 0.05151515151515...   \n",
       "1005   {'r': 0.081481481481481, 'p': 0.11398963730569...   \n",
       "10065  {'r': 0.07042253521126701, 'p': 0.070422535211...   \n",
       "10224  {'r': 0.032934131736526005, 'p': 0.02917771883...   \n",
       "10263  {'r': 0.09202453987730001, 'p': 0.174418604651...   \n",
       "10294  {'r': 0.055187637969094004, 'p': 0.03703703703...   \n",
       "10335  {'r': 0.11384820239680402, 'p': 0.102333931777...   \n",
       "10415  {'r': 0.14351851851851802, 'p': 0.113138686131...   \n",
       "10416  {'r': 0.21951219512195103, 'p': 0.245136186770...   \n",
       "10418  {'r': 0.11489361702127601, 'p': 0.1125, 'f': 0...   \n",
       "\n",
       "                                                 rouge-l  \n",
       "1004   {'r': 0.18539325842696602, 'p': 0.175531914893...  \n",
       "1005   {'r': 0.20567375886524802, 'p': 0.237704918032...  \n",
       "10065  {'r': 0.23333333333333303, 'p': 0.233333333333...  \n",
       "10224  {'r': 0.15346534653465302, 'p': 0.155778894472...  \n",
       "10263  {'r': 0.177570093457943, 'p': 0.33928571428571...  \n",
       "10294  {'r': 0.23018867924528302, 'p': 0.181008902077...  \n",
       "10335  {'r': 0.32324840764331203, 'p': 0.265359477124...  \n",
       "10415  {'r': 0.23809523809523803, 'p': 0.224358974358...  \n",
       "10416  {'r': 0.37158469945355105, 'p': 0.456375838926...  \n",
       "10418  {'r': 0.29487179487179405, 'p': 0.326241134751...  "
      ]
     },
     "execution_count": 8,
     "metadata": {},
     "output_type": "execute_result"
    }
   ],
   "source": [
    "%%time\n",
    "simplify_summary_df = pandas.read_json(\n",
    "    'data/simplify_summary_rouge_scores',\n",
    "    encoding='utf8',\n",
    "    orient='index'\n",
    ")\n",
    "simplify_summary_df.head(10)"
   ]
  },
  {
   "cell_type": "code",
   "execution_count": 9,
   "metadata": {},
   "outputs": [
    {
     "data": {
      "text/html": [
       "<div>\n",
       "<style scoped>\n",
       "    .dataframe tbody tr th:only-of-type {\n",
       "        vertical-align: middle;\n",
       "    }\n",
       "\n",
       "    .dataframe tbody tr th {\n",
       "        vertical-align: top;\n",
       "    }\n",
       "\n",
       "    .dataframe thead th {\n",
       "        text-align: right;\n",
       "    }\n",
       "</style>\n",
       "<table border=\"1\" class=\"dataframe\">\n",
       "  <thead>\n",
       "    <tr style=\"text-align: right;\">\n",
       "      <th></th>\n",
       "      <th>rouge-1</th>\n",
       "      <th>rouge-2</th>\n",
       "      <th>rouge-l</th>\n",
       "    </tr>\n",
       "  </thead>\n",
       "  <tbody>\n",
       "    <tr>\n",
       "      <th>1004</th>\n",
       "      <td>{'r': 0.230337078651685, 'p': 0.22404371584699...</td>\n",
       "      <td>{'r': 0.07228915662650601, 'p': 0.073619631901...</td>\n",
       "      <td>{'r': 0.21910112359550502, 'p': 0.213114754098...</td>\n",
       "    </tr>\n",
       "    <tr>\n",
       "      <th>1005</th>\n",
       "      <td>{'r': 0.234042553191489, 'p': 0.28205128205128...</td>\n",
       "      <td>{'r': 0.092592592592592, 'p': 0.13586956521739...</td>\n",
       "      <td>{'r': 0.20567375886524802, 'p': 0.247863247863...</td>\n",
       "    </tr>\n",
       "    <tr>\n",
       "      <th>10065</th>\n",
       "      <td>{'r': 0.21111111111111103, 'p': 0.283582089552...</td>\n",
       "      <td>{'r': 0.07042253521126701, 'p': 0.086956521739...</td>\n",
       "      <td>{'r': 0.21111111111111103, 'p': 0.283582089552...</td>\n",
       "    </tr>\n",
       "    <tr>\n",
       "      <th>10224</th>\n",
       "      <td>{'r': 0.17821782178217802, 'p': 0.173076923076...</td>\n",
       "      <td>{'r': 0.032934131736526005, 'p': 0.02956989247...</td>\n",
       "      <td>{'r': 0.173267326732673, 'p': 0.16826923076923...</td>\n",
       "    </tr>\n",
       "    <tr>\n",
       "      <th>10263</th>\n",
       "      <td>{'r': 0.19626168224299, 'p': 0.403846153846153...</td>\n",
       "      <td>{'r': 0.08588957055214701, 'p': 0.168674698795...</td>\n",
       "      <td>{'r': 0.15887850467289702, 'p': 0.326923076923...</td>\n",
       "    </tr>\n",
       "    <tr>\n",
       "      <th>10294</th>\n",
       "      <td>{'r': 0.24528301886792403, 'p': 0.198170731707...</td>\n",
       "      <td>{'r': 0.048565121412803, 'p': 0.03298350824587...</td>\n",
       "      <td>{'r': 0.226415094339622, 'p': 0.18292682926829...</td>\n",
       "    </tr>\n",
       "    <tr>\n",
       "      <th>10335</th>\n",
       "      <td>{'r': 0.312101910828025, 'p': 0.27762039660056...</td>\n",
       "      <td>{'r': 0.101864181091877, 'p': 0.09845559845559...</td>\n",
       "      <td>{'r': 0.29936305732484003, 'p': 0.266288951841...</td>\n",
       "    </tr>\n",
       "    <tr>\n",
       "      <th>10415</th>\n",
       "      <td>{'r': 0.23809523809523803, 'p': 0.239726027397...</td>\n",
       "      <td>{'r': 0.12037037037037, 'p': 0.103174603174603...</td>\n",
       "      <td>{'r': 0.224489795918367, 'p': 0.22602739726027...</td>\n",
       "    </tr>\n",
       "    <tr>\n",
       "      <th>10416</th>\n",
       "      <td>{'r': 0.34972677595628404, 'p': 0.438356164383...</td>\n",
       "      <td>{'r': 0.21602787456445902, 'p': 0.248, 'f': 0....</td>\n",
       "      <td>{'r': 0.34426229508196704, 'p': 0.431506849315...</td>\n",
       "    </tr>\n",
       "    <tr>\n",
       "      <th>10418</th>\n",
       "      <td>{'r': 0.224358974358974, 'p': 0.30434782608695...</td>\n",
       "      <td>{'r': 0.059574468085106004, 'p': 0.07216494845...</td>\n",
       "      <td>{'r': 0.224358974358974, 'p': 0.30434782608695...</td>\n",
       "    </tr>\n",
       "  </tbody>\n",
       "</table>\n",
       "</div>"
      ],
      "text/plain": [
       "                                                 rouge-1  \\\n",
       "1004   {'r': 0.230337078651685, 'p': 0.22404371584699...   \n",
       "1005   {'r': 0.234042553191489, 'p': 0.28205128205128...   \n",
       "10065  {'r': 0.21111111111111103, 'p': 0.283582089552...   \n",
       "10224  {'r': 0.17821782178217802, 'p': 0.173076923076...   \n",
       "10263  {'r': 0.19626168224299, 'p': 0.403846153846153...   \n",
       "10294  {'r': 0.24528301886792403, 'p': 0.198170731707...   \n",
       "10335  {'r': 0.312101910828025, 'p': 0.27762039660056...   \n",
       "10415  {'r': 0.23809523809523803, 'p': 0.239726027397...   \n",
       "10416  {'r': 0.34972677595628404, 'p': 0.438356164383...   \n",
       "10418  {'r': 0.224358974358974, 'p': 0.30434782608695...   \n",
       "\n",
       "                                                 rouge-2  \\\n",
       "1004   {'r': 0.07228915662650601, 'p': 0.073619631901...   \n",
       "1005   {'r': 0.092592592592592, 'p': 0.13586956521739...   \n",
       "10065  {'r': 0.07042253521126701, 'p': 0.086956521739...   \n",
       "10224  {'r': 0.032934131736526005, 'p': 0.02956989247...   \n",
       "10263  {'r': 0.08588957055214701, 'p': 0.168674698795...   \n",
       "10294  {'r': 0.048565121412803, 'p': 0.03298350824587...   \n",
       "10335  {'r': 0.101864181091877, 'p': 0.09845559845559...   \n",
       "10415  {'r': 0.12037037037037, 'p': 0.103174603174603...   \n",
       "10416  {'r': 0.21602787456445902, 'p': 0.248, 'f': 0....   \n",
       "10418  {'r': 0.059574468085106004, 'p': 0.07216494845...   \n",
       "\n",
       "                                                 rouge-l  \n",
       "1004   {'r': 0.21910112359550502, 'p': 0.213114754098...  \n",
       "1005   {'r': 0.20567375886524802, 'p': 0.247863247863...  \n",
       "10065  {'r': 0.21111111111111103, 'p': 0.283582089552...  \n",
       "10224  {'r': 0.173267326732673, 'p': 0.16826923076923...  \n",
       "10263  {'r': 0.15887850467289702, 'p': 0.326923076923...  \n",
       "10294  {'r': 0.226415094339622, 'p': 0.18292682926829...  \n",
       "10335  {'r': 0.29936305732484003, 'p': 0.266288951841...  \n",
       "10415  {'r': 0.224489795918367, 'p': 0.22602739726027...  \n",
       "10416  {'r': 0.34426229508196704, 'p': 0.431506849315...  \n",
       "10418  {'r': 0.224358974358974, 'p': 0.30434782608695...  "
      ]
     },
     "execution_count": 9,
     "metadata": {},
     "output_type": "execute_result"
    }
   ],
   "source": [
    "summary_simplify_df = pandas.read_json(\n",
    "    'data/summary_simplify_rouge_scores',\n",
    "    encoding='utf8',\n",
    "    orient='index'\n",
    ")\n",
    "summary_simplify_df.head(10)"
   ]
  },
  {
   "cell_type": "code",
   "execution_count": 10,
   "metadata": {},
   "outputs": [],
   "source": [
    "'''\n",
    "Calculate the average ROUGE scores r,p,f for the whole given dataset \n",
    "'''\n",
    "def calculate_avg_rouge_stats(rouge_dataframe):\n",
    "    avg_rouge_stats = dict(\n",
    "    {\n",
    "        'rouge-1': {\n",
    "            \"r\": 0,\n",
    "            \"p\": 0,\n",
    "            \"f\": 0,\n",
    "        },\n",
    "        'rouge-2': {\n",
    "            \"r\": 0,\n",
    "            \"p\": 0,\n",
    "            \"f\": 0,\n",
    "        },\n",
    "        'rouge-l': {\n",
    "            \"r\": 0,\n",
    "            \"p\": 0,\n",
    "            \"f\": 0,\n",
    "        }\n",
    "    })\n",
    "    dataframe_size = len(rouge_dataframe)\n",
    "    for i in range(dataframe_size):\n",
    "        for key in avg_rouge_stats:\n",
    "            avg_rouge_stats[key]['r'] = avg_rouge_stats[key]['r'] + rouge_dataframe.iloc[i][key]['r']\n",
    "            avg_rouge_stats[key]['p'] = avg_rouge_stats[key]['p'] + rouge_dataframe.iloc[i][key]['p']\n",
    "            avg_rouge_stats[key]['f'] = avg_rouge_stats[key]['f']+ rouge_dataframe.iloc[i][key]['f']\n",
    "\n",
    "    for key in avg_rouge_stats:\n",
    "        avg_rouge_stats[key]['r'] = round(avg_rouge_stats[key]['r'] / dataframe_size, 3)\n",
    "        avg_rouge_stats[key]['p'] = round(avg_rouge_stats[key]['p'] / dataframe_size, 3)\n",
    "        avg_rouge_stats[key]['f'] = round(avg_rouge_stats[key]['f'] / dataframe_size, 3)\n",
    "        # if i == 1:\n",
    "        #     break\n",
    "    return avg_rouge_stats"
   ]
  },
  {
   "cell_type": "code",
   "execution_count": 11,
   "metadata": {},
   "outputs": [
    {
     "name": "stdout",
     "output_type": "stream",
     "text": [
      "The ROUGE-1,ROUGE-2 and ROUGE-l score for the Simplify & Summary : \n",
      "{'rouge-1': {'f': 0.309, 'p': 0.344, 'r': 0.297},\n",
      " 'rouge-2': {'f': 0.129, 'p': 0.145, 'r': 0.125},\n",
      " 'rouge-l': {'f': 0.292, 'p': 0.326, 'r': 0.28}}\n",
      "The ROUGE-1,ROUGE-2 and ROUGE-l score for the Summary & Simplify : \n",
      "{'rouge-1': {'f': 0.309, 'p': 0.352, 'r': 0.291},\n",
      " 'rouge-2': {'f': 0.13, 'p': 0.151, 'r': 0.123},\n",
      " 'rouge-l': {'f': 0.293, 'p': 0.333, 'r': 0.275}}\n",
      "CPU times: user 658 ms, sys: 2.33 ms, total: 660 ms\n",
      "Wall time: 658 ms\n"
     ]
    }
   ],
   "source": [
    "%%time\n",
    "print(\"The ROUGE-1,ROUGE-2 and ROUGE-l score for the Simplify & Summary : \")\n",
    "pprint(calculate_avg_rouge_stats(simplify_summary_df))\n",
    "\n",
    "print(\"The ROUGE-1,ROUGE-2 and ROUGE-l score for the Summary & Simplify : \")\n",
    "pprint(calculate_avg_rouge_stats(summary_simplify_df))"
   ]
  },
  {
   "cell_type": "code",
   "execution_count": 13,
   "metadata": {},
   "outputs": [
    {
     "name": "stdout",
     "output_type": "stream",
     "text": [
      "{'rouge-1': {'f': 0.2988953816345476,\n",
      "             'p': 0.28117359413202936,\n",
      "             'r': 0.31900138696255204},\n",
      " 'rouge-2': {'f': 0.09651217847179176,\n",
      "             'p': 0.09417249417249417,\n",
      "             'r': 0.09897109260166585},\n",
      " 'rouge-l': {'f': 0.2820012945650219,\n",
      "             'p': 0.265281173594132,\n",
      "             'r': 0.30097087378640774}}\n",
      "{'rouge-1': {'f': 0.3056265934958972,\n",
      "             'p': 0.2835112692763938,\n",
      "             'r': 0.3314840499306519},\n",
      " 'rouge-2': {'f': 0.09906675738603936,\n",
      "             'p': 0.09681945743685688,\n",
      "             'r': 0.10142087212150906},\n",
      " 'rouge-l': {'f': 0.27877237354704815,\n",
      "             'p': 0.2586002372479241,\n",
      "             'r': 0.30235783633841884}}\n"
     ]
    }
   ],
   "source": [
    "pprint(calculate_rouge_score('data/wiki-auto/1368/simplify_summary/simplified_summary.txt','data/wiki-auto/1368/destination.txt'))\n",
    "pprint(calculate_rouge_score('data/wiki-auto/1368/summary_simplify/simplified_summary.txt','data/wiki-auto/1368/destination.txt')  )"
   ]
  },
  {
   "cell_type": "markdown",
   "metadata": {},
   "source": [
    "### BLEU"
   ]
  },
  {
   "cell_type": "code",
   "execution_count": 153,
   "metadata": {},
   "outputs": [
    {
     "name": "stdout",
     "output_type": "stream",
     "text": [
      "{'bleu': 0.213, 'fkgl': 12.984}\n"
     ]
    }
   ],
   "source": [
    "!easse evaluate -t pwkp_test -m 'bleu,fkgl' --refs_sents_paths data/wiki-auto/1368/destination.txt --orig_sents_path data/wiki-auto/1368/source.txt --sys_sents_path data/wiki-auto/1368/simplify_summary/simplified_summary.txt"
   ]
  },
  {
   "cell_type": "code",
   "execution_count": 23,
   "metadata": {},
   "outputs": [],
   "source": [
    "'''\n",
    "Calculate the BLEU Scores for the whole dataset, you specify the pipeline\n",
    "'''\n",
    "def calculate_bleu_score_for_dataset(pipeline='simplify_summary', data_dir='data/wiki-auto', location='data/'):\n",
    "    evaluation_dataset = dict()\n",
    "    # base data/wiki-auto\n",
    "    count = 2\n",
    "    for folder in os.listdir(data_dir):\n",
    "        # raw data = data/wiki-auto/{id}\n",
    "        base_data_dir = os.path.join(data_dir, folder)\n",
    "        ground_truth_file_path = os.path.join(base_data_dir, 'destination.txt')\n",
    "        pipeline_dir = os.path.join(base_data_dir, pipeline)\n",
    "        simplified_summary_file_path = os.path.join(\n",
    "            pipeline_dir, 'simplified_summary.txt')\n",
    "        evaluation_dataset[folder] = bleu.corpus_bleu(sys_sents=read_file(simplified_summary_file_path), \n",
    "        refs_sents=read_file(ground_truth_file_path)) # still not sure of this must be list of lists\n",
    "    \n",
    "        print(f'Done generating BLEU scores for {folder} \\r', end='', flush=True)\n",
    "        # count -= 1 \n",
    "        # if count == 0:\n",
    "        #     break\n",
    "    with open(location+pipeline+'_bleu_scores', 'w') as outputfile:\n",
    "        json.dump(evaluation_dataset, outputfile)\n",
    "\n",
    "def calculate_avg_bleu_stats(file_path):\n",
    "    with open(file_path, 'r') as inputfile:\n",
    "       bleu_stats =  json.load(inputfile)\n",
    "    return (sum(bleu_stats.values())/len(bleu_stats))\n"
   ]
  },
  {
   "cell_type": "code",
   "execution_count": 24,
   "metadata": {},
   "outputs": [
    {
     "name": "stdout",
     "output_type": "stream",
     "text": [
      "CPU times: user 1min 12s, sys: 180 ms, total: 1min 12s\n",
      "Wall time: 1min 12s\n"
     ]
    }
   ],
   "source": [
    "%%time\n",
    "# Calculate BLEU score for the whole dataset for the first pipeline (Simplify & Summarize)\n",
    "calculate_bleu_score_for_dataset('simplify_summary')"
   ]
  },
  {
   "cell_type": "code",
   "execution_count": 25,
   "metadata": {},
   "outputs": [
    {
     "name": "stdout",
     "output_type": "stream",
     "text": [
      "CPU times: user 1min 12s, sys: 277 ms, total: 1min 12s\n",
      "Wall time: 1min 12s\n"
     ]
    }
   ],
   "source": [
    "%%time\n",
    "# Calculate BLEU score for the whole dataset for the first pipeline (Summarize & Simplify)\n",
    "calculate_bleu_score_for_dataset('summary_simplify')"
   ]
  },
  {
   "cell_type": "code",
   "execution_count": 26,
   "metadata": {},
   "outputs": [
    {
     "name": "stdout",
     "output_type": "stream",
     "text": [
      "The bleuscore for the Simplify & Summary : \n",
      "0.15187647507892169\n",
      "The bleu score for the Summary & Simplify : \n",
      "0.15094121464884871\n",
      "CPU times: user 1.81 ms, sys: 0 ns, total: 1.81 ms\n",
      "Wall time: 1.41 ms\n"
     ]
    }
   ],
   "source": [
    "%%time\n",
    "print(\"The bleuscore for the Simplify & Summary : \")\n",
    "pprint(calculate_avg_bleu_stats('data/simplify_summary_bleu_scores'))\n",
    "\n",
    "print(\"The bleu score for the Summary & Simplify : \")\n",
    "pprint(calculate_avg_bleu_stats('data/summary_simplify_bleu_scores'))"
   ]
  },
  {
   "cell_type": "code",
   "execution_count": 161,
   "metadata": {},
   "outputs": [
    {
     "data": {
      "text/plain": [
       "0.11933771243068295"
      ]
     },
     "execution_count": 161,
     "metadata": {},
     "output_type": "execute_result"
    }
   ],
   "source": [
    "bleu.corpus_bleu(sys_sents=read_file('data/wiki-auto/1368/simplify_summary/simplified_summary.txt'),\n",
    " refs_sents=read_file('data/wiki-auto/1368/destination.txt'))"
   ]
  },
  {
   "cell_type": "markdown",
   "metadata": {},
   "source": [
    "### SARI"
   ]
  },
  {
   "cell_type": "code",
   "execution_count": 212,
   "metadata": {},
   "outputs": [],
   "source": [
    "# read_file('data/wiki-auto/1368/source.txt')"
   ]
  },
  {
   "cell_type": "code",
   "execution_count": 211,
   "metadata": {},
   "outputs": [
    {
     "ename": "AssertionError",
     "evalue": "Original sentences and system sentences don't have the same number of samples",
     "output_type": "error",
     "traceback": [
      "\u001b[0;31m---------------------------------------------------------------------------\u001b[0m",
      "\u001b[0;31mAssertionError\u001b[0m                            Traceback (most recent call last)",
      "\u001b[0;32m<ipython-input-211-cedefd8dacee>\u001b[0m in \u001b[0;36m<module>\u001b[0;34m\u001b[0m\n\u001b[1;32m      2\u001b[0m     \u001b[0morig_sents\u001b[0m \u001b[0;34m=\u001b[0m \u001b[0mread_file\u001b[0m\u001b[0;34m(\u001b[0m\u001b[0;34m'data/wiki-auto/1368/source.txt'\u001b[0m\u001b[0;34m)\u001b[0m\u001b[0;34m,\u001b[0m\u001b[0;34m\u001b[0m\u001b[0;34m\u001b[0m\u001b[0m\n\u001b[1;32m      3\u001b[0m     \u001b[0msys_sents\u001b[0m\u001b[0;34m=\u001b[0m\u001b[0mread_file\u001b[0m\u001b[0;34m(\u001b[0m\u001b[0;34m'data/wiki-auto/1368/simplify_summary/simplified_summary.txt'\u001b[0m\u001b[0;34m)\u001b[0m\u001b[0;34m,\u001b[0m\u001b[0;34m\u001b[0m\u001b[0;34m\u001b[0m\u001b[0m\n\u001b[0;32m----> 4\u001b[0;31m     refs_sents=read_file('data/wiki-auto/1368/destination.txt')) # still not sure of this must be list of lists\n\u001b[0m",
      "\u001b[0;32m/mnt/nvme0n1p4/skool/master/UT/REDI/GAP/REDI-PROJECT/easse/easse/sari.py\u001b[0m in \u001b[0;36mcorpus_sari\u001b[0;34m(*args, **kwargs)\u001b[0m\n\u001b[1;32m    264\u001b[0m \u001b[0;34m\u001b[0m\u001b[0m\n\u001b[1;32m    265\u001b[0m \u001b[0;32mdef\u001b[0m \u001b[0mcorpus_sari\u001b[0m\u001b[0;34m(\u001b[0m\u001b[0;34m*\u001b[0m\u001b[0margs\u001b[0m\u001b[0;34m,\u001b[0m \u001b[0;34m**\u001b[0m\u001b[0mkwargs\u001b[0m\u001b[0;34m)\u001b[0m\u001b[0;34m:\u001b[0m\u001b[0;34m\u001b[0m\u001b[0;34m\u001b[0m\u001b[0m\n\u001b[0;32m--> 266\u001b[0;31m     \u001b[0madd_score\u001b[0m\u001b[0;34m,\u001b[0m \u001b[0mkeep_score\u001b[0m\u001b[0;34m,\u001b[0m \u001b[0mdel_score\u001b[0m \u001b[0;34m=\u001b[0m \u001b[0mget_corpus_sari_operation_scores\u001b[0m\u001b[0;34m(\u001b[0m\u001b[0;34m*\u001b[0m\u001b[0margs\u001b[0m\u001b[0;34m,\u001b[0m \u001b[0;34m**\u001b[0m\u001b[0mkwargs\u001b[0m\u001b[0;34m)\u001b[0m\u001b[0;34m\u001b[0m\u001b[0;34m\u001b[0m\u001b[0m\n\u001b[0m\u001b[1;32m    267\u001b[0m     \u001b[0;32mreturn\u001b[0m \u001b[0;34m(\u001b[0m\u001b[0madd_score\u001b[0m \u001b[0;34m+\u001b[0m \u001b[0mkeep_score\u001b[0m \u001b[0;34m+\u001b[0m \u001b[0mdel_score\u001b[0m\u001b[0;34m)\u001b[0m \u001b[0;34m/\u001b[0m \u001b[0;36m3\u001b[0m\u001b[0;34m\u001b[0m\u001b[0;34m\u001b[0m\u001b[0m\n",
      "\u001b[0;32m/mnt/nvme0n1p4/skool/master/UT/REDI/GAP/REDI-PROJECT/easse/easse/sari.py\u001b[0m in \u001b[0;36mget_corpus_sari_operation_scores\u001b[0;34m(orig_sents, sys_sents, refs_sents, lowercase, tokenizer, legacy, use_f1_for_deletion, use_paper_version)\u001b[0m\n\u001b[1;32m    254\u001b[0m     \u001b[0mrefs_sents\u001b[0m \u001b[0;34m=\u001b[0m \u001b[0;34m[\u001b[0m\u001b[0;34m[\u001b[0m\u001b[0mutils_prep\u001b[0m\u001b[0;34m.\u001b[0m\u001b[0mnormalize\u001b[0m\u001b[0;34m(\u001b[0m\u001b[0msent\u001b[0m\u001b[0;34m,\u001b[0m \u001b[0mlowercase\u001b[0m\u001b[0;34m,\u001b[0m \u001b[0mtokenizer\u001b[0m\u001b[0;34m)\u001b[0m \u001b[0;32mfor\u001b[0m \u001b[0msent\u001b[0m \u001b[0;32min\u001b[0m \u001b[0mref_sents\u001b[0m\u001b[0;34m]\u001b[0m \u001b[0;32mfor\u001b[0m \u001b[0mref_sents\u001b[0m \u001b[0;32min\u001b[0m \u001b[0mrefs_sents\u001b[0m\u001b[0;34m]\u001b[0m\u001b[0;34m\u001b[0m\u001b[0;34m\u001b[0m\u001b[0m\n\u001b[1;32m    255\u001b[0m \u001b[0;34m\u001b[0m\u001b[0m\n\u001b[0;32m--> 256\u001b[0;31m     \u001b[0mstats\u001b[0m \u001b[0;34m=\u001b[0m \u001b[0mcompute_ngram_stats\u001b[0m\u001b[0;34m(\u001b[0m\u001b[0morig_sents\u001b[0m\u001b[0;34m,\u001b[0m \u001b[0msys_sents\u001b[0m\u001b[0;34m,\u001b[0m \u001b[0mrefs_sents\u001b[0m\u001b[0;34m)\u001b[0m\u001b[0;34m\u001b[0m\u001b[0;34m\u001b[0m\u001b[0m\n\u001b[0m\u001b[1;32m    257\u001b[0m \u001b[0;34m\u001b[0m\u001b[0m\n\u001b[1;32m    258\u001b[0m     \u001b[0;32mif\u001b[0m \u001b[0;32mnot\u001b[0m \u001b[0muse_paper_version\u001b[0m\u001b[0;34m:\u001b[0m\u001b[0;34m\u001b[0m\u001b[0;34m\u001b[0m\u001b[0m\n",
      "\u001b[0;32m/mnt/nvme0n1p4/skool/master/UT/REDI/GAP/REDI-PROJECT/easse/easse/sari.py\u001b[0m in \u001b[0;36mcompute_ngram_stats\u001b[0;34m(orig_sents, sys_sents, refs_sents)\u001b[0m\n\u001b[1;32m    107\u001b[0m     assert len(orig_sents) == len(\n\u001b[1;32m    108\u001b[0m         \u001b[0msys_sents\u001b[0m\u001b[0;34m\u001b[0m\u001b[0;34m\u001b[0m\u001b[0m\n\u001b[0;32m--> 109\u001b[0;31m     ), \"Original sentences and system sentences don't have the same number of samples\"\n\u001b[0m\u001b[1;32m    110\u001b[0m     assert all(\n\u001b[1;32m    111\u001b[0m         \u001b[0mlen\u001b[0m\u001b[0;34m(\u001b[0m\u001b[0mref_sents\u001b[0m\u001b[0;34m)\u001b[0m \u001b[0;34m==\u001b[0m \u001b[0mlen\u001b[0m\u001b[0;34m(\u001b[0m\u001b[0morig_sents\u001b[0m\u001b[0;34m)\u001b[0m \u001b[0;32mfor\u001b[0m \u001b[0mref_sents\u001b[0m \u001b[0;32min\u001b[0m \u001b[0mrefs_sents\u001b[0m\u001b[0;34m\u001b[0m\u001b[0;34m\u001b[0m\u001b[0m\n",
      "\u001b[0;31mAssertionError\u001b[0m: Original sentences and system sentences don't have the same number of samples"
     ]
    }
   ],
   "source": [
    "sari.corpus_sari(\n",
    "    orig_sents = read_file('data/wiki-auto/1368/source.txt'),\n",
    "    sys_sents=read_file('data/wiki-auto/1368/simplify_summary/simplified_summary.txt'),\n",
    "    refs_sents=read_file('data/wiki-auto/1368/destination.txt')) # still not sure of this must be list of lists"
   ]
  }
 ],
 "metadata": {
  "kernelspec": {
   "display_name": "Python 3.6.13 ('py36')",
   "language": "python",
   "name": "python3"
  },
  "language_info": {
   "codemirror_mode": {
    "name": "ipython",
    "version": 3
   },
   "file_extension": ".py",
   "mimetype": "text/x-python",
   "name": "python",
   "nbconvert_exporter": "python",
   "pygments_lexer": "ipython3",
   "version": "3.6.13"
  },
  "orig_nbformat": 4,
  "vscode": {
   "interpreter": {
    "hash": "8b2dca8fe6dbe9796b1dddfba88f9aac0a93c27145276b3838cc70c9e21c0725"
   }
  }
 },
 "nbformat": 4,
 "nbformat_minor": 2
}
