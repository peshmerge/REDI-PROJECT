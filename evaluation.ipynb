{
 "cells": [
  {
   "cell_type": "markdown",
   "metadata": {},
   "source": [
    "# Evaluation notebook "
   ]
  },
  {
   "cell_type": "code",
   "execution_count": null,
   "metadata": {},
   "outputs": [],
   "source": [
    "\n",
    "from pprint import pprint\n",
    "import os\n",
    "import json\n",
    "import pandas as pandas"
   ]
  },
  {
   "cell_type": "code",
   "execution_count": 2,
   "metadata": {},
   "outputs": [],
   "source": [
    "def read_file(file_path):\n",
    "    with open(file_path,'r', encoding=\"utf8\") as file:\n",
    "        return file.readlines()\n",
    "\n",
    "def read_file_as_text(file_path):\n",
    "    with open(file_path,'r', encoding=\"utf8\") as file:\n",
    "        return file.read()\n",
    "\n",
    "def read_reference_file_for_bleu_metric(path):\n",
    "    with open(path,'r', encoding=\"utf8\") as file:\n",
    "        # Returns a list of lists (each sentence is a list itself, with one item)\n",
    "        return [list(map(str, line.rstrip(\",\\r\\n\").split(\",\"))) for line in file]"
   ]
  },
  {
   "cell_type": "code",
   "execution_count": 3,
   "metadata": {},
   "outputs": [],
   "source": [
    "p1 = 'simplify_summary'\n",
    "p2 = 'summary_simplify'"
   ]
  },
  {
   "cell_type": "code",
   "execution_count": 4,
   "metadata": {},
   "outputs": [],
   "source": [
    "def calculate_metrics_for_dataset(metric, pipeline=p1, data_dir='data/'):\n",
    "    '''\n",
    "    General method that takes in the metric method and returns the metric scores\n",
    "    '''\n",
    "    evaluation_dataset = dict()\n",
    "    metric_name = metric.__name__\n",
    "    wiki_base_dir = os.path.join(data_dir, 'wiki-auto')\n",
    "\n",
    "    processed_articles = read_file_as_text('data/processed_articles.txt').split('\\n')\n",
    "\n",
    "    # base data/wiki-auto\n",
    "    for folder in processed_articles:\n",
    "        base_data_dir = os.path.join(wiki_base_dir, folder)\n",
    "        ground_truth_file_path = os.path.join(base_data_dir, 'destination.txt')\n",
    "        pipeline_dir = os.path.join(base_data_dir, pipeline)\n",
    "        simplified_summary_file_path = os.path.join(pipeline_dir, 'simplified_summary.txt')\n",
    "        if os.path.exists(simplified_summary_file_path):\n",
    "            evaluation_dataset[folder] = metric(simplified_summary_file_path, ground_truth_file_path)\n",
    "            print(f'Done generating {metric_name} scores for {folder}\\r', end='', flush=True)\n",
    "    with open(f'{data_dir}{pipeline}_{metric_name}', 'w') as outputfile:\n",
    "        json.dump(evaluation_dataset, outputfile)\n",
    "    print('\\nDone')\n",
    "    return evaluation_dataset"
   ]
  },
  {
   "cell_type": "markdown",
   "metadata": {},
   "source": [
    "## Lexical similarity based scores - ROUGE"
   ]
  },
  {
   "cell_type": "markdown",
   "metadata": {},
   "source": [
    "### ROUGE - ROUGE-1, ROUGE-2, ROUGE-L and Google ROUGE"
   ]
  },
  {
   "cell_type": "code",
   "execution_count": null,
   "metadata": {},
   "outputs": [],
   "source": [
    "!pip install rouge\n",
    "!pip install pandas\n",
    "!pip install rouge-score"
   ]
  },
  {
   "cell_type": "code",
   "execution_count": 5,
   "metadata": {},
   "outputs": [],
   "source": [
    "from rouge_score import rouge_scorer\n",
    "from rouge import Rouge"
   ]
  },
  {
   "cell_type": "code",
   "execution_count": 6,
   "metadata": {},
   "outputs": [],
   "source": [
    "def rouge_scores(hyp_file_path, ref_file_path):\n",
    "    '''\n",
    "    Calculate ROUGE-1, ROUGE-2 and ROUGE-l scores for hypothesis and reference files\n",
    "    '''\n",
    "    rouge = Rouge()\n",
    "    hypotheses = ''\n",
    "    references = ''\n",
    "    hypotheses = read_file_as_text(hyp_file_path)\n",
    "    references = read_file_as_text(ref_file_path)\n",
    "    return rouge.get_scores(hypotheses, references, avg=True)\n",
    "\n",
    "# pprint(calculate_rouge_score('data/wiki-auto/25/simplify_summary/simplified_summary.txt','data/wiki-auto/25/destination.txt'))\n",
    "# calculate_rouge_score('data/wiki-auto/25/summary_simplify/simplified_summary.txt','data/wiki-auto/25/destination.txt')\n",
    "\n",
    "\n",
    "def convert_google_rouge_format_to_usable_format(scores):\n",
    "    google_rouge_stats = dict(\n",
    "    {\n",
    "        'rouge-1': {\n",
    "            \"r\": 0,\n",
    "            \"p\": 0,\n",
    "            \"f\": 0,\n",
    "        },\n",
    "        'rouge-2': {\n",
    "            \"r\": 0,\n",
    "            \"p\": 0,\n",
    "            \"f\": 0,\n",
    "        },\n",
    "        'rouge-l': {\n",
    "            \"r\": 0,\n",
    "            \"p\": 0,\n",
    "            \"f\": 0,\n",
    "        },\n",
    "        'rouge-lsum': {\n",
    "            \"r\": 0,\n",
    "            \"p\": 0,\n",
    "            \"f\": 0,\n",
    "        }\n",
    "        \n",
    "    })\n",
    "    for key in scores:\n",
    "        if key == 'rouge1':\n",
    "            google_rouge_stats['rouge-1'] = {\"p\":scores[key].precision,\"r\":scores[key].recall,\"f\":scores[key].fmeasure}\n",
    "        if key == 'rouge2':\n",
    "            google_rouge_stats['rouge-2'] = {\"p\":scores[key].precision,\"r\":scores[key].recall,\"f\":scores[key].fmeasure}\n",
    "        if key == 'rougeL':\n",
    "            google_rouge_stats['rouge-l'] = {\"p\":scores[key].precision,\"r\":scores[key].recall,\"f\":scores[key].fmeasure}\n",
    "        if key == 'rougeLsum':\n",
    "            google_rouge_stats['rouge-lsum'] = {\"p\":scores[key].precision,\"r\":scores[key].recall,\"f\":scores[key].fmeasure}\n",
    "    return google_rouge_stats\n",
    "\n",
    "def google_rouge_scores(hyp_file_path, ref_file_path):\n",
    "    scorer = rouge_scorer.RougeScorer(['rouge1','rouge2', 'rougeL','rougeLsum'], use_stemmer=True)\n",
    "    hypotheses = read_file_as_text(hyp_file_path)\n",
    "    references = read_file_as_text(ref_file_path)\n",
    "    scores = scorer.score(references,hypotheses)\n",
    "    # pprint(type(scores))\n",
    "    # return scores\n",
    "    return convert_google_rouge_format_to_usable_format(scores)"
   ]
  },
  {
   "cell_type": "code",
   "execution_count": 7,
   "metadata": {},
   "outputs": [
    {
     "name": "stdout",
     "output_type": "stream",
     "text": [
      "{'rouge-1': {'f': 0.5666280417149478,\n",
      "             'p': 0.6680327868852459,\n",
      "             'r': 0.4919517102615694},\n",
      " 'rouge-2': {'f': 0.1654592871631411,\n",
      "             'p': 0.1950802869832593,\n",
      "             'r': 0.14364779874213837},\n",
      " 'rouge-l': {'f': 0.14629200463499423,\n",
      "             'p': 0.17247267759562843,\n",
      "             'r': 0.12701207243460766},\n",
      " 'rouge-lsum': {'f': 0.5559096176129779,\n",
      "                'p': 0.655396174863388,\n",
      "                'r': 0.48264587525150904}}\n"
     ]
    }
   ],
   "source": [
    "# Test \n",
    "pprint(google_rouge_scores('data/wiki-auto/25/simplify_summary/simplified_summary.txt','data/wiki-auto/25/destination.txt'))\n",
    "# pprint(calculate_google_rouge_score('data/wiki-auto/25/summary_simplify/simplified_summary.txt','data/wiki-auto/25/destination.txt'))"
   ]
  },
  {
   "cell_type": "markdown",
   "metadata": {},
   "source": [
    "### Normal ROUGE"
   ]
  },
  {
   "cell_type": "code",
   "execution_count": 9,
   "metadata": {},
   "outputs": [
    {
     "name": "stdout",
     "output_type": "stream",
     "text": [
      "CPU times: user 10min 5s, sys: 540 ms, total: 10min 6s\n",
      "Wall time: 10min 6s\n"
     ]
    }
   ],
   "source": [
    "%%time\n",
    "# Calculate ROUGE score for the whole dataset for the first pipeline (Simplify & Summarize)\n",
    "calculate_metrics_for_dataset(rouge_scores, pipeline=p1)"
   ]
  },
  {
   "cell_type": "code",
   "execution_count": 10,
   "metadata": {},
   "outputs": [
    {
     "name": "stdout",
     "output_type": "stream",
     "text": [
      "CPU times: user 9min 55s, sys: 724 ms, total: 9min 56s\n",
      "Wall time: 9min 57s\n"
     ]
    }
   ],
   "source": [
    "%%time\n",
    "# Calculate ROUGE score for the whole dataset for the second pipeline (Summarize & Simplify)\n",
    "calculate_metrics_for_dataset(rouge_scores, pipeline=p2)"
   ]
  },
  {
   "cell_type": "markdown",
   "metadata": {},
   "source": [
    "#### Preprocess the ROUGE scores files to calculate the average score for the whole dataset"
   ]
  },
  {
   "cell_type": "code",
   "execution_count": 11,
   "metadata": {},
   "outputs": [
    {
     "data": {
      "text/html": [
       "<div>\n",
       "<style scoped>\n",
       "    .dataframe tbody tr th:only-of-type {\n",
       "        vertical-align: middle;\n",
       "    }\n",
       "\n",
       "    .dataframe tbody tr th {\n",
       "        vertical-align: top;\n",
       "    }\n",
       "\n",
       "    .dataframe thead th {\n",
       "        text-align: right;\n",
       "    }\n",
       "</style>\n",
       "<table border=\"1\" class=\"dataframe\">\n",
       "  <thead>\n",
       "    <tr style=\"text-align: right;\">\n",
       "      <th></th>\n",
       "      <th>rouge-1</th>\n",
       "      <th>rouge-2</th>\n",
       "      <th>rouge-l</th>\n",
       "    </tr>\n",
       "  </thead>\n",
       "  <tbody>\n",
       "    <tr>\n",
       "      <th>1004</th>\n",
       "      <td>{'r': 0.202247191011235, 'p': 0.19148936170212...</td>\n",
       "      <td>{'r': 0.051204819277108, 'p': 0.05151515151515...</td>\n",
       "      <td>{'r': 0.18539325842696602, 'p': 0.175531914893...</td>\n",
       "    </tr>\n",
       "    <tr>\n",
       "      <th>1005</th>\n",
       "      <td>{'r': 0.234042553191489, 'p': 0.27049180327868...</td>\n",
       "      <td>{'r': 0.081481481481481, 'p': 0.11398963730569...</td>\n",
       "      <td>{'r': 0.20567375886524802, 'p': 0.237704918032...</td>\n",
       "    </tr>\n",
       "    <tr>\n",
       "      <th>10065</th>\n",
       "      <td>{'r': 0.23333333333333303, 'p': 0.233333333333...</td>\n",
       "      <td>{'r': 0.07042253521126701, 'p': 0.070422535211...</td>\n",
       "      <td>{'r': 0.23333333333333303, 'p': 0.233333333333...</td>\n",
       "    </tr>\n",
       "    <tr>\n",
       "      <th>10224</th>\n",
       "      <td>{'r': 0.158415841584158, 'p': 0.16080402010050...</td>\n",
       "      <td>{'r': 0.032934131736526005, 'p': 0.02917771883...</td>\n",
       "      <td>{'r': 0.15346534653465302, 'p': 0.155778894472...</td>\n",
       "    </tr>\n",
       "    <tr>\n",
       "      <th>10263</th>\n",
       "      <td>{'r': 0.19626168224299, 'p': 0.375, 'f': 0.257...</td>\n",
       "      <td>{'r': 0.09202453987730001, 'p': 0.174418604651...</td>\n",
       "      <td>{'r': 0.177570093457943, 'p': 0.33928571428571...</td>\n",
       "    </tr>\n",
       "    <tr>\n",
       "      <th>...</th>\n",
       "      <td>...</td>\n",
       "      <td>...</td>\n",
       "      <td>...</td>\n",
       "    </tr>\n",
       "    <tr>\n",
       "      <th>9656</th>\n",
       "      <td>{'r': 0.359223300970873, 'p': 0.28172588832487...</td>\n",
       "      <td>{'r': 0.09090909090909001, 'p': 0.069912609238...</td>\n",
       "      <td>{'r': 0.34304207119741104, 'p': 0.269035532994...</td>\n",
       "    </tr>\n",
       "    <tr>\n",
       "      <th>9663</th>\n",
       "      <td>{'r': 0.28534031413612504, 'p': 0.269135802469...</td>\n",
       "      <td>{'r': 0.062581486310299, 'p': 0.06045340050377...</td>\n",
       "      <td>{'r': 0.264397905759162, 'p': 0.24938271604938...</td>\n",
       "    </tr>\n",
       "    <tr>\n",
       "      <th>9708</th>\n",
       "      <td>{'r': 0.374045801526717, 'p': 0.42241379310344...</td>\n",
       "      <td>{'r': 0.136563876651982, 'p': 0.15346534653465...</td>\n",
       "      <td>{'r': 0.358778625954198, 'p': 0.40517241379310...</td>\n",
       "    </tr>\n",
       "    <tr>\n",
       "      <th>9739</th>\n",
       "      <td>{'r': 0.32731554160125503, 'p': 0.504842615012...</td>\n",
       "      <td>{'r': 0.19014626635873702, 'p': 0.261099365750...</td>\n",
       "      <td>{'r': 0.309262166405023, 'p': 0.47699757869249...</td>\n",
       "    </tr>\n",
       "    <tr>\n",
       "      <th>9956</th>\n",
       "      <td>{'r': 0.30859375, 'p': 0.26825127334465104, 'f...</td>\n",
       "      <td>{'r': 0.083102493074792, 'p': 0.07120253164556...</td>\n",
       "      <td>{'r': 0.287109375, 'p': 0.249575551782682, 'f'...</td>\n",
       "    </tr>\n",
       "  </tbody>\n",
       "</table>\n",
       "<p>500 rows × 3 columns</p>\n",
       "</div>"
      ],
      "text/plain": [
       "                                                 rouge-1  \\\n",
       "1004   {'r': 0.202247191011235, 'p': 0.19148936170212...   \n",
       "1005   {'r': 0.234042553191489, 'p': 0.27049180327868...   \n",
       "10065  {'r': 0.23333333333333303, 'p': 0.233333333333...   \n",
       "10224  {'r': 0.158415841584158, 'p': 0.16080402010050...   \n",
       "10263  {'r': 0.19626168224299, 'p': 0.375, 'f': 0.257...   \n",
       "...                                                  ...   \n",
       "9656   {'r': 0.359223300970873, 'p': 0.28172588832487...   \n",
       "9663   {'r': 0.28534031413612504, 'p': 0.269135802469...   \n",
       "9708   {'r': 0.374045801526717, 'p': 0.42241379310344...   \n",
       "9739   {'r': 0.32731554160125503, 'p': 0.504842615012...   \n",
       "9956   {'r': 0.30859375, 'p': 0.26825127334465104, 'f...   \n",
       "\n",
       "                                                 rouge-2  \\\n",
       "1004   {'r': 0.051204819277108, 'p': 0.05151515151515...   \n",
       "1005   {'r': 0.081481481481481, 'p': 0.11398963730569...   \n",
       "10065  {'r': 0.07042253521126701, 'p': 0.070422535211...   \n",
       "10224  {'r': 0.032934131736526005, 'p': 0.02917771883...   \n",
       "10263  {'r': 0.09202453987730001, 'p': 0.174418604651...   \n",
       "...                                                  ...   \n",
       "9656   {'r': 0.09090909090909001, 'p': 0.069912609238...   \n",
       "9663   {'r': 0.062581486310299, 'p': 0.06045340050377...   \n",
       "9708   {'r': 0.136563876651982, 'p': 0.15346534653465...   \n",
       "9739   {'r': 0.19014626635873702, 'p': 0.261099365750...   \n",
       "9956   {'r': 0.083102493074792, 'p': 0.07120253164556...   \n",
       "\n",
       "                                                 rouge-l  \n",
       "1004   {'r': 0.18539325842696602, 'p': 0.175531914893...  \n",
       "1005   {'r': 0.20567375886524802, 'p': 0.237704918032...  \n",
       "10065  {'r': 0.23333333333333303, 'p': 0.233333333333...  \n",
       "10224  {'r': 0.15346534653465302, 'p': 0.155778894472...  \n",
       "10263  {'r': 0.177570093457943, 'p': 0.33928571428571...  \n",
       "...                                                  ...  \n",
       "9656   {'r': 0.34304207119741104, 'p': 0.269035532994...  \n",
       "9663   {'r': 0.264397905759162, 'p': 0.24938271604938...  \n",
       "9708   {'r': 0.358778625954198, 'p': 0.40517241379310...  \n",
       "9739   {'r': 0.309262166405023, 'p': 0.47699757869249...  \n",
       "9956   {'r': 0.287109375, 'p': 0.249575551782682, 'f'...  \n",
       "\n",
       "[500 rows x 3 columns]"
      ]
     },
     "metadata": {},
     "output_type": "display_data"
    },
    {
     "data": {
      "text/html": [
       "<div>\n",
       "<style scoped>\n",
       "    .dataframe tbody tr th:only-of-type {\n",
       "        vertical-align: middle;\n",
       "    }\n",
       "\n",
       "    .dataframe tbody tr th {\n",
       "        vertical-align: top;\n",
       "    }\n",
       "\n",
       "    .dataframe thead th {\n",
       "        text-align: right;\n",
       "    }\n",
       "</style>\n",
       "<table border=\"1\" class=\"dataframe\">\n",
       "  <thead>\n",
       "    <tr style=\"text-align: right;\">\n",
       "      <th></th>\n",
       "      <th>rouge-1</th>\n",
       "      <th>rouge-2</th>\n",
       "      <th>rouge-l</th>\n",
       "    </tr>\n",
       "  </thead>\n",
       "  <tbody>\n",
       "    <tr>\n",
       "      <th>1004</th>\n",
       "      <td>{'r': 0.230337078651685, 'p': 0.22404371584699...</td>\n",
       "      <td>{'r': 0.07228915662650601, 'p': 0.073619631901...</td>\n",
       "      <td>{'r': 0.21910112359550502, 'p': 0.213114754098...</td>\n",
       "    </tr>\n",
       "    <tr>\n",
       "      <th>1005</th>\n",
       "      <td>{'r': 0.234042553191489, 'p': 0.28205128205128...</td>\n",
       "      <td>{'r': 0.092592592592592, 'p': 0.13586956521739...</td>\n",
       "      <td>{'r': 0.20567375886524802, 'p': 0.247863247863...</td>\n",
       "    </tr>\n",
       "    <tr>\n",
       "      <th>10065</th>\n",
       "      <td>{'r': 0.21111111111111103, 'p': 0.283582089552...</td>\n",
       "      <td>{'r': 0.07042253521126701, 'p': 0.086956521739...</td>\n",
       "      <td>{'r': 0.21111111111111103, 'p': 0.283582089552...</td>\n",
       "    </tr>\n",
       "    <tr>\n",
       "      <th>10224</th>\n",
       "      <td>{'r': 0.17821782178217802, 'p': 0.173076923076...</td>\n",
       "      <td>{'r': 0.032934131736526005, 'p': 0.02956989247...</td>\n",
       "      <td>{'r': 0.173267326732673, 'p': 0.16826923076923...</td>\n",
       "    </tr>\n",
       "    <tr>\n",
       "      <th>10263</th>\n",
       "      <td>{'r': 0.19626168224299, 'p': 0.403846153846153...</td>\n",
       "      <td>{'r': 0.08588957055214701, 'p': 0.168674698795...</td>\n",
       "      <td>{'r': 0.15887850467289702, 'p': 0.326923076923...</td>\n",
       "    </tr>\n",
       "    <tr>\n",
       "      <th>...</th>\n",
       "      <td>...</td>\n",
       "      <td>...</td>\n",
       "      <td>...</td>\n",
       "    </tr>\n",
       "    <tr>\n",
       "      <th>9656</th>\n",
       "      <td>{'r': 0.34304207119741104, 'p': 0.289617486338...</td>\n",
       "      <td>{'r': 0.08441558441558401, 'p': 0.069986541049...</td>\n",
       "      <td>{'r': 0.326860841423948, 'p': 0.27595628415300...</td>\n",
       "    </tr>\n",
       "    <tr>\n",
       "      <th>9663</th>\n",
       "      <td>{'r': 0.272251308900523, 'p': 0.28888888888888...</td>\n",
       "      <td>{'r': 0.056062581486310006, 'p': 0.06005586592...</td>\n",
       "      <td>{'r': 0.25654450261780104, 'p': 0.272222222222...</td>\n",
       "    </tr>\n",
       "    <tr>\n",
       "      <th>9708</th>\n",
       "      <td>{'r': 0.419847328244274, 'p': 0.43307086614173...</td>\n",
       "      <td>{'r': 0.158590308370044, 'p': 0.16363636363636...</td>\n",
       "      <td>{'r': 0.389312977099236, 'p': 0.40157480314960...</td>\n",
       "    </tr>\n",
       "    <tr>\n",
       "      <th>9739</th>\n",
       "      <td>{'r': 0.328100470957613, 'p': 0.49821215733015...</td>\n",
       "      <td>{'r': 0.183987682832948, 'p': 0.25698924731182...</td>\n",
       "      <td>{'r': 0.309262166405023, 'p': 0.46960667461263...</td>\n",
       "    </tr>\n",
       "    <tr>\n",
       "      <th>9956</th>\n",
       "      <td>{'r': 0.302734375, 'p': 0.289719626168224, 'f'...</td>\n",
       "      <td>{'r': 0.075715604801477, 'p': 0.07269503546099...</td>\n",
       "      <td>{'r': 0.279296875, 'p': 0.26728971962616804, '...</td>\n",
       "    </tr>\n",
       "  </tbody>\n",
       "</table>\n",
       "<p>500 rows × 3 columns</p>\n",
       "</div>"
      ],
      "text/plain": [
       "                                                 rouge-1  \\\n",
       "1004   {'r': 0.230337078651685, 'p': 0.22404371584699...   \n",
       "1005   {'r': 0.234042553191489, 'p': 0.28205128205128...   \n",
       "10065  {'r': 0.21111111111111103, 'p': 0.283582089552...   \n",
       "10224  {'r': 0.17821782178217802, 'p': 0.173076923076...   \n",
       "10263  {'r': 0.19626168224299, 'p': 0.403846153846153...   \n",
       "...                                                  ...   \n",
       "9656   {'r': 0.34304207119741104, 'p': 0.289617486338...   \n",
       "9663   {'r': 0.272251308900523, 'p': 0.28888888888888...   \n",
       "9708   {'r': 0.419847328244274, 'p': 0.43307086614173...   \n",
       "9739   {'r': 0.328100470957613, 'p': 0.49821215733015...   \n",
       "9956   {'r': 0.302734375, 'p': 0.289719626168224, 'f'...   \n",
       "\n",
       "                                                 rouge-2  \\\n",
       "1004   {'r': 0.07228915662650601, 'p': 0.073619631901...   \n",
       "1005   {'r': 0.092592592592592, 'p': 0.13586956521739...   \n",
       "10065  {'r': 0.07042253521126701, 'p': 0.086956521739...   \n",
       "10224  {'r': 0.032934131736526005, 'p': 0.02956989247...   \n",
       "10263  {'r': 0.08588957055214701, 'p': 0.168674698795...   \n",
       "...                                                  ...   \n",
       "9656   {'r': 0.08441558441558401, 'p': 0.069986541049...   \n",
       "9663   {'r': 0.056062581486310006, 'p': 0.06005586592...   \n",
       "9708   {'r': 0.158590308370044, 'p': 0.16363636363636...   \n",
       "9739   {'r': 0.183987682832948, 'p': 0.25698924731182...   \n",
       "9956   {'r': 0.075715604801477, 'p': 0.07269503546099...   \n",
       "\n",
       "                                                 rouge-l  \n",
       "1004   {'r': 0.21910112359550502, 'p': 0.213114754098...  \n",
       "1005   {'r': 0.20567375886524802, 'p': 0.247863247863...  \n",
       "10065  {'r': 0.21111111111111103, 'p': 0.283582089552...  \n",
       "10224  {'r': 0.173267326732673, 'p': 0.16826923076923...  \n",
       "10263  {'r': 0.15887850467289702, 'p': 0.326923076923...  \n",
       "...                                                  ...  \n",
       "9656   {'r': 0.326860841423948, 'p': 0.27595628415300...  \n",
       "9663   {'r': 0.25654450261780104, 'p': 0.272222222222...  \n",
       "9708   {'r': 0.389312977099236, 'p': 0.40157480314960...  \n",
       "9739   {'r': 0.309262166405023, 'p': 0.46960667461263...  \n",
       "9956   {'r': 0.279296875, 'p': 0.26728971962616804, '...  \n",
       "\n",
       "[500 rows x 3 columns]"
      ]
     },
     "metadata": {},
     "output_type": "display_data"
    },
    {
     "name": "stdout",
     "output_type": "stream",
     "text": [
      "Wall time: 98 ms\n"
     ]
    }
   ],
   "source": [
    "%%time\n",
    "simplify_summary_df = pandas.read_json(\n",
    "    'data/simplify_summary_rouge_scores',\n",
    "    encoding='utf8',\n",
    "    orient='index'\n",
    ")\n",
    "display(simplify_summary_df)\n",
    "\n",
    "summary_simplify_df = pandas.read_json(\n",
    "    'data/summary_simplify_rouge_scores',\n",
    "    encoding='utf8',\n",
    "    orient='index'\n",
    ")\n",
    "display(summary_simplify_df)"
   ]
  },
  {
   "cell_type": "markdown",
   "metadata": {},
   "source": [
    "### Google ROUGE"
   ]
  },
  {
   "cell_type": "code",
   "execution_count": 12,
   "metadata": {},
   "outputs": [
    {
     "name": "stdout",
     "output_type": "stream",
     "text": [
      "CPU times: user 11min 5s, sys: 3.72 s, total: 11min 9s\n",
      "Wall time: 11min 10s\n"
     ]
    }
   ],
   "source": [
    "%%time\n",
    "# Calculate Google ROUGE score for the whole dataset for the first pipeline (Simplify & Summarize)\n",
    "calculate_metrics_for_dataset(google_rouge_scores, pipeline=p1)"
   ]
  },
  {
   "cell_type": "code",
   "execution_count": 13,
   "metadata": {},
   "outputs": [
    {
     "name": "stdout",
     "output_type": "stream",
     "text": [
      "CPU times: user 10min 18s, sys: 2.73 s, total: 10min 21s\n",
      "Wall time: 10min 22s\n"
     ]
    }
   ],
   "source": [
    "%%time\n",
    "# Calculate Google ROUGE score for the whole dataset for the second pipeline (Summarize & Simplify)\n",
    "calculate_metrics_for_dataset(google_rouge_scores, pipeline=p2)"
   ]
  },
  {
   "cell_type": "code",
   "execution_count": 14,
   "metadata": {},
   "outputs": [
    {
     "data": {
      "text/html": [
       "<div>\n",
       "<style scoped>\n",
       "    .dataframe tbody tr th:only-of-type {\n",
       "        vertical-align: middle;\n",
       "    }\n",
       "\n",
       "    .dataframe tbody tr th {\n",
       "        vertical-align: top;\n",
       "    }\n",
       "\n",
       "    .dataframe thead th {\n",
       "        text-align: right;\n",
       "    }\n",
       "</style>\n",
       "<table border=\"1\" class=\"dataframe\">\n",
       "  <thead>\n",
       "    <tr style=\"text-align: right;\">\n",
       "      <th></th>\n",
       "      <th>rouge-1</th>\n",
       "      <th>rouge-2</th>\n",
       "      <th>rouge-l</th>\n",
       "      <th>rouge-lsum</th>\n",
       "    </tr>\n",
       "  </thead>\n",
       "  <tbody>\n",
       "    <tr>\n",
       "      <th>1004</th>\n",
       "      <td>{'p': 0.48948948948948906, 'r': 0.307547169811...</td>\n",
       "      <td>{'p': 0.12951807228915602, 'r': 0.081285444234...</td>\n",
       "      <td>{'p': 0.273273273273273, 'r': 0.17169811320754...</td>\n",
       "      <td>{'p': 0.48048048048048003, 'r': 0.301886792452...</td>\n",
       "    </tr>\n",
       "    <tr>\n",
       "      <th>1005</th>\n",
       "      <td>{'p': 0.601990049751243, 'r': 0.26419213973799...</td>\n",
       "      <td>{'p': 0.25, 'r': 0.10940919037199101, 'f': 0.1...</td>\n",
       "      <td>{'p': 0.42288557213930306, 'r': 0.185589519650...</td>\n",
       "      <td>{'p': 0.577114427860696, 'r': 0.25327510917030...</td>\n",
       "    </tr>\n",
       "    <tr>\n",
       "      <th>10065</th>\n",
       "      <td>{'p': 0.355263157894736, 'r': 0.35064935064935...</td>\n",
       "      <td>{'p': 0.07947019867549601, 'r': 0.078431372549...</td>\n",
       "      <td>{'p': 0.19736842105263103, 'r': 0.194805194805...</td>\n",
       "      <td>{'p': 0.342105263157894, 'r': 0.33766233766233...</td>\n",
       "    </tr>\n",
       "    <tr>\n",
       "      <th>10224</th>\n",
       "      <td>{'p': 0.45040214477211804, 'r': 0.457765667574...</td>\n",
       "      <td>{'p': 0.09408602150537601, 'r': 0.095628415300...</td>\n",
       "      <td>{'p': 0.193029490616621, 'r': 0.19618528610354...</td>\n",
       "      <td>{'p': 0.42091152815013405, 'r': 0.427792915531...</td>\n",
       "    </tr>\n",
       "    <tr>\n",
       "      <th>10263</th>\n",
       "      <td>{'p': 0.6666666666666661, 'r': 0.3440860215053...</td>\n",
       "      <td>{'p': 0.284210526315789, 'r': 0.14594594594594...</td>\n",
       "      <td>{'p': 0.39583333333333304, 'r': 0.204301075268...</td>\n",
       "      <td>{'p': 0.645833333333333, 'r': 0.33333333333333...</td>\n",
       "    </tr>\n",
       "    <tr>\n",
       "      <th>...</th>\n",
       "      <td>...</td>\n",
       "      <td>...</td>\n",
       "      <td>...</td>\n",
       "      <td>...</td>\n",
       "    </tr>\n",
       "    <tr>\n",
       "      <th>9656</th>\n",
       "      <td>{'p': 0.44308035714285704, 'r': 0.575362318840...</td>\n",
       "      <td>{'p': 0.11061452513966401, 'r': 0.143686502177...</td>\n",
       "      <td>{'p': 0.15959821428571402, 'r': 0.207246376811...</td>\n",
       "      <td>{'p': 0.4296875, 'r': 0.557971014492753, 'f': ...</td>\n",
       "    </tr>\n",
       "    <tr>\n",
       "      <th>9663</th>\n",
       "      <td>{'p': 0.48091603053435106, 'r': 0.473684210526...</td>\n",
       "      <td>{'p': 0.09061135371179001, 'r': 0.089247311827...</td>\n",
       "      <td>{'p': 0.17121046892039202, 'r': 0.168635875402...</td>\n",
       "      <td>{'p': 0.46564885496183206, 'r': 0.458646616541...</td>\n",
       "    </tr>\n",
       "    <tr>\n",
       "      <th>9708</th>\n",
       "      <td>{'p': 0.556521739130434, 'r': 0.49612403100775...</td>\n",
       "      <td>{'p': 0.24017467248908203, 'r': 0.214007782101...</td>\n",
       "      <td>{'p': 0.339130434782608, 'r': 0.30232558139534...</td>\n",
       "      <td>{'p': 0.5434782608695651, 'r': 0.4844961240310...</td>\n",
       "    </tr>\n",
       "    <tr>\n",
       "      <th>9739</th>\n",
       "      <td>{'p': 0.7728781412991941, 'r': 0.5663655316191...</td>\n",
       "      <td>{'p': 0.422201138519924, 'r': 0.30935001737921...</td>\n",
       "      <td>{'p': 0.39971550497866204, 'r': 0.292911744266...</td>\n",
       "      <td>{'p': 0.752963489805595, 'r': 0.55177206393328...</td>\n",
       "    </tr>\n",
       "    <tr>\n",
       "      <th>9956</th>\n",
       "      <td>{'p': 0.48627167630057805, 'r': 0.533703409992...</td>\n",
       "      <td>{'p': 0.12581344902386102, 'r': 0.138095238095...</td>\n",
       "      <td>{'p': 0.15101156069364102, 'r': 0.165741475019...</td>\n",
       "      <td>{'p': 0.47615606936416105, 'r': 0.522601110229...</td>\n",
       "    </tr>\n",
       "  </tbody>\n",
       "</table>\n",
       "<p>500 rows × 4 columns</p>\n",
       "</div>"
      ],
      "text/plain": [
       "                                                 rouge-1  \\\n",
       "1004   {'p': 0.48948948948948906, 'r': 0.307547169811...   \n",
       "1005   {'p': 0.601990049751243, 'r': 0.26419213973799...   \n",
       "10065  {'p': 0.355263157894736, 'r': 0.35064935064935...   \n",
       "10224  {'p': 0.45040214477211804, 'r': 0.457765667574...   \n",
       "10263  {'p': 0.6666666666666661, 'r': 0.3440860215053...   \n",
       "...                                                  ...   \n",
       "9656   {'p': 0.44308035714285704, 'r': 0.575362318840...   \n",
       "9663   {'p': 0.48091603053435106, 'r': 0.473684210526...   \n",
       "9708   {'p': 0.556521739130434, 'r': 0.49612403100775...   \n",
       "9739   {'p': 0.7728781412991941, 'r': 0.5663655316191...   \n",
       "9956   {'p': 0.48627167630057805, 'r': 0.533703409992...   \n",
       "\n",
       "                                                 rouge-2  \\\n",
       "1004   {'p': 0.12951807228915602, 'r': 0.081285444234...   \n",
       "1005   {'p': 0.25, 'r': 0.10940919037199101, 'f': 0.1...   \n",
       "10065  {'p': 0.07947019867549601, 'r': 0.078431372549...   \n",
       "10224  {'p': 0.09408602150537601, 'r': 0.095628415300...   \n",
       "10263  {'p': 0.284210526315789, 'r': 0.14594594594594...   \n",
       "...                                                  ...   \n",
       "9656   {'p': 0.11061452513966401, 'r': 0.143686502177...   \n",
       "9663   {'p': 0.09061135371179001, 'r': 0.089247311827...   \n",
       "9708   {'p': 0.24017467248908203, 'r': 0.214007782101...   \n",
       "9739   {'p': 0.422201138519924, 'r': 0.30935001737921...   \n",
       "9956   {'p': 0.12581344902386102, 'r': 0.138095238095...   \n",
       "\n",
       "                                                 rouge-l  \\\n",
       "1004   {'p': 0.273273273273273, 'r': 0.17169811320754...   \n",
       "1005   {'p': 0.42288557213930306, 'r': 0.185589519650...   \n",
       "10065  {'p': 0.19736842105263103, 'r': 0.194805194805...   \n",
       "10224  {'p': 0.193029490616621, 'r': 0.19618528610354...   \n",
       "10263  {'p': 0.39583333333333304, 'r': 0.204301075268...   \n",
       "...                                                  ...   \n",
       "9656   {'p': 0.15959821428571402, 'r': 0.207246376811...   \n",
       "9663   {'p': 0.17121046892039202, 'r': 0.168635875402...   \n",
       "9708   {'p': 0.339130434782608, 'r': 0.30232558139534...   \n",
       "9739   {'p': 0.39971550497866204, 'r': 0.292911744266...   \n",
       "9956   {'p': 0.15101156069364102, 'r': 0.165741475019...   \n",
       "\n",
       "                                              rouge-lsum  \n",
       "1004   {'p': 0.48048048048048003, 'r': 0.301886792452...  \n",
       "1005   {'p': 0.577114427860696, 'r': 0.25327510917030...  \n",
       "10065  {'p': 0.342105263157894, 'r': 0.33766233766233...  \n",
       "10224  {'p': 0.42091152815013405, 'r': 0.427792915531...  \n",
       "10263  {'p': 0.645833333333333, 'r': 0.33333333333333...  \n",
       "...                                                  ...  \n",
       "9656   {'p': 0.4296875, 'r': 0.557971014492753, 'f': ...  \n",
       "9663   {'p': 0.46564885496183206, 'r': 0.458646616541...  \n",
       "9708   {'p': 0.5434782608695651, 'r': 0.4844961240310...  \n",
       "9739   {'p': 0.752963489805595, 'r': 0.55177206393328...  \n",
       "9956   {'p': 0.47615606936416105, 'r': 0.522601110229...  \n",
       "\n",
       "[500 rows x 4 columns]"
      ]
     },
     "metadata": {},
     "output_type": "display_data"
    },
    {
     "data": {
      "text/html": [
       "<div>\n",
       "<style scoped>\n",
       "    .dataframe tbody tr th:only-of-type {\n",
       "        vertical-align: middle;\n",
       "    }\n",
       "\n",
       "    .dataframe tbody tr th {\n",
       "        vertical-align: top;\n",
       "    }\n",
       "\n",
       "    .dataframe thead th {\n",
       "        text-align: right;\n",
       "    }\n",
       "</style>\n",
       "<table border=\"1\" class=\"dataframe\">\n",
       "  <thead>\n",
       "    <tr style=\"text-align: right;\">\n",
       "      <th></th>\n",
       "      <th>rouge-1</th>\n",
       "      <th>rouge-2</th>\n",
       "      <th>rouge-l</th>\n",
       "      <th>rouge-lsum</th>\n",
       "    </tr>\n",
       "  </thead>\n",
       "  <tbody>\n",
       "    <tr>\n",
       "      <th>1004</th>\n",
       "      <td>{'p': 0.5240963855421681, 'r': 0.3283018867924...</td>\n",
       "      <td>{'p': 0.151057401812688, 'r': 0.09451795841209...</td>\n",
       "      <td>{'p': 0.271084337349397, 'r': 0.16981132075471...</td>\n",
       "      <td>{'p': 0.515060240963855, 'r': 0.32264150943396...</td>\n",
       "    </tr>\n",
       "    <tr>\n",
       "      <th>1005</th>\n",
       "      <td>{'p': 0.6190476190476191, 'r': 0.2554585152838...</td>\n",
       "      <td>{'p': 0.25531914893617, 'r': 0.105032822757111...</td>\n",
       "      <td>{'p': 0.42328042328042303, 'r': 0.174672489082...</td>\n",
       "      <td>{'p': 0.592592592592592, 'r': 0.24454148471615...</td>\n",
       "    </tr>\n",
       "    <tr>\n",
       "      <th>10065</th>\n",
       "      <td>{'p': 0.392307692307692, 'r': 0.33116883116883...</td>\n",
       "      <td>{'p': 0.093023255813953, 'r': 0.07843137254901...</td>\n",
       "      <td>{'p': 0.223076923076923, 'r': 0.18831168831168...</td>\n",
       "      <td>{'p': 0.37692307692307603, 'r': 0.318181818181...</td>\n",
       "    </tr>\n",
       "    <tr>\n",
       "      <th>10224</th>\n",
       "      <td>{'p': 0.47154471544715404, 'r': 0.474114441416...</td>\n",
       "      <td>{'p': 0.09239130434782601, 'r': 0.092896174863...</td>\n",
       "      <td>{'p': 0.17886178861788601, 'r': 0.179836512261...</td>\n",
       "      <td>{'p': 0.441734417344173, 'r': 0.44414168937329...</td>\n",
       "    </tr>\n",
       "    <tr>\n",
       "      <th>10263</th>\n",
       "      <td>{'p': 0.691489361702127, 'r': 0.34946236559139...</td>\n",
       "      <td>{'p': 0.27956989247311803, 'r': 0.140540540540...</td>\n",
       "      <td>{'p': 0.446808510638297, 'r': 0.22580645161290...</td>\n",
       "      <td>{'p': 0.659574468085106, 'r': 0.33333333333333...</td>\n",
       "    </tr>\n",
       "    <tr>\n",
       "      <th>...</th>\n",
       "      <td>...</td>\n",
       "      <td>...</td>\n",
       "      <td>...</td>\n",
       "      <td>...</td>\n",
       "    </tr>\n",
       "    <tr>\n",
       "      <th>9656</th>\n",
       "      <td>{'p': 0.47459727385377903, 'r': 0.555072463768...</td>\n",
       "      <td>{'p': 0.11290322580645101, 'r': 0.132075471698...</td>\n",
       "      <td>{'p': 0.16976456009913202, 'r': 0.198550724637...</td>\n",
       "      <td>{'p': 0.460966542750929, 'r': 0.53913043478260...</td>\n",
       "    </tr>\n",
       "    <tr>\n",
       "      <th>9663</th>\n",
       "      <td>{'p': 0.528205128205128, 'r': 0.44253490870032...</td>\n",
       "      <td>{'p': 0.09370988446726501, 'r': 0.078494623655...</td>\n",
       "      <td>{'p': 0.18974358974358901, 'r': 0.158968850698...</td>\n",
       "      <td>{'p': 0.512820512820512, 'r': 0.42964554242749...</td>\n",
       "    </tr>\n",
       "    <tr>\n",
       "      <th>9708</th>\n",
       "      <td>{'p': 0.5840336134453781, 'r': 0.5387596899224...</td>\n",
       "      <td>{'p': 0.261603375527426, 'r': 0.24124513618677...</td>\n",
       "      <td>{'p': 0.34873949579831903, 'r': 0.321705426356...</td>\n",
       "      <td>{'p': 0.5672268907563021, 'r': 0.5232558139534...</td>\n",
       "    </tr>\n",
       "    <tr>\n",
       "      <th>9739</th>\n",
       "      <td>{'p': 0.7849037987173161, 'r': 0.5528144544822...</td>\n",
       "      <td>{'p': 0.42991115498519206, 'r': 0.302745915884...</td>\n",
       "      <td>{'p': 0.412925505673408, 'r': 0.29082696316886...</td>\n",
       "      <td>{'p': 0.7631968426245681, 'r': 0.5375260597637...</td>\n",
       "    </tr>\n",
       "    <tr>\n",
       "      <th>9956</th>\n",
       "      <td>{'p': 0.5419136325148181, 'r': 0.5075337034099...</td>\n",
       "      <td>{'p': 0.133898305084745, 'r': 0.12539682539682...</td>\n",
       "      <td>{'p': 0.17104149026248902, 'r': 0.160190325138...</td>\n",
       "      <td>{'p': 0.53090601185436, 'r': 0.497224425059476...</td>\n",
       "    </tr>\n",
       "  </tbody>\n",
       "</table>\n",
       "<p>500 rows × 4 columns</p>\n",
       "</div>"
      ],
      "text/plain": [
       "                                                 rouge-1  \\\n",
       "1004   {'p': 0.5240963855421681, 'r': 0.3283018867924...   \n",
       "1005   {'p': 0.6190476190476191, 'r': 0.2554585152838...   \n",
       "10065  {'p': 0.392307692307692, 'r': 0.33116883116883...   \n",
       "10224  {'p': 0.47154471544715404, 'r': 0.474114441416...   \n",
       "10263  {'p': 0.691489361702127, 'r': 0.34946236559139...   \n",
       "...                                                  ...   \n",
       "9656   {'p': 0.47459727385377903, 'r': 0.555072463768...   \n",
       "9663   {'p': 0.528205128205128, 'r': 0.44253490870032...   \n",
       "9708   {'p': 0.5840336134453781, 'r': 0.5387596899224...   \n",
       "9739   {'p': 0.7849037987173161, 'r': 0.5528144544822...   \n",
       "9956   {'p': 0.5419136325148181, 'r': 0.5075337034099...   \n",
       "\n",
       "                                                 rouge-2  \\\n",
       "1004   {'p': 0.151057401812688, 'r': 0.09451795841209...   \n",
       "1005   {'p': 0.25531914893617, 'r': 0.105032822757111...   \n",
       "10065  {'p': 0.093023255813953, 'r': 0.07843137254901...   \n",
       "10224  {'p': 0.09239130434782601, 'r': 0.092896174863...   \n",
       "10263  {'p': 0.27956989247311803, 'r': 0.140540540540...   \n",
       "...                                                  ...   \n",
       "9656   {'p': 0.11290322580645101, 'r': 0.132075471698...   \n",
       "9663   {'p': 0.09370988446726501, 'r': 0.078494623655...   \n",
       "9708   {'p': 0.261603375527426, 'r': 0.24124513618677...   \n",
       "9739   {'p': 0.42991115498519206, 'r': 0.302745915884...   \n",
       "9956   {'p': 0.133898305084745, 'r': 0.12539682539682...   \n",
       "\n",
       "                                                 rouge-l  \\\n",
       "1004   {'p': 0.271084337349397, 'r': 0.16981132075471...   \n",
       "1005   {'p': 0.42328042328042303, 'r': 0.174672489082...   \n",
       "10065  {'p': 0.223076923076923, 'r': 0.18831168831168...   \n",
       "10224  {'p': 0.17886178861788601, 'r': 0.179836512261...   \n",
       "10263  {'p': 0.446808510638297, 'r': 0.22580645161290...   \n",
       "...                                                  ...   \n",
       "9656   {'p': 0.16976456009913202, 'r': 0.198550724637...   \n",
       "9663   {'p': 0.18974358974358901, 'r': 0.158968850698...   \n",
       "9708   {'p': 0.34873949579831903, 'r': 0.321705426356...   \n",
       "9739   {'p': 0.412925505673408, 'r': 0.29082696316886...   \n",
       "9956   {'p': 0.17104149026248902, 'r': 0.160190325138...   \n",
       "\n",
       "                                              rouge-lsum  \n",
       "1004   {'p': 0.515060240963855, 'r': 0.32264150943396...  \n",
       "1005   {'p': 0.592592592592592, 'r': 0.24454148471615...  \n",
       "10065  {'p': 0.37692307692307603, 'r': 0.318181818181...  \n",
       "10224  {'p': 0.441734417344173, 'r': 0.44414168937329...  \n",
       "10263  {'p': 0.659574468085106, 'r': 0.33333333333333...  \n",
       "...                                                  ...  \n",
       "9656   {'p': 0.460966542750929, 'r': 0.53913043478260...  \n",
       "9663   {'p': 0.512820512820512, 'r': 0.42964554242749...  \n",
       "9708   {'p': 0.5672268907563021, 'r': 0.5232558139534...  \n",
       "9739   {'p': 0.7631968426245681, 'r': 0.5375260597637...  \n",
       "9956   {'p': 0.53090601185436, 'r': 0.497224425059476...  \n",
       "\n",
       "[500 rows x 4 columns]"
      ]
     },
     "metadata": {},
     "output_type": "display_data"
    },
    {
     "name": "stdout",
     "output_type": "stream",
     "text": [
      "Wall time: 58 ms\n"
     ]
    }
   ],
   "source": [
    "%%time\n",
    "simplify_summary_df_google = pandas.read_json(\n",
    "    'data/simplify_summary_google_rouge_scores',\n",
    "    encoding='utf8',\n",
    "    orient='index'\n",
    ")\n",
    "display(simplify_summary_df_google)\n",
    "\n",
    "summary_simplify_df_google = pandas.read_json(\n",
    "    'data/summary_simplify_google_rouge_scores',\n",
    "    encoding='utf8',\n",
    "    orient='index'\n",
    ")\n",
    "display(summary_simplify_df_google)"
   ]
  },
  {
   "cell_type": "code",
   "execution_count": 15,
   "metadata": {},
   "outputs": [],
   "source": [
    "def calculate_avg_rouge_stats(rouge_dataframe, type=\"normal\"):\n",
    "    '''\n",
    "    Calculate the average ROUGE scores r,p,f for the whole given dataset \n",
    "    '''\n",
    "    avg_rouge_stats = dict(\n",
    "    {\n",
    "        'rouge-1': {\n",
    "            \"r\": 0,\n",
    "            \"p\": 0,\n",
    "            \"f\": 0,\n",
    "        },\n",
    "        'rouge-2': {\n",
    "            \"r\": 0,\n",
    "            \"p\": 0,\n",
    "            \"f\": 0,\n",
    "        },\n",
    "        'rouge-l': {\n",
    "            \"r\": 0,\n",
    "            \"p\": 0,\n",
    "            \"f\": 0,\n",
    "        }\n",
    "    })\n",
    "    if type == \"google\":\n",
    "        avg_rouge_stats['rouge-lsum'] = {\n",
    "            \"r\": 0,\n",
    "            \"p\": 0,\n",
    "            \"f\": 0,\n",
    "        }\n",
    "\n",
    "    dataframe_size = len(rouge_dataframe)\n",
    "    for i in range(dataframe_size):\n",
    "        for key in avg_rouge_stats:\n",
    "            avg_rouge_stats[key]['r'] = avg_rouge_stats[key]['r'] + rouge_dataframe.iloc[i][key]['r']\n",
    "            avg_rouge_stats[key]['p'] = avg_rouge_stats[key]['p'] + rouge_dataframe.iloc[i][key]['p']\n",
    "            avg_rouge_stats[key]['f'] = avg_rouge_stats[key]['f']+ rouge_dataframe.iloc[i][key]['f']\n",
    "\n",
    "    for key in avg_rouge_stats:\n",
    "        avg_rouge_stats[key]['r'] = round(avg_rouge_stats[key]['r'] / dataframe_size, 3)\n",
    "        avg_rouge_stats[key]['p'] = round(avg_rouge_stats[key]['p'] / dataframe_size, 3)\n",
    "        avg_rouge_stats[key]['f'] = round(avg_rouge_stats[key]['f'] / dataframe_size, 3)\n",
    "    return avg_rouge_stats"
   ]
  },
  {
   "cell_type": "code",
   "execution_count": 16,
   "metadata": {},
   "outputs": [
    {
     "name": "stdout",
     "output_type": "stream",
     "text": [
      "The ROUGE-1,ROUGE-2 and ROUGE-l score for the Simplify & Summary : \n",
      "{'rouge-1': {'f': 0.309, 'p': 0.344, 'r': 0.297},\n",
      " 'rouge-2': {'f': 0.129, 'p': 0.145, 'r': 0.125},\n",
      " 'rouge-l': {'f': 0.292, 'p': 0.326, 'r': 0.28}}\n",
      "The ROUGE-1,ROUGE-2 and ROUGE-l score for the Summary & Simplify : \n",
      "{'rouge-1': {'f': 0.309, 'p': 0.352, 'r': 0.291},\n",
      " 'rouge-2': {'f': 0.13, 'p': 0.151, 'r': 0.123},\n",
      " 'rouge-l': {'f': 0.293, 'p': 0.333, 'r': 0.275}}\n",
      "Wall time: 853 ms\n"
     ]
    }
   ],
   "source": [
    "%%time\n",
    "print(\"The ROUGE-1,ROUGE-2 and ROUGE-l score for the Simplify & Summary : \")\n",
    "pprint(calculate_avg_rouge_stats(simplify_summary_df))\n",
    "\n",
    "print(\"The ROUGE-1,ROUGE-2 and ROUGE-l score for the Summary & Simplify : \")\n",
    "pprint(calculate_avg_rouge_stats(summary_simplify_df))"
   ]
  },
  {
   "cell_type": "code",
   "execution_count": 17,
   "metadata": {},
   "outputs": [
    {
     "name": "stdout",
     "output_type": "stream",
     "text": [
      "The Google ROUGE-1, ROUGE-2, ROUGE-l and ROUGE-Lsum score for the Simplify & Summary : \n",
      "{'rouge-1': {'f': 0.513, 'p': 0.583, 'r': 0.495},\n",
      " 'rouge-2': {'f': 0.23, 'p': 0.267, 'r': 0.217},\n",
      " 'rouge-l': {'f': 0.271, 'p': 0.317, 'r': 0.256},\n",
      " 'rouge-lsum': {'f': 0.498, 'p': 0.566, 'r': 0.48}}\n",
      "The Google  ROUGE-1, ROUGE-2, ROUGE-l and ROUGE-Lsum score for the Summary & Simplify : \n",
      "{'rouge-1': {'f': 0.509, 'p': 0.594, 'r': 0.478},\n",
      " 'rouge-2': {'f': 0.228, 'p': 0.274, 'r': 0.21},\n",
      " 'rouge-l': {'f': 0.272, 'p': 0.326, 'r': 0.251},\n",
      " 'rouge-lsum': {'f': 0.494, 'p': 0.576, 'r': 0.464}}\n",
      "Wall time: 1.01 s\n"
     ]
    }
   ],
   "source": [
    "%%time\n",
    "print(\"The Google ROUGE-1, ROUGE-2, ROUGE-l and ROUGE-Lsum score for the Simplify & Summary : \")\n",
    "pprint(calculate_avg_rouge_stats(simplify_summary_df_google,'google'))\n",
    "\n",
    "print(\"The Google  ROUGE-1, ROUGE-2, ROUGE-l and ROUGE-Lsum score for the Summary & Simplify : \")\n",
    "pprint(calculate_avg_rouge_stats(summary_simplify_df_google,'google'))"
   ]
  },
  {
   "cell_type": "markdown",
   "metadata": {},
   "source": [
    "## Semantic similarity scores"
   ]
  },
  {
   "cell_type": "code",
   "execution_count": null,
   "metadata": {},
   "outputs": [],
   "source": [
    "!pip install jupyterlab pandas datasets matplotlib plotly scikit-learn tqdm ipywidgets \n",
    "!pip install numpy spacy textdistance fasttext \n",
    "!pip install tensorflow tensorflow_hub sentence-transformers openai\n",
    "!conda install pyemd gensim\n",
    "\n",
    "# Download the Spacy Model\n",
    "!python -m spacy download en_core_web_sm"
   ]
  },
  {
   "cell_type": "markdown",
   "metadata": {},
   "source": [
    "Code based on [this](https://towardsdatascience.com/semantic-textual-similarity-83b3ca4a840e) turorial:\n",
    "\n",
    "### Word Movers Distance (WMD)\n",
    "\n",
    "> 💡 Word embeddings are models that encode words into numeric vectors such that similar words have vectors that are near each other in vector space.\n",
    "\n",
    "There are several ways to generate word embeddings, the most prominent being Word2Vec, GloVe, and FastText.\n",
    "\n",
    "Since we need to compare the similarity between texts that contain multiple words, the simplest way to go from individual word embeddings into a single sentence embedding is to calculate the element-wise average of all the word embeddings in that text. However, there is an even better approach to computing the similarity between texts directly from the word embeddings called Word Movers Distance (WMD).\n",
    "\n",
    "[WMD](http://proceedings.mlr.press/v37/kusnerb15.pdf) is based on the concept of [Earth Movers Distance](https://www.cs.jhu.edu/~misha/Papers/Rubner98.pdf) and is the minimum distance that the word embeddings from one document need to “travel” to reach the word embeddings of the document we are comparing it to. Since each document includes multiple words, the WMD calculation needs to calculate the distances from each word to every other word. It also weights the “travel” by the term frequencies of each word. Thankfully, the [gensim](https://github.com/RaRe-Technologies/gensim) library implements this complex computation efficiently using the [Fast WMD algorithm](https://www.cs.huji.ac.il/w~werman/Papers/ICCV2009.pdf). We can easily use it with just a single line of code!\n",
    "\n",
    "Though we can use any word embedding model with WMD, I decide to use the [FastText model](https://arxiv.org/pdf/1607.04606.pdf) pre-trained on Wikipedia primarily because FastText uses sub-word information and will never run into Out Of Vocabulary issues that Word2Vec or GloVe might encounter. Take note to preprocess the texts to remove stopwords, lower case, and lemmatize them to ensure that the WMD calculation only uses informative words. Finally, since the WMD is a distance metric while we are looking for a similarity metric, we multiply the WMD value by -1 (Negative WMD) so that more similar texts have numerically larger values."
   ]
  },
  {
   "cell_type": "code",
   "execution_count": 5,
   "metadata": {},
   "outputs": [],
   "source": [
    "from sklearn.metrics.pairwise import cosine_similarity\n",
    "import spacy\n",
    "import numpy as np\n",
    "import gensim.downloader as api\n",
    "\n",
    "nlp = spacy.load(\"en_core_web_sm\")"
   ]
  },
  {
   "cell_type": "code",
   "execution_count": 6,
   "metadata": {},
   "outputs": [],
   "source": [
    "def text_processing(sentence):\n",
    "    sentence = [token.lemma_.lower()\n",
    "                for token in nlp(sentence) \n",
    "                if token.is_alpha and not token.is_stop]   \n",
    "    return sentence\n",
    "\n",
    "def cos_sim(sentence1_emb, sentence2_emb):\n",
    "    cos_sim = cosine_similarity(sentence1_emb, sentence2_emb)\n",
    "    return np.diag(cos_sim)"
   ]
  },
  {
   "cell_type": "markdown",
   "metadata": {},
   "source": [
    "!! Run the next cell only once to load the model !!"
   ]
  },
  {
   "cell_type": "code",
   "execution_count": 9,
   "metadata": {},
   "outputs": [
    {
     "name": "stdout",
     "output_type": "stream",
     "text": [
      "Wall time: 5min 15s\n"
     ]
    }
   ],
   "source": [
    "%%time\n",
    "# Load the pre-trained model\n",
    "model = api.load('fasttext-wiki-news-subwords-300')"
   ]
  },
  {
   "cell_type": "code",
   "execution_count": 7,
   "metadata": {},
   "outputs": [],
   "source": [
    "def wmd_scores(file1, file2):\n",
    "    # load text from file as a gle sentence\n",
    "    text1 = ' '.join(read_file_as_text(file1).split('\\n'))\n",
    "    text2 = ' '.join(read_file_as_text(file2).split('\\n'))\n",
    "    # Text Processing\n",
    "    processed_text1 = text_processing(text1)\n",
    "    processed_text2 = text_processing(text2)\n",
    "    \n",
    "    # Negative Word Movers Distance\n",
    "    return -model.wmdistance(processed_text1, processed_text2)"
   ]
  },
  {
   "cell_type": "code",
   "execution_count": 10,
   "metadata": {},
   "outputs": [
    {
     "name": "stdout",
     "output_type": "stream",
     "text": [
      "Done generating wmd_scores scores for 99569\n",
      "Done\n",
      "Wall time: 1h 27min 57s\n"
     ]
    }
   ],
   "source": [
    "%%time\n",
    "# Calculate WMD similarity for the whole dataset for the first pipeline (Simplify & Summarize)\n",
    "wmd_p1 = calculate_metrics_for_dataset(wmd_scores, pipeline=p1)"
   ]
  },
  {
   "cell_type": "code",
   "execution_count": 11,
   "metadata": {},
   "outputs": [
    {
     "name": "stdout",
     "output_type": "stream",
     "text": [
      "Done generating wmd_scores scores for 99569\n",
      "Done\n",
      "Wall time: 1h 15min 23s\n"
     ]
    }
   ],
   "source": [
    "%%time\n",
    "# Calculate WMD similarity for the whole dataset for the second pipeline (Summarize & Simplify)\n",
    "wmd_p2 = calculate_metrics_for_dataset(wmd_scores, pipeline=p2)"
   ]
  },
  {
   "cell_type": "code",
   "execution_count": null,
   "metadata": {},
   "outputs": [],
   "source": [
    "%%time\n",
    "with open('data/simplify_summary_wmd_scores', 'r', encoding=\"utf8\") as p1_f:\n",
    "    wmd_p1 = json.load(p1_f)\n",
    "\n",
    "with open('data/summary_simplify_wmd_scores', 'r', encoding=\"utf8\") as p2_f:\n",
    "    wmd_p2 = json.load(p2_f)"
   ]
  },
  {
   "cell_type": "code",
   "execution_count": 12,
   "metadata": {},
   "outputs": [],
   "source": [
    "def get_basic_wmd_stats(wmd_scores):\n",
    "\tstats = {}\n",
    "\tstats['average'] = round(sum(wmd_scores.values())/len(wmd_scores), 3)\n",
    "\tstats['max_score'] = round(max(wmd_scores.values()), 3)\n",
    "\tstats['min_score'] = round(min(wmd_scores.values()), 3)\n",
    "\treturn stats"
   ]
  },
  {
   "cell_type": "code",
   "execution_count": 13,
   "metadata": {},
   "outputs": [],
   "source": [
    "wmd_p1_stats = get_basic_wmd_stats(wmd_p1)\n",
    "wmd_p2_stats = get_basic_wmd_stats(wmd_p2)"
   ]
  },
  {
   "cell_type": "code",
   "execution_count": 14,
   "metadata": {},
   "outputs": [
    {
     "name": "stdout",
     "output_type": "stream",
     "text": [
      "WMD Similarity score stats for pipeline 1:  {'average': -0.589, 'max_score': -0.27, 'min_score': -1.028}\n",
      "WMD Similarity score stats for pipeline 2:  {'average': -0.592, 'max_score': -0.242, 'min_score': -0.993}\n"
     ]
    }
   ],
   "source": [
    "print('WMD Similarity score stats for pipeline 1: ' , wmd_p1_stats)\n",
    "print('WMD Similarity score stats for pipeline 2: ' , wmd_p2_stats)"
   ]
  },
  {
   "cell_type": "markdown",
   "metadata": {},
   "source": [
    "## Cross encoder"
   ]
  },
  {
   "cell_type": "code",
   "execution_count": 15,
   "metadata": {},
   "outputs": [
    {
     "data": {
      "application/vnd.jupyter.widget-view+json": {
       "model_id": "01de59d4d382414e8e3dc5159bed8907",
       "version_major": 2,
       "version_minor": 0
      },
      "text/plain": [
       "Downloading:   0%|          | 0.00/608 [00:00<?, ?B/s]"
      ]
     },
     "metadata": {},
     "output_type": "display_data"
    },
    {
     "data": {
      "application/vnd.jupyter.widget-view+json": {
       "model_id": "45c044ffa8334bb99e8c135f21919627",
       "version_major": 2,
       "version_minor": 0
      },
      "text/plain": [
       "Downloading:   0%|          | 0.00/476M [00:00<?, ?B/s]"
      ]
     },
     "metadata": {},
     "output_type": "display_data"
    },
    {
     "data": {
      "application/vnd.jupyter.widget-view+json": {
       "model_id": "47f48253dca245efb8df976e3df346a5",
       "version_major": 2,
       "version_minor": 0
      },
      "text/plain": [
       "Downloading:   0%|          | 0.00/142 [00:00<?, ?B/s]"
      ]
     },
     "metadata": {},
     "output_type": "display_data"
    },
    {
     "data": {
      "application/vnd.jupyter.widget-view+json": {
       "model_id": "37b060039d6b4e0daecc4b3fd76a4a9d",
       "version_major": 2,
       "version_minor": 0
      },
      "text/plain": [
       "Downloading:   0%|          | 0.00/878k [00:00<?, ?B/s]"
      ]
     },
     "metadata": {},
     "output_type": "display_data"
    },
    {
     "data": {
      "application/vnd.jupyter.widget-view+json": {
       "model_id": "763c199d38f8433da77de82c60b298fa",
       "version_major": 2,
       "version_minor": 0
      },
      "text/plain": [
       "Downloading:   0%|          | 0.00/446k [00:00<?, ?B/s]"
      ]
     },
     "metadata": {},
     "output_type": "display_data"
    },
    {
     "data": {
      "application/vnd.jupyter.widget-view+json": {
       "model_id": "8c0408ac1eac4c59be34079cb99e8aa3",
       "version_major": 2,
       "version_minor": 0
      },
      "text/plain": [
       "Downloading:   0%|          | 0.00/772 [00:00<?, ?B/s]"
      ]
     },
     "metadata": {},
     "output_type": "display_data"
    },
    {
     "name": "stdout",
     "output_type": "stream",
     "text": [
      "Wall time: 26.2 s\n"
     ]
    }
   ],
   "source": [
    "%%time\n",
    "from sentence_transformers import CrossEncoder\n",
    "\n",
    "# Load the pre-trained model\n",
    "model = CrossEncoder('cross-encoder/stsb-roberta-base')"
   ]
  },
  {
   "cell_type": "code",
   "execution_count": null,
   "metadata": {},
   "outputs": [],
   "source": [
    "def sbert_x_encoder_scores(file1, file2):\n",
    "    # load text from file as a gle sentence\n",
    "    text1 = ' '.join(read_file_as_text(file1).split('\\n'))\n",
    "    text2 = ' '.join(read_file_as_text(file2).split('\\n'))\n",
    "    # Text Processing\n",
    "    processed_text1 = text_processing(text1)\n",
    "    processed_text2 = text_processing(text2)\n",
    "    \n",
    "    # Negative Word Movers Distance\n",
    "    return model.predict([processed_text1, processed_text2], show_progress_bar=True)"
   ]
  },
  {
   "cell_type": "code",
   "execution_count": null,
   "metadata": {},
   "outputs": [],
   "source": [
    "pprint(sbert_x_encoder_scores('data/wiki-auto/25/simplify_summary/simplified_summary.txt','data/wiki-auto/25/destination.txt'))"
   ]
  }
 ],
 "metadata": {
  "kernelspec": {
   "display_name": "Python 3.6.13 ('nlp')",
   "language": "python",
   "name": "python3"
  },
  "language_info": {
   "codemirror_mode": {
    "name": "ipython",
    "version": 3
   },
   "file_extension": ".py",
   "mimetype": "text/x-python",
   "name": "python",
   "nbconvert_exporter": "python",
   "pygments_lexer": "ipython3",
   "version": "3.6.13"
  },
  "orig_nbformat": 4,
  "vscode": {
   "interpreter": {
    "hash": "5b5c60c725058d497af2559aff8f511a78a8d7ce6eb23d02d51aff3d8215ce57"
   }
  }
 },
 "nbformat": 4,
 "nbformat_minor": 2
}
