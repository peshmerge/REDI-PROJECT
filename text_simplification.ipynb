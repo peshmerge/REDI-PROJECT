{
 "cells": [
  {
   "cell_type": "markdown",
   "metadata": {},
   "source": [
    "# Text simplification \n",
    "using code provided by https://github.com/chaojiang06/wiki-auto\n",
    "Paper link: https://arxiv.org/abs/2005.02324"
   ]
  },
  {
   "cell_type": "markdown",
   "metadata": {},
   "source": [
    "You need tensorflow 2 to be installed to run the code below!"
   ]
  },
  {
   "cell_type": "code",
   "execution_count": 10,
   "metadata": {},
   "outputs": [],
   "source": []
  },
  {
   "cell_type": "markdown",
   "metadata": {},
   "source": []
  },
  {
   "cell_type": "markdown",
   "metadata": {},
   "source": [
    "## Data loading"
   ]
  },
  {
   "cell_type": "markdown",
   "metadata": {},
   "source": [
    "## Data Preprocessing"
   ]
  },
  {
   "cell_type": "code",
   "execution_count": 3,
   "metadata": {},
   "outputs": [],
   "source": [
    "#preprocess test_data/raw test_data/tokenized test_data/binarized\n",
    "def preprocess_data(raw_data_dir,tokenized_data_dir,binarized_data_dir):\n",
    "    !rm -r $binarized_data_dir/*\n",
    "    !rm -r $tokenized_data_dir/*\n",
    "\n",
    "    !python simplification/preprocess/anonymize_wordpiece.py --input $raw_data_dir/test.src --vocab simplification/preprocess/vocab.txt --output  $tokenized_data_dir/test.tok.src\n",
    "    !python simplification/preprocess/anonymize_wordpiece.py --input $raw_data_dir/test.dst --vocab simplification/preprocess/vocab.txt --output  $tokenized_data_dir/test.tok.dst\n",
    "\n",
    "    !python simplification/preprocess/anonymize_wordpiece.py --input $raw_data_dir/valid.src --vocab simplification/preprocess/vocab.txt --output  $tokenized_data_dir/valid.tok.src\n",
    "    !python simplification/preprocess/anonymize_wordpiece.py --input $raw_data_dir/valid.dst --vocab simplification/preprocess/vocab.txt --output  $tokenized_data_dir/valid.tok.dst\n",
    "\n",
    "\n",
    "    !python simplification/preprocess/anonymize_wordpiece.py --input $raw_data_dir/train.src --vocab simplification/preprocess/vocab.txt --output  $tokenized_data_dir/train.tok.src\n",
    "    !python simplification/preprocess/anonymize_wordpiece.py --input $raw_data_dir/train.dst --vocab simplification/preprocess/vocab.txt --output  $tokenized_data_dir/train.tok.dst\n",
    "\n",
    "\n",
    "    # Creates binarized fairseq dataset\n",
    "    !python simplification/preprocess.py --workers 5 --source-lang src --target-lang dst --trainpref $tokenized_data_dir/train.tok --validpref $tokenized_data_dir/valid.tok --testpref $tokenized_data_dir/test.tok --destdir  $binarized_data_dir --padding-factor 1 --joined-dictionary --srcdict simplification/preprocess/vocab_count.txt\n"
   ]
  },
  {
   "cell_type": "code",
   "execution_count": 9,
   "metadata": {},
   "outputs": [
    {
     "name": "stdout",
     "output_type": "stream",
     "text": [
      "2022-06-16 16:49:36.291913: W tensorflow/stream_executor/platform/default/dso_loader.cc:64] Could not load dynamic library 'libcudart.so.11.0'; dlerror: libcudart.so.11.0: cannot open shared object file: No such file or directory\n",
      "2022-06-16 16:49:36.291961: I tensorflow/stream_executor/cuda/cudart_stub.cc:29] Ignore above cudart dlerror if you do not have a GPU set up on your machine.\n",
      "2022-06-16 16:49:39.946393: W tensorflow/stream_executor/platform/default/dso_loader.cc:64] Could not load dynamic library 'libcudart.so.11.0'; dlerror: libcudart.so.11.0: cannot open shared object file: No such file or directory\n",
      "2022-06-16 16:49:39.946439: I tensorflow/stream_executor/cuda/cudart_stub.cc:29] Ignore above cudart dlerror if you do not have a GPU set up on your machine.\n",
      "2022-06-16 16:49:43.514139: W tensorflow/stream_executor/platform/default/dso_loader.cc:64] Could not load dynamic library 'libcudart.so.11.0'; dlerror: libcudart.so.11.0: cannot open shared object file: No such file or directory\n",
      "2022-06-16 16:49:43.514195: I tensorflow/stream_executor/cuda/cudart_stub.cc:29] Ignore above cudart dlerror if you do not have a GPU set up on your machine.\n",
      "2022-06-16 16:49:47.420204: W tensorflow/stream_executor/platform/default/dso_loader.cc:64] Could not load dynamic library 'libcudart.so.11.0'; dlerror: libcudart.so.11.0: cannot open shared object file: No such file or directory\n",
      "2022-06-16 16:49:47.420256: I tensorflow/stream_executor/cuda/cudart_stub.cc:29] Ignore above cudart dlerror if you do not have a GPU set up on your machine.\n",
      "2022-06-16 16:49:51.375215: W tensorflow/stream_executor/platform/default/dso_loader.cc:64] Could not load dynamic library 'libcudart.so.11.0'; dlerror: libcudart.so.11.0: cannot open shared object file: No such file or directory\n",
      "2022-06-16 16:49:51.375275: I tensorflow/stream_executor/cuda/cudart_stub.cc:29] Ignore above cudart dlerror if you do not have a GPU set up on your machine.\n",
      "2022-06-16 16:49:55.458799: W tensorflow/stream_executor/platform/default/dso_loader.cc:64] Could not load dynamic library 'libcudart.so.11.0'; dlerror: libcudart.so.11.0: cannot open shared object file: No such file or directory\n",
      "2022-06-16 16:49:55.458850: I tensorflow/stream_executor/cuda/cudart_stub.cc:29] Ignore above cudart dlerror if you do not have a GPU set up on your machine.\n",
      "2022-06-16 16:50:00.432112: W tensorflow/stream_executor/platform/default/dso_loader.cc:64] Could not load dynamic library 'libcudart.so.11.0'; dlerror: libcudart.so.11.0: cannot open shared object file: No such file or directory\n",
      "2022-06-16 16:50:00.432157: I tensorflow/stream_executor/cuda/cudart_stub.cc:29] Ignore above cudart dlerror if you do not have a GPU set up on your machine.\n",
      "Namespace(alignfile=None, cpu=False, criterion='cross_entropy', dataset_impl='cached', destdir='simplification/test_data/binarized', fp16=False, fp16_init_scale=128, fp16_scale_tolerance=0.0, fp16_scale_window=None, joined_dictionary=True, log_format=None, log_interval=1000, lr_scheduler='fixed', memory_efficient_fp16=False, min_loss_scale=0.0001, no_progress_bar=False, nwordssrc=-1, nwordstgt=-1, only_source=False, optimizer='nag', padding_factor=1, seed=1, source_lang='src', srcdict='simplification/preprocess/vocab_count.txt', target_lang='dst', task='translation', tbmf_wrapper=False, tensorboard_logdir='', testpref='simplification/test_data/tokenized/test.tok', tgtdict=None, threshold_loss_scale=None, thresholdsrc=0, thresholdtgt=0, trainpref='simplification/test_data/tokenized/train.tok', user_dir=None, validpref='simplification/test_data/tokenized/valid.tok', workers=5)\n",
      "| [src] Dictionary: 30525 types\n",
      "| [src] simplification/test_data/tokenized/train.tok.src: 50 sents, 2205 tokens, 0.0% replaced by <unk>\n",
      "| [src] Dictionary: 30525 types\n",
      "| [src] simplification/test_data/tokenized/valid.tok.src: 10 sents, 382 tokens, 0.0% replaced by <unk>\n",
      "| [src] Dictionary: 30525 types\n",
      "| [src] simplification/test_data/tokenized/test.tok.src: 9 sents, 967 tokens, 0.0% replaced by <unk>\n",
      "| [dst] Dictionary: 30525 types\n",
      "| [dst] simplification/test_data/tokenized/train.tok.dst: 50 sents, 1872 tokens, 0.0% replaced by <unk>\n",
      "| [dst] Dictionary: 30525 types\n",
      "| [dst] simplification/test_data/tokenized/valid.tok.dst: 10 sents, 355 tokens, 0.0% replaced by <unk>\n",
      "| [dst] Dictionary: 30525 types\n",
      "| [dst] simplification/test_data/tokenized/test.tok.dst: 9 sents, 967 tokens, 0.0% replaced by <unk>\n",
      "| Wrote preprocessed data to simplification/test_data/binarized\n"
     ]
    }
   ],
   "source": [
    "preprocess_data('simplification/test_data/raw','simplification/test_data/tokenized','simplification/test_data/binarized')"
   ]
  },
  {
   "cell_type": "markdown",
   "metadata": {},
   "source": [
    "## Text simplification generation"
   ]
  },
  {
   "cell_type": "code",
   "execution_count": 7,
   "metadata": {},
   "outputs": [],
   "source": [
    "def generate_simplified_text(binarized_data_dir,output_file,checkpoint_file, gpu_id=\"\", split=\"test\"):\n",
    "    print(\"Generating using checkpoint\" , {checkpoint_file})\n",
    "    print()\n",
    "    !echo $output_file'.aner'\n",
    "\n",
    "    !export CUDA_VISIBLE_DEVICES=$gpu_id \n",
    "    !python simplification/generate.py $binarized_data_dir --path $checkpoint_file --batch-size 32  --beam 1 --nbest 1 --user-dir simplification/my_model/ --print-alignment --gen-subset $split > $output_file'.aner'\n",
    "\n",
    "    !python simplification/postprocess/bpe.py  --out_anon $output_file'.aner' --denon $output_file --ignore_lines 5 --wp 1\n",
    "\n",
    "    !rm $output_file'.aner'"
   ]
  },
  {
   "cell_type": "code",
   "execution_count": 10,
   "metadata": {},
   "outputs": [
    {
     "name": "stdout",
     "output_type": "stream",
     "text": [
      "Generating using checkpoint {'checkpoints/checkpoint_wiki_auto.pt'}\n",
      "\n",
      "simplification/0001.txt.aner\n",
      "2022-06-16 16:50:47.774006: W tensorflow/stream_executor/platform/default/dso_loader.cc:64] Could not load dynamic library 'libcudart.so.11.0'; dlerror: libcudart.so.11.0: cannot open shared object file: No such file or directory\n",
      "2022-06-16 16:50:47.774053: I tensorflow/stream_executor/cuda/cudart_stub.cc:29] Ignore above cudart dlerror if you do not have a GPU set up on your machine.\n",
      "                                                                                \r"
     ]
    }
   ],
   "source": [
    "generate_simplified_text('simplification/test_data/binarized','simplification/0001.txt','checkpoints/checkpoint_wiki_auto.pt',0,\"test\")"
   ]
  }
 ],
 "metadata": {
  "kernelspec": {
   "display_name": "Python 3.6.13 ('py36')",
   "language": "python",
   "name": "python3"
  },
  "language_info": {
   "codemirror_mode": {
    "name": "ipython",
    "version": 3
   },
   "file_extension": ".py",
   "mimetype": "text/x-python",
   "name": "python",
   "nbconvert_exporter": "python",
   "pygments_lexer": "ipython3",
   "version": "3.6.13"
  },
  "orig_nbformat": 4,
  "vscode": {
   "interpreter": {
    "hash": "b05898d6406f5fb4cb652f7e2279c0b443d9b6858086f059923d2604af447e74"
   }
  }
 },
 "nbformat": 4,
 "nbformat_minor": 2
}
